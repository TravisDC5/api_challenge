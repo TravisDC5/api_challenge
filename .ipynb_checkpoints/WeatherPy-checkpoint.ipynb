{
 "cells": [
  {
   "cell_type": "markdown",
   "metadata": {},
   "source": [
    "# Observations"
   ]
  },
  {
   "cell_type": "markdown",
   "metadata": {},
   "source": [
    "* Observing the data, at the equator (0 lattitude), shows the highest temperature values in a condensed cluster, this is because there is minimal change in distance from the run regardless of which hemisphere is in its summer or winter cycle (think planet tilt); cities closest to the equator generally stay hotter with consistent clear weather climate; while the latitudes in the positive and negative increase will have non consistent temperatures due to there localized climate.\n",
    "* Being the hottest location at the equator (0 lattitude), the data shows it to have a consistent humidity percentage at the equator; whereas as you move away from the equator its more sporadic which is due to variety of weather patterns and differences between temperatures. \n",
    "* Clouds and Wind Speed have no real correlation as these can fluctuate more frequently during one day cycle then compared to temperature; coriolis plays a big role along with pressure differentials which can cause an increase or decrease in winds, while cloud travel will be determined by how fast or slow they'll move across the sky depending on the winds, so it is much harder to predict.\n",
    "\n",
    "interesting website to observe these trends in real-time: https://earth.nullschool.net/"
   ]
  },
  {
   "cell_type": "markdown",
   "metadata": {},
   "source": [
    "# WeatherPy\n",
    "----\n",
    "\n",
    "#### Note\n",
    "* Instructions have been included for each segment. You do not have to follow them exactly, but they are included to help you think through the steps."
   ]
  },
  {
   "cell_type": "code",
   "execution_count": 1,
   "metadata": {
    "scrolled": true
   },
   "outputs": [],
   "source": [
    "# Dependencies and Setup\n",
    "import matplotlib.pyplot as plt\n",
    "import pandas as pd\n",
    "import numpy as np\n",
    "import requests\n",
    "import time\n",
    "from scipy.stats import linregress\n",
    "\n",
    "# Import API key\n",
    "from api_keys import weather_api_key\n",
    "\n",
    "# Incorporated citipy to determine city based on latitude and longitude\n",
    "from citipy import citipy\n",
    "\n",
    "# Output File (CSV)\n",
    "output_data_file = \"output_data/cities.csv\"\n",
    "\n",
    "# Range of latitudes and longitudes\n",
    "lat_range = (-90, 90)\n",
    "lng_range = (-180, 180)"
   ]
  },
  {
   "cell_type": "markdown",
   "metadata": {},
   "source": [
    "## Generate Cities List"
   ]
  },
  {
   "cell_type": "code",
   "execution_count": 2,
   "metadata": {},
   "outputs": [
    {
     "data": {
      "text/plain": [
       "619"
      ]
     },
     "execution_count": 2,
     "metadata": {},
     "output_type": "execute_result"
    }
   ],
   "source": [
    "# List for holding lat_lngs and cities\n",
    "lat_lngs = []\n",
    "cities = []\n",
    "\n",
    "# Create a set of random lat and lng combinations\n",
    "lats = np.random.uniform(lat_range[0], lat_range[1], size=1500)\n",
    "lngs = np.random.uniform(lng_range[0], lng_range[1], size=1500)\n",
    "lat_lngs = zip(lats, lngs)\n",
    "\n",
    "# Identify nearest city for each lat, lng combination\n",
    "for lat_lng in lat_lngs:\n",
    "    city = citipy.nearest_city(lat_lng[0], lat_lng[1]).city_name\n",
    "    \n",
    "    # If the city is unique, then add it to a our cities list\n",
    "    if city not in cities:\n",
    "        cities.append(city)\n",
    "\n",
    "# Print the city count to confirm sufficient count\n",
    "len(cities)"
   ]
  },
  {
   "cell_type": "code",
   "execution_count": 3,
   "metadata": {},
   "outputs": [
    {
     "data": {
      "text/plain": [
       "'atuona'"
      ]
     },
     "execution_count": 3,
     "metadata": {},
     "output_type": "execute_result"
    }
   ],
   "source": [
    "cities[0]"
   ]
  },
  {
   "cell_type": "markdown",
   "metadata": {},
   "source": [
    "### Perform API Calls\n",
    "* Perform a weather check on each city using a series of successive API calls.\n",
    "* Include a print log of each city as it'sbeing processed (with the city number and city name).\n"
   ]
  },
  {
   "cell_type": "code",
   "execution_count": 4,
   "metadata": {},
   "outputs": [],
   "source": [
    "# url for accessing  api data from openweather\n",
    "url = \"http://api.openweathermap.org/data/2.5/weather?units=Imperial&APPID=\" + weather_api_key"
   ]
  },
  {
   "cell_type": "code",
   "execution_count": 5,
   "metadata": {},
   "outputs": [
    {
     "name": "stdout",
     "output_type": "stream",
     "text": [
      "http://api.openweathermap.org/data/2.5/weather?units=Imperial&APPID=b3ff37a40edf22f7c0171626f6994478\n"
     ]
    }
   ],
   "source": [
    "print(url)"
   ]
  },
  {
   "cell_type": "code",
   "execution_count": 6,
   "metadata": {},
   "outputs": [
    {
     "name": "stdout",
     "output_type": "stream",
     "text": [
      "Beginning Data Retrieval\n",
      "------------------------------------------\n",
      "Processing Record 1 of set 1 | atuona\n",
      "Processing Record 2 of set 1 | punta arenas\n",
      "Processing Record 3 of set 1 | kavaratti\n",
      "Processing Record 4 of set 1 | kaitangata\n",
      "Processing Record 5 of set 1 | thompson\n",
      "Processing Record 6 of set 1 | butaritari\n",
      "Processing Record 7 of set 1 | albany\n",
      "Processing Record 8 of set 1 | vaini\n",
      "Processing Record 9 of set 1 | barrow\n",
      "Processing Record 10 of set 1 | port alfred\n",
      "Processing Record 11 of set 1 | ushuaia\n",
      "Processing Record 12 of set 1 | chuy\n",
      "Processing Record 13 of set 1 | bluff\n",
      "Processing Record 14 of set 1 | clarence town\n",
      "Processing Record 15 of set 1 | camocim\n",
      "Processing Record 16 of set 1 | goderich\n",
      "Processing Record 17 of set 1 | nikolskoye\n",
      "Processing Record 18 of set 1 | sonoita\n",
      "barentsburg not found. Skipping...\n",
      "Processing Record 19 of set 1 | souillac\n",
      "Processing Record 20 of set 1 | kapaa\n",
      "Processing Record 21 of set 1 | vostok\n",
      "Processing Record 22 of set 1 | lac du bonnet\n",
      "Processing Record 23 of set 1 | eregli\n",
      "Processing Record 24 of set 1 | yeppoon\n",
      "Processing Record 25 of set 1 | qaanaaq\n",
      "Processing Record 26 of set 1 | cabedelo\n",
      "Processing Record 27 of set 1 | zharkent\n",
      "Processing Record 28 of set 1 | busselton\n",
      "vaitupu not found. Skipping...\n",
      "Processing Record 29 of set 1 | cape town\n",
      "Processing Record 30 of set 1 | stornoway\n",
      "Processing Record 31 of set 1 | mataura\n",
      "Processing Record 32 of set 1 | torbay\n",
      "Processing Record 33 of set 1 | bengkulu\n",
      "Processing Record 34 of set 1 | hermanus\n",
      "grand river south east not found. Skipping...\n",
      "Processing Record 35 of set 1 | luderitz\n",
      "cam pha not found. Skipping...\n",
      "Processing Record 36 of set 1 | yerbogachen\n",
      "Processing Record 37 of set 1 | lerwick\n",
      "Processing Record 38 of set 1 | long beach\n",
      "Processing Record 39 of set 1 | rikitea\n",
      "Processing Record 40 of set 1 | port blair\n",
      "Processing Record 41 of set 1 | krasnoselkup\n",
      "Processing Record 42 of set 1 | itoman\n",
      "Processing Record 43 of set 1 | half moon bay\n",
      "Processing Record 44 of set 1 | sao geraldo do araguaia\n",
      "Processing Record 45 of set 1 | avarua\n",
      "belushya guba not found. Skipping...\n",
      "Processing Record 46 of set 1 | new norfolk\n",
      "Processing Record 47 of set 1 | yarkovo\n",
      "Processing Record 48 of set 1 | khatanga\n",
      "Processing Record 49 of set 1 | ober-ramstadt\n",
      "Processing Record 50 of set 1 | romitan\n",
      "Processing Record 1 of set 2 | lake city\n",
      "Processing Record 2 of set 2 | katsina\n",
      "Processing Record 3 of set 2 | kodiak\n",
      "labutta not found. Skipping...\n",
      "Processing Record 4 of set 2 | cherskiy\n",
      "Processing Record 5 of set 2 | torez\n",
      "Processing Record 6 of set 2 | whitehorse\n",
      "Processing Record 7 of set 2 | beringovskiy\n",
      "Processing Record 8 of set 2 | hearst\n",
      "Processing Record 9 of set 2 | banda aceh\n",
      "Processing Record 10 of set 2 | malakal\n",
      "Processing Record 11 of set 2 | mount gambier\n",
      "Processing Record 12 of set 2 | georgetown\n",
      "Processing Record 13 of set 2 | hilo\n",
      "nizhneyansk not found. Skipping...\n",
      "Processing Record 14 of set 2 | guarapari\n",
      "Processing Record 15 of set 2 | iranshahr\n",
      "Processing Record 16 of set 2 | yellowknife\n",
      "Processing Record 17 of set 2 | santa maria\n",
      "Processing Record 18 of set 2 | inhambane\n",
      "Processing Record 19 of set 2 | saskylakh\n",
      "Processing Record 20 of set 2 | guerrero negro\n",
      "Processing Record 21 of set 2 | iqaluit\n",
      "Processing Record 22 of set 2 | hervey bay\n",
      "Processing Record 23 of set 2 | tasiilaq\n",
      "Processing Record 24 of set 2 | ambilobe\n",
      "Processing Record 25 of set 2 | ampanihy\n",
      "Processing Record 26 of set 2 | pisco\n",
      "Processing Record 27 of set 2 | san patricio\n",
      "Processing Record 28 of set 2 | jamestown\n",
      "Processing Record 29 of set 2 | lhokseumawe\n",
      "Processing Record 30 of set 2 | belmonte\n",
      "taolanaro not found. Skipping...\n",
      "Processing Record 31 of set 2 | shelburne\n",
      "Processing Record 32 of set 2 | acajutla\n",
      "Processing Record 33 of set 2 | kiama\n",
      "Processing Record 34 of set 2 | bulgan\n",
      "kuche not found. Skipping...\n",
      "Processing Record 35 of set 2 | stranda\n",
      "Processing Record 36 of set 2 | dikson\n",
      "Processing Record 37 of set 2 | sangar\n",
      "tarudant not found. Skipping...\n",
      "Processing Record 38 of set 2 | kulhudhuffushi\n",
      "Processing Record 39 of set 2 | stargard szczecinski\n",
      "tsihombe not found. Skipping...\n",
      "Processing Record 40 of set 2 | bambous virieux\n",
      "Processing Record 41 of set 2 | shenkursk\n",
      "Processing Record 42 of set 2 | bredasdorp\n",
      "Processing Record 43 of set 2 | channel-port aux basques\n",
      "Processing Record 44 of set 2 | mumford\n",
      "Processing Record 45 of set 2 | chokurdakh\n",
      "Processing Record 46 of set 2 | talara\n",
      "Processing Record 47 of set 2 | sahuaripa\n",
      "Processing Record 48 of set 2 | nuuk\n",
      "Processing Record 49 of set 2 | semibratovo\n",
      "Processing Record 50 of set 2 | socorro\n",
      "Processing Record 1 of set 3 | amecameca\n",
      "Processing Record 2 of set 3 | northam\n",
      "Processing Record 3 of set 3 | tura\n",
      "Processing Record 4 of set 3 | bafoulabe\n",
      "Processing Record 5 of set 3 | baykit\n",
      "Processing Record 6 of set 3 | kutina\n",
      "Processing Record 7 of set 3 | jaciara\n",
      "Processing Record 8 of set 3 | longyearbyen\n",
      "Processing Record 9 of set 3 | quelimane\n",
      "Processing Record 10 of set 3 | salalah\n",
      "Processing Record 11 of set 3 | saint george\n",
      "Processing Record 12 of set 3 | mooresville\n",
      "Processing Record 13 of set 3 | dire\n",
      "Processing Record 14 of set 3 | tuktoyaktuk\n",
      "Processing Record 15 of set 3 | keokuk\n",
      "Processing Record 16 of set 3 | chengdu\n",
      "Processing Record 17 of set 3 | nyagan\n",
      "Processing Record 18 of set 3 | caravelas\n",
      "Processing Record 19 of set 3 | demirci\n",
      "Processing Record 20 of set 3 | golden\n",
      "Processing Record 21 of set 3 | bandarbeyla\n",
      "Processing Record 22 of set 3 | atar\n",
      "Processing Record 23 of set 3 | byron bay\n",
      "Processing Record 24 of set 3 | richards bay\n",
      "Processing Record 25 of set 3 | springbok\n",
      "tabiauea not found. Skipping...\n",
      "Processing Record 26 of set 3 | upernavik\n",
      "Processing Record 27 of set 3 | east london\n",
      "Processing Record 28 of set 3 | hithadhoo\n",
      "Processing Record 29 of set 3 | dzaoudzi\n",
      "Processing Record 30 of set 3 | esperance\n",
      "Processing Record 31 of set 3 | faya\n",
      "Processing Record 32 of set 3 | vila franca do campo\n",
      "Processing Record 33 of set 3 | jequie\n",
      "Processing Record 34 of set 3 | pitimbu\n",
      "Processing Record 35 of set 3 | victoria\n",
      "Processing Record 36 of set 3 | port hardy\n",
      "Processing Record 37 of set 3 | mar del plata\n",
      "Processing Record 38 of set 3 | kampot\n",
      "Processing Record 39 of set 3 | mount isa\n",
      "Processing Record 40 of set 3 | nemuro\n",
      "Processing Record 41 of set 3 | saldanha\n",
      "Processing Record 42 of set 3 | porangatu\n",
      "Processing Record 43 of set 3 | thaba-tseka\n",
      "Processing Record 44 of set 3 | aykhal\n",
      "Processing Record 45 of set 3 | kenai\n",
      "kazalinsk not found. Skipping...\n",
      "Processing Record 46 of set 3 | port elizabeth\n",
      "Processing Record 47 of set 3 | tevriz\n",
      "Processing Record 48 of set 3 | cidreira\n",
      "Processing Record 49 of set 3 | tanout\n",
      "Processing Record 50 of set 3 | touros\n",
      "Processing Record 1 of set 4 | gejiu\n",
      "Processing Record 2 of set 4 | severo-kurilsk\n",
      "Processing Record 3 of set 4 | vardo\n",
      "Processing Record 4 of set 4 | serenje\n",
      "Processing Record 5 of set 4 | kahului\n",
      "Processing Record 6 of set 4 | mazamet\n",
      "Processing Record 7 of set 4 | westport\n",
      "amderma not found. Skipping...\n",
      "Processing Record 8 of set 4 | saint anthony\n",
      "Processing Record 9 of set 4 | qatana\n",
      "Processing Record 10 of set 4 | carnarvon\n",
      "Processing Record 11 of set 4 | hobart\n",
      "Processing Record 12 of set 4 | copiapo\n",
      "Processing Record 13 of set 4 | coari\n",
      "Processing Record 14 of set 4 | jalu\n",
      "Processing Record 15 of set 4 | ascension\n",
      "Processing Record 16 of set 4 | namatanai\n",
      "Processing Record 17 of set 4 | okha\n",
      "Processing Record 18 of set 4 | dingle\n",
      "Processing Record 19 of set 4 | dhidhdhoo\n",
      "Processing Record 20 of set 4 | elko\n",
      "Processing Record 21 of set 4 | saint-philippe\n",
      "Processing Record 22 of set 4 | chulym\n",
      "Processing Record 23 of set 4 | leningradskiy\n",
      "Processing Record 24 of set 4 | ilulissat\n",
      "Processing Record 25 of set 4 | komsomolskiy\n",
      "Processing Record 26 of set 4 | nanortalik\n",
      "Processing Record 27 of set 4 | raga\n",
      "Processing Record 28 of set 4 | moussoro\n",
      "Processing Record 29 of set 4 | yulara\n",
      "Processing Record 30 of set 4 | fairbanks\n",
      "Processing Record 31 of set 4 | gobabis\n",
      "Processing Record 32 of set 4 | homer\n",
      "Processing Record 33 of set 4 | saint-leu\n",
      "bandar-e torkaman not found. Skipping...\n",
      "Processing Record 34 of set 4 | provideniya\n",
      "Processing Record 35 of set 4 | asau\n"
     ]
    },
    {
     "name": "stdout",
     "output_type": "stream",
     "text": [
      "Processing Record 36 of set 4 | havre-saint-pierre\n",
      "Processing Record 37 of set 4 | luanda\n",
      "Processing Record 38 of set 4 | vaitape\n",
      "Processing Record 39 of set 4 | makhachkala\n",
      "Processing Record 40 of set 4 | nizhniy odes\n",
      "Processing Record 41 of set 4 | gloucester\n",
      "Processing Record 42 of set 4 | watsa\n",
      "Processing Record 43 of set 4 | jackson\n",
      "Processing Record 44 of set 4 | camana\n",
      "Processing Record 45 of set 4 | namibe\n",
      "Processing Record 46 of set 4 | palencia\n",
      "Processing Record 47 of set 4 | comodoro rivadavia\n",
      "Processing Record 48 of set 4 | norman wells\n",
      "Processing Record 49 of set 4 | lagoa\n",
      "Processing Record 50 of set 4 | sangueya\n",
      "Processing Record 1 of set 5 | castro\n",
      "Processing Record 2 of set 5 | mehamn\n",
      "Processing Record 3 of set 5 | adrar\n",
      "Processing Record 4 of set 5 | mankono\n",
      "Processing Record 5 of set 5 | uruguaiana\n",
      "Processing Record 6 of set 5 | ishinomaki\n",
      "Processing Record 7 of set 5 | puerto ayora\n",
      "Processing Record 8 of set 5 | lavrentiya\n",
      "Processing Record 9 of set 5 | vestmannaeyjar\n",
      "Processing Record 10 of set 5 | paez\n",
      "Processing Record 11 of set 5 | sioux lookout\n",
      "Processing Record 12 of set 5 | angoram\n",
      "Processing Record 13 of set 5 | zambezi\n",
      "Processing Record 14 of set 5 | vila do maio\n",
      "potgietersrus not found. Skipping...\n",
      "Processing Record 15 of set 5 | aktau\n",
      "Processing Record 16 of set 5 | quatre cocos\n",
      "Processing Record 17 of set 5 | paamiut\n",
      "Processing Record 18 of set 5 | tocopilla\n",
      "Processing Record 19 of set 5 | hadejia\n",
      "Processing Record 20 of set 5 | bubaque\n",
      "Processing Record 21 of set 5 | sakti\n",
      "Processing Record 22 of set 5 | zhigansk\n",
      "Processing Record 23 of set 5 | henties bay\n",
      "Processing Record 24 of set 5 | oum hadjer\n",
      "Processing Record 25 of set 5 | fort nelson\n",
      "Processing Record 26 of set 5 | astoria\n",
      "Processing Record 27 of set 5 | barranca\n",
      "Processing Record 28 of set 5 | viedma\n",
      "Processing Record 29 of set 5 | los llanos de aridane\n",
      "Processing Record 30 of set 5 | bonoua\n",
      "Processing Record 31 of set 5 | kavieng\n",
      "sorvag not found. Skipping...\n",
      "Processing Record 32 of set 5 | horsham\n",
      "Processing Record 33 of set 5 | beira\n",
      "Processing Record 34 of set 5 | marienburg\n",
      "Processing Record 35 of set 5 | flinders\n",
      "Processing Record 36 of set 5 | gilgit\n",
      "Processing Record 37 of set 5 | honiara\n",
      "Processing Record 38 of set 5 | caxito\n",
      "Processing Record 39 of set 5 | clyde river\n",
      "Processing Record 40 of set 5 | usinsk\n",
      "Processing Record 41 of set 5 | mahebourg\n",
      "Processing Record 42 of set 5 | marawi\n",
      "Processing Record 43 of set 5 | batemans bay\n",
      "kamenskoye not found. Skipping...\n",
      "fort saint john not found. Skipping...\n",
      "Processing Record 44 of set 5 | turukhansk\n",
      "Processing Record 45 of set 5 | portland\n",
      "Processing Record 46 of set 5 | arraial do cabo\n",
      "Processing Record 47 of set 5 | berlevag\n",
      "Processing Record 48 of set 5 | san cristobal\n",
      "Processing Record 49 of set 5 | poum\n",
      "Processing Record 50 of set 5 | hare bay\n",
      "Processing Record 1 of set 6 | raymondville\n",
      "Processing Record 2 of set 6 | grindavik\n",
      "Processing Record 3 of set 6 | dunedin\n",
      "Processing Record 4 of set 6 | sars\n",
      "Processing Record 5 of set 6 | lulea\n",
      "Processing Record 6 of set 6 | antananarivo\n",
      "Processing Record 7 of set 6 | coquimbo\n",
      "Processing Record 8 of set 6 | tabuny\n",
      "Processing Record 9 of set 6 | tecoanapa\n",
      "Processing Record 10 of set 6 | quixada\n",
      "Processing Record 11 of set 6 | luganville\n",
      "Processing Record 12 of set 6 | tual\n",
      "Processing Record 13 of set 6 | pangody\n",
      "Processing Record 14 of set 6 | yatou\n",
      "Processing Record 15 of set 6 | cabo san lucas\n",
      "Processing Record 16 of set 6 | ancud\n",
      "Processing Record 17 of set 6 | svetlogorsk\n",
      "Processing Record 18 of set 6 | rovnoye\n",
      "Processing Record 19 of set 6 | maridi\n",
      "Processing Record 20 of set 6 | burns lake\n",
      "Processing Record 21 of set 6 | sept-iles\n",
      "Processing Record 22 of set 6 | linqiong\n",
      "podbelsk not found. Skipping...\n",
      "Processing Record 23 of set 6 | leh\n",
      "Processing Record 24 of set 6 | cortes\n",
      "Processing Record 25 of set 6 | pevek\n",
      "Processing Record 26 of set 6 | chumikan\n",
      "Processing Record 27 of set 6 | saryozek\n",
      "Processing Record 28 of set 6 | saint-louis\n",
      "tumannyy not found. Skipping...\n",
      "illoqqortoormiut not found. Skipping...\n",
      "Processing Record 29 of set 6 | teguldet\n",
      "mys shmidta not found. Skipping...\n",
      "Processing Record 30 of set 6 | hasaki\n",
      "Processing Record 31 of set 6 | port macquarie\n",
      "Processing Record 32 of set 6 | lorengau\n",
      "Processing Record 33 of set 6 | brae\n",
      "Processing Record 34 of set 6 | alofi\n",
      "Processing Record 35 of set 6 | niltepec\n",
      "Processing Record 36 of set 6 | otjiwarongo\n",
      "Processing Record 37 of set 6 | dulce grande\n",
      "Processing Record 38 of set 6 | ahar\n",
      "Processing Record 39 of set 6 | dosso\n",
      "Processing Record 40 of set 6 | laredo\n",
      "Processing Record 41 of set 6 | birjand\n",
      "Processing Record 42 of set 6 | old town\n",
      "Processing Record 43 of set 6 | coahuayana\n",
      "Processing Record 44 of set 6 | peniche\n",
      "Processing Record 45 of set 6 | lebu\n",
      "Processing Record 46 of set 6 | ust-nera\n",
      "Processing Record 47 of set 6 | disna\n",
      "mullaitivu not found. Skipping...\n",
      "Processing Record 48 of set 6 | suntar\n",
      "Processing Record 49 of set 6 | carutapera\n",
      "Processing Record 50 of set 6 | isangel\n",
      "Processing Record 1 of set 7 | mackenzie\n",
      "Processing Record 2 of set 7 | ozernovskiy\n",
      "Processing Record 3 of set 7 | makakilo city\n",
      "Processing Record 4 of set 7 | bandiagara\n",
      "Processing Record 5 of set 7 | biltine\n",
      "Processing Record 6 of set 7 | bull savanna\n",
      "Processing Record 7 of set 7 | umm lajj\n",
      "Processing Record 8 of set 7 | meadow lake\n",
      "Processing Record 9 of set 7 | mitha tiwana\n",
      "Processing Record 10 of set 7 | iberia\n",
      "Processing Record 11 of set 7 | muzaffargarh\n",
      "Processing Record 12 of set 7 | codrington\n",
      "Processing Record 13 of set 7 | noumea\n",
      "Processing Record 14 of set 7 | tiksi\n",
      "Processing Record 15 of set 7 | virginia beach\n",
      "Processing Record 16 of set 7 | bethel\n",
      "Processing Record 17 of set 7 | emilio carranza\n",
      "Processing Record 18 of set 7 | kitimat\n",
      "Processing Record 19 of set 7 | anamur\n",
      "Processing Record 20 of set 7 | ust-karsk\n",
      "Processing Record 21 of set 7 | bambanglipuro\n",
      "Processing Record 22 of set 7 | kyzyl-suu\n",
      "Processing Record 23 of set 7 | praia da vitoria\n",
      "Processing Record 24 of set 7 | apozol\n",
      "Processing Record 25 of set 7 | ahipara\n",
      "denau not found. Skipping...\n",
      "Processing Record 26 of set 7 | gat\n",
      "Processing Record 27 of set 7 | fortuna\n",
      "Processing Record 28 of set 7 | ariquemes\n",
      "Processing Record 29 of set 7 | airai\n",
      "Processing Record 30 of set 7 | ambon\n",
      "Processing Record 31 of set 7 | upata\n",
      "Processing Record 32 of set 7 | gympie\n",
      "Processing Record 33 of set 7 | bonavista\n",
      "Processing Record 34 of set 7 | sao filipe\n",
      "Processing Record 35 of set 7 | areia branca\n",
      "Processing Record 36 of set 7 | hambantota\n",
      "Processing Record 37 of set 7 | plettenberg bay\n",
      "Processing Record 38 of set 7 | kununurra\n",
      "Processing Record 39 of set 7 | nagato\n",
      "Processing Record 40 of set 7 | mlawa\n",
      "Processing Record 41 of set 7 | mokhsogollokh\n",
      "Processing Record 42 of set 7 | samarai\n",
      "Processing Record 43 of set 7 | puerto narino\n",
      "Processing Record 44 of set 7 | boyabat\n",
      "Processing Record 45 of set 7 | kilindoni\n",
      "Processing Record 46 of set 7 | petropavlovsk-kamchatskiy\n",
      "Processing Record 47 of set 7 | merauke\n",
      "Processing Record 48 of set 7 | phitsanulok\n",
      "Processing Record 49 of set 7 | buala\n",
      "Processing Record 50 of set 7 | kharopon\n",
      "Processing Record 1 of set 8 | talnakh\n",
      "Processing Record 2 of set 8 | barcelos\n",
      "Processing Record 3 of set 8 | toora-khem\n",
      "Processing Record 4 of set 8 | vila velha\n",
      "Processing Record 5 of set 8 | rantauprapat\n",
      "Processing Record 6 of set 8 | necochea\n",
      "Processing Record 7 of set 8 | najran\n",
      "Processing Record 8 of set 8 | alvorada\n",
      "Processing Record 9 of set 8 | muroto\n",
      "Processing Record 10 of set 8 | faanui\n",
      "Processing Record 11 of set 8 | hamilton\n",
      "Processing Record 12 of set 8 | boo\n",
      "Processing Record 13 of set 8 | havelock\n",
      "Processing Record 14 of set 8 | todos santos\n",
      "Processing Record 15 of set 8 | ngunguru\n",
      "Processing Record 16 of set 8 | tessalit\n",
      "kracheh not found. Skipping...\n",
      "Processing Record 17 of set 8 | gamboula\n",
      "samusu not found. Skipping...\n",
      "Processing Record 18 of set 8 | bara\n",
      "Processing Record 19 of set 8 | aguilas\n",
      "Processing Record 20 of set 8 | saint-augustin\n",
      "Processing Record 21 of set 8 | aksu\n",
      "Processing Record 22 of set 8 | juegang\n",
      "Processing Record 23 of set 8 | bouca\n",
      "Processing Record 24 of set 8 | tazovskiy\n"
     ]
    },
    {
     "name": "stdout",
     "output_type": "stream",
     "text": [
      "Processing Record 25 of set 8 | maarianhamina\n",
      "Processing Record 26 of set 8 | jurado\n",
      "Processing Record 27 of set 8 | beloha\n",
      "Processing Record 28 of set 8 | trinidad\n",
      "Processing Record 29 of set 8 | ostrovnoy\n",
      "Processing Record 30 of set 8 | amahai\n",
      "Processing Record 31 of set 8 | mubi\n",
      "sidi bu zayd not found. Skipping...\n",
      "Processing Record 32 of set 8 | storforshei\n",
      "Processing Record 33 of set 8 | vestmanna\n",
      "Processing Record 34 of set 8 | acarau\n",
      "Processing Record 35 of set 8 | shimoda\n",
      "Processing Record 36 of set 8 | sistranda\n",
      "Processing Record 37 of set 8 | acari\n",
      "Processing Record 38 of set 8 | rawson\n",
      "Processing Record 39 of set 8 | fukue\n",
      "Processing Record 40 of set 8 | tambura\n",
      "Processing Record 41 of set 8 | hit\n",
      "Processing Record 42 of set 8 | lloydminster\n",
      "eldikan not found. Skipping...\n",
      "Processing Record 43 of set 8 | siaya\n",
      "Processing Record 44 of set 8 | avera\n",
      "marcona not found. Skipping...\n",
      "Processing Record 45 of set 8 | constitucion\n",
      "Processing Record 46 of set 8 | narsaq\n",
      "hunza not found. Skipping...\n",
      "Processing Record 47 of set 8 | shache\n",
      "Processing Record 48 of set 8 | wajir\n",
      "Processing Record 49 of set 8 | saint-joseph\n",
      "Processing Record 50 of set 8 | colares\n",
      "tabialan not found. Skipping...\n",
      "Processing Record 1 of set 9 | nadvoitsy\n",
      "Processing Record 2 of set 9 | kozachi laheri\n",
      "Processing Record 3 of set 9 | massaguet\n",
      "Processing Record 4 of set 9 | lima\n",
      "Processing Record 5 of set 9 | walvis bay\n",
      "bolshoye soldatskoye not found. Skipping...\n",
      "Processing Record 6 of set 9 | kabarnet\n",
      "Processing Record 7 of set 9 | vagur\n",
      "Processing Record 8 of set 9 | rocha\n",
      "Processing Record 9 of set 9 | qasigiannguit\n",
      "Processing Record 10 of set 9 | bada\n",
      "Processing Record 11 of set 9 | caslav\n",
      "Processing Record 12 of set 9 | chapleau\n",
      "Processing Record 13 of set 9 | jutai\n",
      "Processing Record 14 of set 9 | college\n",
      "Processing Record 15 of set 9 | nevel\n",
      "Processing Record 16 of set 9 | vuktyl\n",
      "Processing Record 17 of set 9 | laguna\n",
      "Processing Record 18 of set 9 | magalia\n",
      "Processing Record 19 of set 9 | ellenabad\n",
      "Processing Record 20 of set 9 | buraydah\n",
      "Processing Record 21 of set 9 | sarkand\n",
      "Processing Record 22 of set 9 | solnechnyy\n",
      "Processing Record 23 of set 9 | dromolaxia\n",
      "Processing Record 24 of set 9 | biak\n",
      "Processing Record 25 of set 9 | sokolo\n",
      "armacao dos buzios not found. Skipping...\n",
      "Processing Record 26 of set 9 | arlit\n",
      "Processing Record 27 of set 9 | sorland\n",
      "safwah not found. Skipping...\n",
      "Processing Record 28 of set 9 | atambua\n",
      "Processing Record 29 of set 9 | itupiranga\n",
      "Processing Record 30 of set 9 | nilanga\n",
      "Processing Record 31 of set 9 | dzilam gonzalez\n",
      "Processing Record 32 of set 9 | staszow\n",
      "Processing Record 33 of set 9 | morondava\n",
      "Processing Record 34 of set 9 | huaiyin\n",
      "Processing Record 35 of set 9 | kaseda\n",
      "Processing Record 36 of set 9 | bela\n",
      "Processing Record 37 of set 9 | murakami\n",
      "Processing Record 38 of set 9 | sao jose da coroa grande\n",
      "mirpur bathoro not found. Skipping...\n",
      "Processing Record 39 of set 9 | kamenka\n",
      "Processing Record 40 of set 9 | hurghada\n",
      "Processing Record 41 of set 9 | nowy dwor mazowiecki\n",
      "Processing Record 42 of set 9 | tautira\n",
      "Processing Record 43 of set 9 | qaqortoq\n",
      "Processing Record 44 of set 9 | lae\n",
      "Processing Record 45 of set 9 | san julian\n",
      "Processing Record 46 of set 9 | farafangana\n",
      "Processing Record 47 of set 9 | lasa\n",
      "gurskoye not found. Skipping...\n",
      "Processing Record 48 of set 9 | lompoc\n",
      "Processing Record 49 of set 9 | wagar\n",
      "Processing Record 50 of set 9 | hailar\n",
      "Processing Record 1 of set 10 | rundu\n",
      "Processing Record 2 of set 10 | klaksvik\n",
      "Processing Record 3 of set 10 | goma\n",
      "Processing Record 4 of set 10 | tilichiki\n",
      "Processing Record 5 of set 10 | narrabri\n",
      "Processing Record 6 of set 10 | sitka\n",
      "Processing Record 7 of set 10 | bundaberg\n",
      "Processing Record 8 of set 10 | bari\n",
      "Processing Record 9 of set 10 | porto walter\n",
      "Processing Record 10 of set 10 | pocri\n",
      "Processing Record 11 of set 10 | cayenne\n",
      "Processing Record 12 of set 10 | elizabeth city\n",
      "Processing Record 13 of set 10 | gravdal\n",
      "Processing Record 14 of set 10 | ribeira grande\n",
      "Processing Record 15 of set 10 | pacific grove\n",
      "Processing Record 16 of set 10 | puerto del rosario\n",
      "Processing Record 17 of set 10 | inirida\n",
      "Processing Record 18 of set 10 | kolondieba\n",
      "Processing Record 19 of set 10 | kacuni\n",
      "Processing Record 20 of set 10 | olinda\n",
      "Processing Record 21 of set 10 | key west\n",
      "Processing Record 22 of set 10 | jingdezhen\n",
      "Processing Record 23 of set 10 | grand gaube\n",
      "Processing Record 24 of set 10 | ponta do sol\n",
      "Processing Record 25 of set 10 | kathu\n",
      "Processing Record 26 of set 10 | ossora\n",
      "Processing Record 27 of set 10 | kalmunai\n",
      "Processing Record 28 of set 10 | kemijarvi\n",
      "Processing Record 29 of set 10 | linguere\n",
      "Processing Record 30 of set 10 | bowen\n",
      "Processing Record 31 of set 10 | mayya\n",
      "khonuu not found. Skipping...\n",
      "Processing Record 32 of set 10 | geraldton\n",
      "Processing Record 33 of set 10 | hauterive\n",
      "Processing Record 34 of set 10 | general escobedo\n",
      "sentyabrskiy not found. Skipping...\n",
      "Processing Record 35 of set 10 | havoysund\n",
      "karaul not found. Skipping...\n",
      "Processing Record 36 of set 10 | kaeo\n",
      "phan rang not found. Skipping...\n",
      "Processing Record 37 of set 10 | iwanai\n",
      "tidore not found. Skipping...\n",
      "Processing Record 38 of set 10 | tateyama\n",
      "barawe not found. Skipping...\n",
      "Processing Record 39 of set 10 | sindor\n",
      "Processing Record 40 of set 10 | whitianga\n",
      "Processing Record 41 of set 10 | kirkuk\n",
      "Processing Record 42 of set 10 | tahoua\n",
      "Processing Record 43 of set 10 | botucatu\n",
      "Processing Record 44 of set 10 | bergen\n",
      "Processing Record 45 of set 10 | khani\n",
      "Processing Record 46 of set 10 | samfya\n",
      "Processing Record 47 of set 10 | kutum\n",
      "tanjong sepat not found. Skipping...\n",
      "Processing Record 48 of set 10 | tuatapere\n",
      "ballstad not found. Skipping...\n",
      "Processing Record 49 of set 10 | iralaya\n",
      "Processing Record 50 of set 10 | high level\n",
      "Processing Record 1 of set 11 | jiangmen\n",
      "Processing Record 2 of set 11 | nishihara\n",
      "Processing Record 3 of set 11 | hualmay\n",
      "Processing Record 4 of set 11 | tieli\n",
      "Processing Record 5 of set 11 | pontianak\n",
      "Processing Record 6 of set 11 | trelew\n",
      "Processing Record 7 of set 11 | sinnamary\n",
      "Processing Record 8 of set 11 | humaita\n",
      "nizhnyaya pavlovka not found. Skipping...\n",
      "Processing Record 9 of set 11 | kysyl-syr\n",
      "Processing Record 10 of set 11 | calvia\n",
      "Processing Record 11 of set 11 | berezovyy\n",
      "Processing Record 12 of set 11 | waingapu\n",
      "Processing Record 13 of set 11 | colchester\n",
      "Processing Record 14 of set 11 | dakar\n",
      "Processing Record 15 of set 11 | aklavik\n",
      "Processing Record 16 of set 11 | chake chake\n",
      "Processing Record 17 of set 11 | sao felix do xingu\n",
      "Processing Record 18 of set 11 | darhan\n",
      "Processing Record 19 of set 11 | kieta\n",
      "Processing Record 20 of set 11 | balkanabat\n",
      "Processing Record 21 of set 11 | nerchinskiy zavod\n",
      "Processing Record 22 of set 11 | katobu\n",
      "Processing Record 23 of set 11 | dryden\n",
      "Processing Record 24 of set 11 | nome\n",
      "Processing Record 25 of set 11 | les escoumins\n",
      "Processing Record 26 of set 11 | vanimo\n",
      "Processing Record 27 of set 11 | karratha\n",
      "Processing Record 28 of set 11 | parabel\n",
      "Processing Record 29 of set 11 | agde\n",
      "Processing Record 30 of set 11 | liverpool\n",
      "Processing Record 31 of set 11 | kyakhta\n",
      "Processing Record 32 of set 11 | ziyang\n",
      "Processing Record 33 of set 11 | casablanca\n",
      "attawapiskat not found. Skipping...\n",
      "Processing Record 34 of set 11 | mahenge\n",
      "Processing Record 35 of set 11 | bosconia\n",
      "Processing Record 36 of set 11 | vung tau\n",
      "Processing Record 37 of set 11 | mogadishu\n",
      "Processing Record 38 of set 11 | filadelfia\n",
      "Processing Record 39 of set 11 | lamu\n",
      "Processing Record 40 of set 11 | port shepstone\n",
      "Processing Record 41 of set 11 | korla\n",
      "Processing Record 42 of set 11 | yar-sale\n",
      "Processing Record 43 of set 11 | galveston\n",
      "mocambique not found. Skipping...\n",
      "Processing Record 44 of set 11 | ovalle\n",
      "Processing Record 45 of set 11 | daoukro\n",
      "Processing Record 46 of set 11 | kailua\n",
      "Processing Record 47 of set 11 | katsuura\n",
      "Processing Record 48 of set 11 | mnogovershinnyy\n",
      "Processing Record 49 of set 11 | puerto ayacucho\n",
      "ust-kamchatsk not found. Skipping...\n",
      "cockburn harbour not found. Skipping...\n",
      "Processing Record 50 of set 11 | methoni\n",
      "Processing Record 1 of set 12 | kimbe\n",
      "Processing Record 2 of set 12 | jerantut\n",
      "Processing Record 3 of set 12 | boende\n",
      "palabuhanratu not found. Skipping...\n"
     ]
    },
    {
     "name": "stdout",
     "output_type": "stream",
     "text": [
      "Processing Record 4 of set 12 | tianpeng\n",
      "Processing Record 5 of set 12 | huarmey\n",
      "Processing Record 6 of set 12 | eureka\n",
      "Processing Record 7 of set 12 | hofn\n",
      "Processing Record 8 of set 12 | hami\n",
      "Processing Record 9 of set 12 | hernani\n",
      "Processing Record 10 of set 12 | lluta\n",
      "Processing Record 11 of set 12 | southampton\n",
      "Processing Record 12 of set 12 | kidal\n",
      "Processing Record 13 of set 12 | la ronge\n",
      "Processing Record 14 of set 12 | bathsheba\n",
      "Processing Record 15 of set 12 | tiznit\n",
      "Processing Record 16 of set 12 | ipatovo\n",
      "Processing Record 17 of set 12 | adeje\n",
      "Processing Record 18 of set 12 | ottawa\n",
      "------------------------------------------\n",
      "Data Retrieval Complete\n",
      "------------------------------------------\n"
     ]
    }
   ],
   "source": [
    "\n",
    "#create lists for storing api data\n",
    "cityName = []\n",
    "lat = []\n",
    "lng = []\n",
    "maxTemp = []\n",
    "humidity = []\n",
    "clouds = []\n",
    "windSpeed = []\n",
    "country = []\n",
    "dates = []\n",
    "\n",
    "# set initial count quantities for organization\n",
    "countRecord = 1\n",
    "countSet = 1\n",
    "\n",
    "print(f\"Beginning Data Retrieval\")\n",
    "print(f\"------------------------------------------\")\n",
    "\n",
    "# loops for creating dataframe columns\n",
    "for city in cities:\n",
    "    \n",
    "    \n",
    "    try:\n",
    "       \n",
    "        response = requests.get(f\"{url}&q={city}\").json()\n",
    "        cityName.append(response['name'])\n",
    "        lat.append(response['coord']['lat'])\n",
    "        lng.append(response['coord']['lon'])\n",
    "        maxTemp.append(response['main']['temp_max'])\n",
    "        humidity.append(response['main']['humidity'])\n",
    "        clouds.append(response['clouds']['all'])\n",
    "        windSpeed.append(response['wind']['speed'])               \n",
    "        country.append(response['sys']['country'])\n",
    "        dates.append(response['dt'])\n",
    "        \n",
    "        \n",
    "        print(f\"Processing Record {countRecord} of set {countSet} | {city}\")  \n",
    "                \n",
    "        countRecord += 1\n",
    "       \n",
    "         \n",
    "        if countRecord == 51:\n",
    "            countSet += 1\n",
    "            countRecord = 1\n",
    "   \n",
    "    except KeyError:\n",
    "        print(f\"{city} not found. Skipping...\")\n",
    "        #print((f\"{url}&q={city}\"))\n",
    "    #break\n",
    "    continue\n",
    "    \n",
    "  \n",
    "\n",
    "print(f\"------------------------------------------\")\n",
    "print(f\"Data Retrieval Complete\")\n",
    "print(f\"------------------------------------------\")"
   ]
  },
  {
   "cell_type": "markdown",
   "metadata": {},
   "source": [
    "### Convert Raw Data to DataFrame\n",
    "* Export the city data into a .csv.\n",
    "* Display the DataFrame"
   ]
  },
  {
   "cell_type": "code",
   "execution_count": 7,
   "metadata": {},
   "outputs": [
    {
     "data": {
      "text/html": [
       "<div>\n",
       "<style scoped>\n",
       "    .dataframe tbody tr th:only-of-type {\n",
       "        vertical-align: middle;\n",
       "    }\n",
       "\n",
       "    .dataframe tbody tr th {\n",
       "        vertical-align: top;\n",
       "    }\n",
       "\n",
       "    .dataframe thead th {\n",
       "        text-align: right;\n",
       "    }\n",
       "</style>\n",
       "<table border=\"1\" class=\"dataframe\">\n",
       "  <thead>\n",
       "    <tr style=\"text-align: right;\">\n",
       "      <th></th>\n",
       "      <th>City</th>\n",
       "      <th>Lat</th>\n",
       "      <th>Lng</th>\n",
       "      <th>Max Temp</th>\n",
       "      <th>Humidity</th>\n",
       "      <th>Cloudiness</th>\n",
       "      <th>Wind Speed</th>\n",
       "      <th>Country</th>\n",
       "      <th>Date</th>\n",
       "    </tr>\n",
       "  </thead>\n",
       "  <tbody>\n",
       "    <tr>\n",
       "      <th>0</th>\n",
       "      <td>Atuona</td>\n",
       "      <td>-9.80</td>\n",
       "      <td>-139.03</td>\n",
       "      <td>81.46</td>\n",
       "      <td>73</td>\n",
       "      <td>13</td>\n",
       "      <td>14.43</td>\n",
       "      <td>PF</td>\n",
       "      <td>1588814312</td>\n",
       "    </tr>\n",
       "    <tr>\n",
       "      <th>1</th>\n",
       "      <td>Punta Arenas</td>\n",
       "      <td>-53.15</td>\n",
       "      <td>-70.92</td>\n",
       "      <td>41.00</td>\n",
       "      <td>93</td>\n",
       "      <td>75</td>\n",
       "      <td>2.24</td>\n",
       "      <td>CL</td>\n",
       "      <td>1588814426</td>\n",
       "    </tr>\n",
       "    <tr>\n",
       "      <th>2</th>\n",
       "      <td>Kavaratti</td>\n",
       "      <td>10.57</td>\n",
       "      <td>72.64</td>\n",
       "      <td>85.59</td>\n",
       "      <td>71</td>\n",
       "      <td>95</td>\n",
       "      <td>4.65</td>\n",
       "      <td>IN</td>\n",
       "      <td>1588814345</td>\n",
       "    </tr>\n",
       "    <tr>\n",
       "      <th>3</th>\n",
       "      <td>Kaitangata</td>\n",
       "      <td>-46.28</td>\n",
       "      <td>169.85</td>\n",
       "      <td>59.59</td>\n",
       "      <td>62</td>\n",
       "      <td>42</td>\n",
       "      <td>13.82</td>\n",
       "      <td>NZ</td>\n",
       "      <td>1588814427</td>\n",
       "    </tr>\n",
       "    <tr>\n",
       "      <th>4</th>\n",
       "      <td>Thompson</td>\n",
       "      <td>55.74</td>\n",
       "      <td>-97.86</td>\n",
       "      <td>33.80</td>\n",
       "      <td>37</td>\n",
       "      <td>5</td>\n",
       "      <td>11.41</td>\n",
       "      <td>CA</td>\n",
       "      <td>1588814427</td>\n",
       "    </tr>\n",
       "  </tbody>\n",
       "</table>\n",
       "</div>"
      ],
      "text/plain": [
       "           City    Lat     Lng  Max Temp  Humidity  Cloudiness  Wind Speed  \\\n",
       "0        Atuona  -9.80 -139.03     81.46        73          13       14.43   \n",
       "1  Punta Arenas -53.15  -70.92     41.00        93          75        2.24   \n",
       "2     Kavaratti  10.57   72.64     85.59        71          95        4.65   \n",
       "3    Kaitangata -46.28  169.85     59.59        62          42       13.82   \n",
       "4      Thompson  55.74  -97.86     33.80        37           5       11.41   \n",
       "\n",
       "  Country        Date  \n",
       "0      PF  1588814312  \n",
       "1      CL  1588814426  \n",
       "2      IN  1588814345  \n",
       "3      NZ  1588814427  \n",
       "4      CA  1588814427  "
      ]
     },
     "execution_count": 7,
     "metadata": {},
     "output_type": "execute_result"
    }
   ],
   "source": [
    "# Create a dictionary from the lists\n",
    "cityDict = {\n",
    "    \"City\": cityName,\n",
    "    \"Lat\":lat, \n",
    "    \"Lng\":lng,\n",
    "    \"Max Temp\": maxTemp,\n",
    "    \"Humidity\": humidity,\n",
    "    \"Cloudiness\":clouds, \n",
    "    \"Wind Speed\":windSpeed,\n",
    "    \"Country\":country,\n",
    "    \"Date\":dates      \n",
    "    }\n",
    "\n",
    "# Create a dataframe using the dicttionary from above\n",
    "city_data_df = pd.DataFrame(cityDict)\n",
    "\n",
    "city_data_df.head()"
   ]
  },
  {
   "cell_type": "code",
   "execution_count": 8,
   "metadata": {},
   "outputs": [],
   "source": [
    "#city_data_df.to_csv(output_data_file)"
   ]
  },
  {
   "cell_type": "markdown",
   "metadata": {},
   "source": [
    "## Inspect the data and remove the cities where the humidity > 100%.\n",
    "----\n",
    "Skip this step if there are no cities that have humidity > 100%. "
   ]
  },
  {
   "cell_type": "code",
   "execution_count": 9,
   "metadata": {},
   "outputs": [
    {
     "data": {
      "text/html": [
       "<div>\n",
       "<style scoped>\n",
       "    .dataframe tbody tr th:only-of-type {\n",
       "        vertical-align: middle;\n",
       "    }\n",
       "\n",
       "    .dataframe tbody tr th {\n",
       "        vertical-align: top;\n",
       "    }\n",
       "\n",
       "    .dataframe thead th {\n",
       "        text-align: right;\n",
       "    }\n",
       "</style>\n",
       "<table border=\"1\" class=\"dataframe\">\n",
       "  <thead>\n",
       "    <tr style=\"text-align: right;\">\n",
       "      <th></th>\n",
       "      <th>City</th>\n",
       "      <th>Lat</th>\n",
       "      <th>Lng</th>\n",
       "      <th>Max Temp</th>\n",
       "      <th>Humidity</th>\n",
       "      <th>Cloudiness</th>\n",
       "      <th>Wind Speed</th>\n",
       "      <th>Country</th>\n",
       "      <th>Date</th>\n",
       "    </tr>\n",
       "  </thead>\n",
       "  <tbody>\n",
       "    <tr>\n",
       "      <th>0</th>\n",
       "      <td>Atuona</td>\n",
       "      <td>-9.80</td>\n",
       "      <td>-139.03</td>\n",
       "      <td>81.46</td>\n",
       "      <td>73</td>\n",
       "      <td>13</td>\n",
       "      <td>14.43</td>\n",
       "      <td>PF</td>\n",
       "      <td>1588814312</td>\n",
       "    </tr>\n",
       "    <tr>\n",
       "      <th>1</th>\n",
       "      <td>Punta Arenas</td>\n",
       "      <td>-53.15</td>\n",
       "      <td>-70.92</td>\n",
       "      <td>41.00</td>\n",
       "      <td>93</td>\n",
       "      <td>75</td>\n",
       "      <td>2.24</td>\n",
       "      <td>CL</td>\n",
       "      <td>1588814426</td>\n",
       "    </tr>\n",
       "    <tr>\n",
       "      <th>2</th>\n",
       "      <td>Kavaratti</td>\n",
       "      <td>10.57</td>\n",
       "      <td>72.64</td>\n",
       "      <td>85.59</td>\n",
       "      <td>71</td>\n",
       "      <td>95</td>\n",
       "      <td>4.65</td>\n",
       "      <td>IN</td>\n",
       "      <td>1588814345</td>\n",
       "    </tr>\n",
       "    <tr>\n",
       "      <th>3</th>\n",
       "      <td>Kaitangata</td>\n",
       "      <td>-46.28</td>\n",
       "      <td>169.85</td>\n",
       "      <td>59.59</td>\n",
       "      <td>62</td>\n",
       "      <td>42</td>\n",
       "      <td>13.82</td>\n",
       "      <td>NZ</td>\n",
       "      <td>1588814427</td>\n",
       "    </tr>\n",
       "    <tr>\n",
       "      <th>4</th>\n",
       "      <td>Thompson</td>\n",
       "      <td>55.74</td>\n",
       "      <td>-97.86</td>\n",
       "      <td>33.80</td>\n",
       "      <td>37</td>\n",
       "      <td>5</td>\n",
       "      <td>11.41</td>\n",
       "      <td>CA</td>\n",
       "      <td>1588814427</td>\n",
       "    </tr>\n",
       "    <tr>\n",
       "      <th>...</th>\n",
       "      <td>...</td>\n",
       "      <td>...</td>\n",
       "      <td>...</td>\n",
       "      <td>...</td>\n",
       "      <td>...</td>\n",
       "      <td>...</td>\n",
       "      <td>...</td>\n",
       "      <td>...</td>\n",
       "      <td>...</td>\n",
       "    </tr>\n",
       "    <tr>\n",
       "      <th>563</th>\n",
       "      <td>Bathsheba</td>\n",
       "      <td>13.22</td>\n",
       "      <td>-59.52</td>\n",
       "      <td>80.60</td>\n",
       "      <td>78</td>\n",
       "      <td>40</td>\n",
       "      <td>20.80</td>\n",
       "      <td>BB</td>\n",
       "      <td>1588814566</td>\n",
       "    </tr>\n",
       "    <tr>\n",
       "      <th>564</th>\n",
       "      <td>Tiznit Province</td>\n",
       "      <td>29.58</td>\n",
       "      <td>-9.50</td>\n",
       "      <td>63.45</td>\n",
       "      <td>79</td>\n",
       "      <td>100</td>\n",
       "      <td>2.55</td>\n",
       "      <td>MA</td>\n",
       "      <td>1588814567</td>\n",
       "    </tr>\n",
       "    <tr>\n",
       "      <th>565</th>\n",
       "      <td>Ipatovo</td>\n",
       "      <td>45.72</td>\n",
       "      <td>42.90</td>\n",
       "      <td>56.32</td>\n",
       "      <td>92</td>\n",
       "      <td>100</td>\n",
       "      <td>12.50</td>\n",
       "      <td>RU</td>\n",
       "      <td>1588814567</td>\n",
       "    </tr>\n",
       "    <tr>\n",
       "      <th>566</th>\n",
       "      <td>Adeje</td>\n",
       "      <td>28.12</td>\n",
       "      <td>-16.73</td>\n",
       "      <td>70.00</td>\n",
       "      <td>72</td>\n",
       "      <td>40</td>\n",
       "      <td>10.29</td>\n",
       "      <td>ES</td>\n",
       "      <td>1588814567</td>\n",
       "    </tr>\n",
       "    <tr>\n",
       "      <th>567</th>\n",
       "      <td>Ottawa</td>\n",
       "      <td>45.41</td>\n",
       "      <td>-75.70</td>\n",
       "      <td>51.80</td>\n",
       "      <td>23</td>\n",
       "      <td>40</td>\n",
       "      <td>6.93</td>\n",
       "      <td>CA</td>\n",
       "      <td>1588814304</td>\n",
       "    </tr>\n",
       "  </tbody>\n",
       "</table>\n",
       "<p>568 rows × 9 columns</p>\n",
       "</div>"
      ],
      "text/plain": [
       "                City    Lat     Lng  Max Temp  Humidity  Cloudiness  \\\n",
       "0             Atuona  -9.80 -139.03     81.46        73          13   \n",
       "1       Punta Arenas -53.15  -70.92     41.00        93          75   \n",
       "2          Kavaratti  10.57   72.64     85.59        71          95   \n",
       "3         Kaitangata -46.28  169.85     59.59        62          42   \n",
       "4           Thompson  55.74  -97.86     33.80        37           5   \n",
       "..               ...    ...     ...       ...       ...         ...   \n",
       "563        Bathsheba  13.22  -59.52     80.60        78          40   \n",
       "564  Tiznit Province  29.58   -9.50     63.45        79         100   \n",
       "565          Ipatovo  45.72   42.90     56.32        92         100   \n",
       "566            Adeje  28.12  -16.73     70.00        72          40   \n",
       "567           Ottawa  45.41  -75.70     51.80        23          40   \n",
       "\n",
       "     Wind Speed Country        Date  \n",
       "0         14.43      PF  1588814312  \n",
       "1          2.24      CL  1588814426  \n",
       "2          4.65      IN  1588814345  \n",
       "3         13.82      NZ  1588814427  \n",
       "4         11.41      CA  1588814427  \n",
       "..          ...     ...         ...  \n",
       "563       20.80      BB  1588814566  \n",
       "564        2.55      MA  1588814567  \n",
       "565       12.50      RU  1588814567  \n",
       "566       10.29      ES  1588814567  \n",
       "567        6.93      CA  1588814304  \n",
       "\n",
       "[568 rows x 9 columns]"
      ]
     },
     "execution_count": 9,
     "metadata": {},
     "output_type": "execute_result"
    }
   ],
   "source": [
    "city_data_df"
   ]
  },
  {
   "cell_type": "code",
   "execution_count": 10,
   "metadata": {},
   "outputs": [],
   "source": [
    "#  Get the indices of cities that have humidity over 100%.\n",
    "idx100 = city_data_df[city_data_df['Humidity'] > 100].index"
   ]
  },
  {
   "cell_type": "code",
   "execution_count": 11,
   "metadata": {},
   "outputs": [
    {
     "data": {
      "text/html": [
       "<div>\n",
       "<style scoped>\n",
       "    .dataframe tbody tr th:only-of-type {\n",
       "        vertical-align: middle;\n",
       "    }\n",
       "\n",
       "    .dataframe tbody tr th {\n",
       "        vertical-align: top;\n",
       "    }\n",
       "\n",
       "    .dataframe thead th {\n",
       "        text-align: right;\n",
       "    }\n",
       "</style>\n",
       "<table border=\"1\" class=\"dataframe\">\n",
       "  <thead>\n",
       "    <tr style=\"text-align: right;\">\n",
       "      <th></th>\n",
       "      <th>City</th>\n",
       "      <th>Lat</th>\n",
       "      <th>Lng</th>\n",
       "      <th>Max Temp</th>\n",
       "      <th>Humidity</th>\n",
       "      <th>Cloudiness</th>\n",
       "      <th>Wind Speed</th>\n",
       "      <th>Country</th>\n",
       "      <th>Date</th>\n",
       "    </tr>\n",
       "  </thead>\n",
       "  <tbody>\n",
       "    <tr>\n",
       "      <th>0</th>\n",
       "      <td>Atuona</td>\n",
       "      <td>-9.80</td>\n",
       "      <td>-139.03</td>\n",
       "      <td>81.46</td>\n",
       "      <td>73</td>\n",
       "      <td>13</td>\n",
       "      <td>14.43</td>\n",
       "      <td>PF</td>\n",
       "      <td>1588814312</td>\n",
       "    </tr>\n",
       "    <tr>\n",
       "      <th>1</th>\n",
       "      <td>Punta Arenas</td>\n",
       "      <td>-53.15</td>\n",
       "      <td>-70.92</td>\n",
       "      <td>41.00</td>\n",
       "      <td>93</td>\n",
       "      <td>75</td>\n",
       "      <td>2.24</td>\n",
       "      <td>CL</td>\n",
       "      <td>1588814426</td>\n",
       "    </tr>\n",
       "    <tr>\n",
       "      <th>2</th>\n",
       "      <td>Kavaratti</td>\n",
       "      <td>10.57</td>\n",
       "      <td>72.64</td>\n",
       "      <td>85.59</td>\n",
       "      <td>71</td>\n",
       "      <td>95</td>\n",
       "      <td>4.65</td>\n",
       "      <td>IN</td>\n",
       "      <td>1588814345</td>\n",
       "    </tr>\n",
       "    <tr>\n",
       "      <th>3</th>\n",
       "      <td>Kaitangata</td>\n",
       "      <td>-46.28</td>\n",
       "      <td>169.85</td>\n",
       "      <td>59.59</td>\n",
       "      <td>62</td>\n",
       "      <td>42</td>\n",
       "      <td>13.82</td>\n",
       "      <td>NZ</td>\n",
       "      <td>1588814427</td>\n",
       "    </tr>\n",
       "    <tr>\n",
       "      <th>4</th>\n",
       "      <td>Thompson</td>\n",
       "      <td>55.74</td>\n",
       "      <td>-97.86</td>\n",
       "      <td>33.80</td>\n",
       "      <td>37</td>\n",
       "      <td>5</td>\n",
       "      <td>11.41</td>\n",
       "      <td>CA</td>\n",
       "      <td>1588814427</td>\n",
       "    </tr>\n",
       "  </tbody>\n",
       "</table>\n",
       "</div>"
      ],
      "text/plain": [
       "           City    Lat     Lng  Max Temp  Humidity  Cloudiness  Wind Speed  \\\n",
       "0        Atuona  -9.80 -139.03     81.46        73          13       14.43   \n",
       "1  Punta Arenas -53.15  -70.92     41.00        93          75        2.24   \n",
       "2     Kavaratti  10.57   72.64     85.59        71          95        4.65   \n",
       "3    Kaitangata -46.28  169.85     59.59        62          42       13.82   \n",
       "4      Thompson  55.74  -97.86     33.80        37           5       11.41   \n",
       "\n",
       "  Country        Date  \n",
       "0      PF  1588814312  \n",
       "1      CL  1588814426  \n",
       "2      IN  1588814345  \n",
       "3      NZ  1588814427  \n",
       "4      CA  1588814427  "
      ]
     },
     "execution_count": 11,
     "metadata": {},
     "output_type": "execute_result"
    }
   ],
   "source": [
    "# Make a new DataFrame equal to the city data to drop all humidity outliers by index.\n",
    "# Passing \"inplace=False\" will make a copy of the city_data DataFrame, which we call \"clean_city_data\".\n",
    "cleaned_city_data_df = city_data_df.drop(idx100, inplace=False)\n",
    "\n",
    "cleaned_city_data_df.head()"
   ]
  },
  {
   "cell_type": "code",
   "execution_count": 12,
   "metadata": {},
   "outputs": [],
   "source": [
    "# Extract relevant fields from the data frame\n",
    "relevant_df = cleaned_city_data_df.filter(['City','Country', 'Lat', 'Lng', 'Max Temp', 'Humidity', 'Cloudiness', 'Wind Speed', 'Date'], axis=1)\n",
    "relevant_df.head() \n",
    "# Export the City_Data into a csv\n",
    "relevant_df.to_csv(output_data_file, index=False)"
   ]
  },
  {
   "cell_type": "markdown",
   "metadata": {},
   "source": [
    "## Plotting the Data\n",
    "* Use proper labeling of the plots using plot titles (including date of analysis) and axes labels.\n",
    "* Save the plotted figures as .pngs."
   ]
  },
  {
   "cell_type": "markdown",
   "metadata": {},
   "source": [
    "## Latitude vs. Temperature Plot"
   ]
  },
  {
   "cell_type": "code",
   "execution_count": 44,
   "metadata": {
    "scrolled": true
   },
   "outputs": [
    {
     "data": {
      "image/png": "[encoded data removed]",
      "text/plain": [
       "<Figure size 432x288 with 1 Axes>"
      ]
     },
     "metadata": {
      "needs_background": "light"
     },
     "output_type": "display_data"
    },
    {
     "name": "stdout",
     "output_type": "stream",
     "text": [
      "Observing the data, at the equator (0 lattitude),\n",
      " shows the highest temperature values in a condensed cluster,\n",
      " this being the cities closest to the equator; while the\n",
      " latitude increases in both directions the temp values decrease,\n",
      " these being the values for the cities increasing in distance from the equator.\n"
     ]
    }
   ],
   "source": [
    "# Create a Scatter Plot of Latitude vs Max Temp\n",
    "plt.scatter(relevant_df[\"Lat\"], relevant_df[\"Max Temp\"], marker=\"o\")\n",
    "\n",
    "# Label the chart\n",
    "plt.title(f'City Latitude vs. Max Temperature {time.strftime(\"%m/%d/%Y\")}')\n",
    "plt.ylabel(\"Temperature (F°)\")\n",
    "plt.xlabel(\"Latitude\")\n",
    "\n",
    "\n",
    "# Save the chart\n",
    "plt.savefig(\"output_data/City Latitude vs. Max Temperature.png\")\n",
    "plt.show()\n",
    "\n",
    "print(\"Observing the data, at the equator (0 lattitude),\\n shows the highest temperature values in a condensed cluster,\\n this being the cities closest to the equator; while the\\n latitude increases in both directions the temp values decrease,\\n these being the values for the cities increasing in distance from the equator.\")"
   ]
  },
  {
   "cell_type": "markdown",
   "metadata": {},
   "source": [
    "## Latitude vs. Humidity Plot"
   ]
  },
  {
   "cell_type": "code",
   "execution_count": 31,
   "metadata": {},
   "outputs": [
    {
     "data": {
      "image/png": "[encoded data removed]",
      "text/plain": [
       "<Figure size 432x288 with 1 Axes>"
      ]
     },
     "metadata": {
      "needs_background": "light"
     },
     "output_type": "display_data"
    },
    {
     "name": "stdout",
     "output_type": "stream",
     "text": [
      "Being the hottest location at the equator (0 lattitude), \n",
      "the data shows it to be consistenly humid\n"
     ]
    }
   ],
   "source": [
    "# Create a Scatter Plot of Latitude vs Max Temp\n",
    "plt.scatter(relevant_df[\"Lat\"], relevant_df[\"Humidity\"], marker=\"o\")\n",
    "\n",
    "# Label the chart\n",
    "plt.title(f'City Latitude vs. Humidity {time.strftime(\"%m/%d/%Y\")}')\n",
    "plt.ylabel(\"Humidity\")\n",
    "plt.xlabel(\"Latitude\")\n",
    "\n",
    "\n",
    "# Save the chart\n",
    "plt.savefig(\"output_data/City Latitude vs. Humidity.png\")\n",
    "plt.show()\n",
    "\n",
    "print(\"Being the hottest location at the equator (0 lattitude), \\nthe data shows it to be consistenly humid\")"
   ]
  },
  {
   "cell_type": "markdown",
   "metadata": {},
   "source": [
    "## Latitude vs. Cloudiness Plot"
   ]
  },
  {
   "cell_type": "code",
   "execution_count": 30,
   "metadata": {},
   "outputs": [
    {
     "data": {
      "image/png": "[encoded data removed]",
      "text/plain": [
       "<Figure size 432x288 with 1 Axes>"
      ]
     },
     "metadata": {
      "needs_background": "light"
     },
     "output_type": "display_data"
    },
    {
     "name": "stdout",
     "output_type": "stream",
     "text": [
      "The data for clouds appears to be very irregular, \n",
      " and I'm curious how they sampled the percentages, \n",
      " other than no clouds and full coverage\n"
     ]
    }
   ],
   "source": [
    "# Create a Scatter Plot of Latitude vs Max Temp\n",
    "plt.scatter(relevant_df[\"Lat\"], relevant_df[\"Cloudiness\"], marker=\"o\")\n",
    "\n",
    "# Label the chart\n",
    "plt.title(f'City Latitude vs. Cloudiness {time.strftime(\"%m/%d/%Y\")}')\n",
    "plt.ylabel(\"Cloudiness\")\n",
    "plt.xlabel(\"Latitude\")\n",
    "\n",
    "\n",
    "# Save the chart\n",
    "plt.savefig(\"output_data/City Latitude vs. Cloudinessy.png\")\n",
    "plt.show()\n",
    "\n",
    "print(\"The data for clouds appears to be very irregular, \\n and I'm curious how they sampled the percentages, \\n other than no clouds and full coverage\")"
   ]
  },
  {
   "cell_type": "markdown",
   "metadata": {},
   "source": [
    "## Latitude vs. Wind Speed Plot"
   ]
  },
  {
   "cell_type": "code",
   "execution_count": 35,
   "metadata": {},
   "outputs": [
    {
     "data": {
      "image/png": "[encoded data removed]",
      "text/plain": [
       "<Figure size 432x288 with 1 Axes>"
      ]
     },
     "metadata": {
      "needs_background": "light"
     },
     "output_type": "display_data"
    },
    {
     "name": "stdout",
     "output_type": "stream",
     "text": [
      "Wind speed at surface appear to have a uniform \n",
      " disperal, with a few outliers of faster currents in the \n",
      " higher +/- latitudes there can be numerous reasons for this to occur\n"
     ]
    }
   ],
   "source": [
    "# Create a Scatter Plot of Latitude vs Max Temp\n",
    "plt.scatter(relevant_df[\"Lat\"], relevant_df[\"Wind Speed\"], marker=\"o\")\n",
    "\n",
    "# Label the chart\n",
    "plt.title(f'City Latitude vs. Wind Speed {time.strftime(\"%m/%d/%Y\")}')\n",
    "plt.ylabel(\"Wind Speed\")\n",
    "plt.xlabel(\"Latitude\")\n",
    "\n",
    "# Save the chart\n",
    "plt.savefig(\"output_data/City Latitude vs. Wind Speed.png\")\n",
    "plt.show()\n",
    "\n",
    "print(\"Wind speed at surface appear to have a uniform \\n disperal, with a few outliers of faster currents in the \\n higher +/- latitudes this is caused by the \")"
   ]
  },
  {
   "cell_type": "markdown",
   "metadata": {},
   "source": [
    "## Linear Regression"
   ]
  },
  {
   "cell_type": "code",
   "execution_count": 45,
   "metadata": {},
   "outputs": [],
   "source": [
    "# OPTIONAL: Create a function to create Linear Regression plots\n",
    "# Function takes 6 argument, x_axis & y_axis handles the data being plotted,\n",
    "# x_title & y_title are the axis titles applied to appropriate axis data,\n",
    "# and x_cord & y_cord gives location to start the annotation.\n",
    "\n",
    "def regressionPlot(x_axis, y_axis, x_title, y_title, x_cord, y_cord):\n",
    "    \n",
    "    # calculates the values needed for plotting the linear regression and displaying the r-square value\n",
    "    (slope, intercept, rvalue, pvalue, stderr) = linregress(x_axis, y_axis)\n",
    "    \n",
    "    # creates the linear regression\n",
    "    regress_values = x_axis * slope + intercept\n",
    "    \n",
    "    # equation for being displayed on plot\n",
    "    line_eq = \"y = \" + str(round(slope, 2)) + \"x + \" + str(round(intercept, 2))\n",
    "    \n",
    "    # Scatter plot block of code for plotting data and titling\n",
    "    plt.scatter(x_axis, y_axis)\n",
    "    plt.plot(x_axis, regress_values, \"r-\")\n",
    "    plt.annotate(line_eq,(x_cord,y_cord), fontsize=18, color=\"red\")\n",
    "    plt.xlabel(x_title, fontsize=16)\n",
    "    plt.ylabel(y_title, fontsize=16)\n",
    "    plt.title(f'{x_title} vs. {y_title} {time.strftime(\"%m/%d/%Y\")}', fontsize=16)\n",
    "    print(f\"The R-Squared is: {rvalue**2}\")\n",
    "    return\n",
    "\n"
   ]
  },
  {
   "cell_type": "code",
   "execution_count": null,
   "metadata": {},
   "outputs": [],
   "source": []
  },
  {
   "cell_type": "code",
   "execution_count": 46,
   "metadata": {},
   "outputs": [],
   "source": [
    "# Create Northern and Southern Hemisphere DataFrames\n",
    "\n",
    "# Northern Hemisphere\n",
    "northHemi_df = relevant_df[relevant_df['Lat'] >= 0]\n",
    "\n",
    "# Southern Hemisphere\n",
    "southHemi_df = relevant_df[relevant_df['Lat'] < 0]\n"
   ]
  },
  {
   "cell_type": "markdown",
   "metadata": {},
   "source": [
    "####  Northern Hemisphere - Max Temp vs. Latitude Linear Regression"
   ]
  },
  {
   "cell_type": "code",
   "execution_count": 68,
   "metadata": {},
   "outputs": [
    {
     "name": "stdout",
     "output_type": "stream",
     "text": [
      "The R-Squared is: 0.7322333542590158\n",
      "\n",
      "Observing the data, at the equator (0 lattitude),\n",
      " shows the highest temperature values in a condensed cluster,\n",
      " this being the cities closest to the equator; while the\n",
      " latitude increases in the positive direction the temp values decrease,\n",
      " these being the values for the cities increasing in distance from the equator.\n"
     ]
    },
    {
     "data": {
      "image/png": "[encoded data removed]",
      "text/plain": [
       "<Figure size 432x288 with 1 Axes>"
      ]
     },
     "metadata": {
      "needs_background": "light"
     },
     "output_type": "display_data"
    }
   ],
   "source": [
    "regressionPlot(northHemi_df['Lat'],northHemi_df['Max Temp'],'Latitude','Temperature (F)', 0, 20)\n",
    "print(\"\\nObserving the data, at the equator (0 lattitude),\\n shows the highest temperature values in a condensed cluster,\\n this being the cities closest to the equator; while the\\n latitude increases in the positive direction the temp values decrease,\\n these being the values for the cities increasing in distance from the equator.\")"
   ]
  },
  {
   "cell_type": "markdown",
   "metadata": {},
   "source": [
    "####  Southern Hemisphere - Max Temp vs. Latitude Linear Regression"
   ]
  },
  {
   "cell_type": "code",
   "execution_count": 67,
   "metadata": {},
   "outputs": [
    {
     "name": "stdout",
     "output_type": "stream",
     "text": [
      "The R-Squared is: 0.5525102506751635\n",
      "\n",
      "Observing the data, at the equator (0 lattitude),\n",
      " shows the highest temperature values in a condensed cluster,\n",
      " this being the cities closest to the equator; while the\n",
      " latitude increases in the negative direction the temp values decrease,\n",
      " these being the values for the cities increasing in distance from the equator.\n"
     ]
    },
    {
     "data": {
      "image/png": "[encoded data removed]",
      "text/plain": [
       "<Figure size 432x288 with 1 Axes>"
      ]
     },
     "metadata": {
      "needs_background": "light"
     },
     "output_type": "display_data"
    }
   ],
   "source": [
    "regressionPlot(southHemi_df['Lat'],southHemi_df['Max Temp'],'Latitude','Temperature (F)',-55, 80)\n",
    "print(\"\\nObserving the data, at the equator (0 lattitude),\\n shows the highest temperature values in a condensed cluster,\\n this being the cities closest to the equator; while the\\n latitude increases in the negative direction the temp values decrease,\\n these being the values for the cities increasing in distance from the equator.\")"
   ]
  },
  {
   "cell_type": "markdown",
   "metadata": {},
   "source": [
    "####  Northern Hemisphere - Humidity (%) vs. Latitude Linear Regression"
   ]
  },
  {
   "cell_type": "code",
   "execution_count": 72,
   "metadata": {},
   "outputs": [
    {
     "name": "stdout",
     "output_type": "stream",
     "text": [
      "The R-Squared is: 0.042140321994978476\n",
      "\n",
      "Being the hottest location at the equator (0 lattitude), \n",
      "the data shows it to be consistenly humid at the equator.\n"
     ]
    },
    {
     "data": {
      "image/png": "[encoded data removed]",
      "text/plain": [
       "<Figure size 432x288 with 1 Axes>"
      ]
     },
     "metadata": {
      "needs_background": "light"
     },
     "output_type": "display_data"
    }
   ],
   "source": [
    "regressionPlot(northHemi_df['Lat'],northHemi_df['Humidity'],'Latitude','Humidity %', 0, 15)\n",
    "print(\"\\nBeing the hottest location at the equator (0 lattitude), \\nthe data shows it to be consistenly humid at the equator.\")"
   ]
  },
  {
   "cell_type": "markdown",
   "metadata": {},
   "source": [
    "####  Southern Hemisphere - Humidity (%) vs. Latitude Linear Regression"
   ]
  },
  {
   "cell_type": "code",
   "execution_count": 71,
   "metadata": {},
   "outputs": [
    {
     "name": "stdout",
     "output_type": "stream",
     "text": [
      "The R-Squared is: 0.08430531262446812\n",
      "\n",
      "Being the hottest location at the equator (0 lattitude), \n",
      "the data shows it to be consistenly humid at the equator.\n"
     ]
    },
    {
     "data": {
      "image/png": "[encoded data removed]",
      "text/plain": [
       "<Figure size 432x288 with 1 Axes>"
      ]
     },
     "metadata": {
      "needs_background": "light"
     },
     "output_type": "display_data"
    }
   ],
   "source": [
    "regressionPlot(southHemi_df['Lat'],southHemi_df['Humidity'],'Latitude','Humidity %',-55, 40)\n",
    "print(\"\\nBeing the hottest location at the equator (0 lattitude), \\nthe data shows it to be consistenly humid at the equator.\")"
   ]
  },
  {
   "cell_type": "markdown",
   "metadata": {},
   "source": [
    "####  Northern Hemisphere - Cloudiness (%) vs. Latitude Linear Regression"
   ]
  },
  {
   "cell_type": "code",
   "execution_count": 66,
   "metadata": {},
   "outputs": [
    {
     "name": "stdout",
     "output_type": "stream",
     "text": [
      "The R-Squared is: 0.00908214655637857\n",
      "\n",
      "No Measurable Correlation.\n"
     ]
    },
    {
     "data": {
      "image/png": "[encoded data removed]",
      "text/plain": [
       "<Figure size 432x288 with 1 Axes>"
      ]
     },
     "metadata": {
      "needs_background": "light"
     },
     "output_type": "display_data"
    }
   ],
   "source": [
    "regressionPlot(northHemi_df['Lat'],northHemi_df['Cloudiness'],'Latitude','Cloudiness %', 0, 10)\n",
    "print(\"\\nNo Measurable Correlation.\")"
   ]
  },
  {
   "cell_type": "markdown",
   "metadata": {},
   "source": [
    "####  Southern Hemisphere - Cloudiness (%) vs. Latitude Linear Regression"
   ]
  },
  {
   "cell_type": "code",
   "execution_count": 61,
   "metadata": {
    "scrolled": true
   },
   "outputs": [
    {
     "name": "stdout",
     "output_type": "stream",
     "text": [
      "The R-Squared is: 0.006045945130259036\n",
      "\n",
      "No Measurable Correlation.\n"
     ]
    },
    {
     "data": {
      "image/png": "[encoded data removed]",
      "text/plain": [
       "<Figure size 432x288 with 1 Axes>"
      ]
     },
     "metadata": {
      "needs_background": "light"
     },
     "output_type": "display_data"
    }
   ],
   "source": [
    "regressionPlot(southHemi_df['Lat'],southHemi_df['Cloudiness'],'Latitude','Cloudiness %',-55, 80)\n",
    "print(\"\\nNo Measurable Correlation.\")"
   ]
  },
  {
   "cell_type": "markdown",
   "metadata": {},
   "source": [
    "####  Northern Hemisphere - Wind Speed (mph) vs. Latitude Linear Regression"
   ]
  },
  {
   "cell_type": "code",
   "execution_count": 62,
   "metadata": {},
   "outputs": [
    {
     "name": "stdout",
     "output_type": "stream",
     "text": [
      "The R-Squared is: 0.032061564643310766\n",
      "\n",
      "No Measurable Correlation.\n"
     ]
    },
    {
     "data": {
      "image/png": "[encoded data removed]",
      "text/plain": [
       "<Figure size 432x288 with 1 Axes>"
      ]
     },
     "metadata": {
      "needs_background": "light"
     },
     "output_type": "display_data"
    }
   ],
   "source": [
    "regressionPlot(northHemi_df['Lat'],northHemi_df['Wind Speed'],'Latitude','Wind Speed (MPH)', 0, 20)\n",
    "print(\"\\nNo Measurable Correlation.\")"
   ]
  },
  {
   "cell_type": "markdown",
   "metadata": {},
   "source": [
    "####  Southern Hemisphere - Wind Speed (mph) vs. Latitude Linear Regression"
   ]
  },
  {
   "cell_type": "code",
   "execution_count": 65,
   "metadata": {},
   "outputs": [
    {
     "name": "stdout",
     "output_type": "stream",
     "text": [
      "The R-Squared is: 0.01944972088829716\n",
      "\n",
      "No Measurable Correlation.\n"
     ]
    },
    {
     "data": {
      "image/png": "[encoded data removed]",
      "text/plain": [
       "<Figure size 432x288 with 1 Axes>"
      ]
     },
     "metadata": {
      "needs_background": "light"
     },
     "output_type": "display_data"
    }
   ],
   "source": [
    "regressionPlot(southHemi_df['Lat'],southHemi_df['Wind Speed'],'Latitude','Wind Speed (MPH)',-55, 20)\n",
    "print(\"\\nNo Measurable Correlation.\")"
   ]
  },
  {
   "cell_type": "code",
   "execution_count": null,
   "metadata": {},
   "outputs": [],
   "source": []
  },
  {
   "cell_type": "code",
   "execution_count": null,
   "metadata": {},
   "outputs": [],
   "source": []
  }
 ],
 "metadata": {
  "anaconda-cloud": {},
  "kernel_info": {
   "name": "python3"
  },
  "kernelspec": {
   "display_name": "Python 3",
   "language": "python",
   "name": "python3"
  },
  "language_info": {
   "codemirror_mode": {
    "name": "ipython",
    "version": 3
   },
   "file_extension": ".py",
   "mimetype": "text/x-python",
   "name": "python",
   "nbconvert_exporter": "python",
   "pygments_lexer": "ipython3",
   "version": "3.7.6"
  },
  "latex_envs": {
   "LaTeX_envs_menu_present": true,
   "autoclose": false,
   "autocomplete": true,
   "bibliofile": "biblio.bib",
   "cite_by": "apalike",
   "current_citInitial": 1,
   "eqLabelWithNumbers": true,
   "eqNumInitial": 1,
   "hotkeys": {
    "equation": "Ctrl-E",
    "itemize": "Ctrl-I"
   },
   "labels_anchors": false,
   "latex_user_defs": false,
   "report_style_numbering": false,
   "user_envs_cfg": false
  },
  "nteract": {
   "version": "0.12.3"
  }
 },
 "nbformat": 4,
 "nbformat_minor": 2
}
