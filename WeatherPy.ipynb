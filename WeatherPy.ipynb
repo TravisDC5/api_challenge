{
 "cells": [
  {
   "cell_type": "markdown",
   "metadata": {},
   "source": [
    "# Observations"
   ]
  },
  {
   "cell_type": "markdown",
   "metadata": {},
   "source": [
    "* Observing the data, at the equator (0 lattitude), shows the highest temperature values in a condensed cluster, this is because there is minimal change in distance from the run regardless of which hemisphere is in its summer or winter cycle (think planet tilt); cities closest to the equator generally stay hotter with consistent clear weather climate; while the latitudes in the positive and negative increase will have non consistent temperatures due to there localized climate.\n",
    "* Being the hottest location at the equator (0 lattitude), the data shows it to have a consistent humidity percentage at the equator; whereas as you move away from the equator its more sporadic which is due to variety of weather patterns and differences between temperatures. \n",
    "* Clouds and Wind Speed have no real correlation as these can fluctuate more frequently during one day cycle then compared to temperature; coriolis plays a big role along with pressure differentials which can cause an increase or decrease in winds, while cloud travel will be determined by how fast or slow they'll move across the sky depending on the winds, so it is much harder to predict.\n",
    "\n",
    "interesting website to observe these trends in real-time: https://earth.nullschool.net/"
   ]
  },
  {
   "cell_type": "markdown",
   "metadata": {},
   "source": [
    "# WeatherPy\n",
    "----\n",
    "\n",
    "#### Note\n",
    "* Instructions have been included for each segment. You do not have to follow them exactly, but they are included to help you think through the steps."
   ]
  },
  {
   "cell_type": "code",
   "execution_count": 27,
   "metadata": {
    "scrolled": true
   },
   "outputs": [],
   "source": [
    "# Dependencies and Setup\n",
    "import matplotlib.pyplot as plt\n",
    "import pandas as pd\n",
    "import numpy as np\n",
    "import requests\n",
    "import time\n",
    "from scipy.stats import linregress\n",
    "\n",
    "# Import API key\n",
    "from api_keys import weather_api_key\n",
    "\n",
    "# Incorporated citipy to determine city based on latitude and longitude\n",
    "from citipy import citipy\n",
    "\n",
    "# Output File (CSV)\n",
    "output_data_file = \"output_data/cities.csv\"\n",
    "\n",
    "# Range of latitudes and longitudes\n",
    "lat_range = (-90, 90)\n",
    "lng_range = (-180, 180)"
   ]
  },
  {
   "cell_type": "markdown",
   "metadata": {},
   "source": [
    "## Generate Cities List"
   ]
  },
  {
   "cell_type": "code",
   "execution_count": 28,
   "metadata": {},
   "outputs": [
    {
     "data": {
      "text/plain": [
       "642"
      ]
     },
     "execution_count": 28,
     "metadata": {},
     "output_type": "execute_result"
    }
   ],
   "source": [
    "# List for holding lat_lngs and cities\n",
    "lat_lngs = []\n",
    "cities = []\n",
    "\n",
    "# Create a set of random lat and lng combinations\n",
    "lats = np.random.uniform(lat_range[0], lat_range[1], size=1500)\n",
    "lngs = np.random.uniform(lng_range[0], lng_range[1], size=1500)\n",
    "lat_lngs = zip(lats, lngs)\n",
    "\n",
    "# Identify nearest city for each lat, lng combination\n",
    "for lat_lng in lat_lngs:\n",
    "    city = citipy.nearest_city(lat_lng[0], lat_lng[1]).city_name\n",
    "    \n",
    "    # If the city is unique, then add it to a our cities list\n",
    "    if city not in cities:\n",
    "        cities.append(city)\n",
    "\n",
    "# Print the city count to confirm sufficient count\n",
    "len(cities)"
   ]
  },
  {
   "cell_type": "code",
   "execution_count": 29,
   "metadata": {},
   "outputs": [
    {
     "data": {
      "text/plain": [
       "'eyl'"
      ]
     },
     "execution_count": 29,
     "metadata": {},
     "output_type": "execute_result"
    }
   ],
   "source": [
    "cities[0]"
   ]
  },
  {
   "cell_type": "markdown",
   "metadata": {},
   "source": [
    "### Perform API Calls\n",
    "* Perform a weather check on each city using a series of successive API calls.\n",
    "* Include a print log of each city as it'sbeing processed (with the city number and city name).\n"
   ]
  },
  {
   "cell_type": "code",
   "execution_count": 30,
   "metadata": {},
   "outputs": [],
   "source": [
    "# url for accessing  api data from openweather\n",
    "url = \"http://api.openweathermap.org/data/2.5/weather?units=Imperial&APPID=\" + weather_api_key"
   ]
  },
  {
   "cell_type": "code",
   "execution_count": 31,
   "metadata": {},
   "outputs": [
    {
     "name": "stdout",
     "output_type": "stream",
     "text": [
      "http://api.openweathermap.org/data/2.5/weather?units=Imperial&APPID=b3ff37a40edf22f7c0171626f6994478\n"
     ]
    }
   ],
   "source": [
    "print(url)"
   ]
  },
  {
   "cell_type": "code",
   "execution_count": 32,
   "metadata": {},
   "outputs": [
    {
     "name": "stdout",
     "output_type": "stream",
     "text": [
      "Beginning Data Retrieval\n",
      "------------------------------------------\n",
      "Processing Record 1 of set 1 | eyl\n",
      "Processing Record 2 of set 1 | vaini\n",
      "Processing Record 3 of set 1 | boyolangu\n",
      "Processing Record 4 of set 1 | mar del plata\n",
      "Processing Record 5 of set 1 | coahuayana\n",
      "Processing Record 6 of set 1 | jalu\n",
      "Processing Record 7 of set 1 | sitka\n",
      "Processing Record 8 of set 1 | planeta rica\n",
      "Processing Record 9 of set 1 | albany\n",
      "saleaula not found. Skipping...\n",
      "Processing Record 10 of set 1 | khatanga\n",
      "Processing Record 11 of set 1 | nantucket\n",
      "Processing Record 12 of set 1 | tazovskiy\n",
      "Processing Record 13 of set 1 | rikitea\n",
      "Processing Record 14 of set 1 | hobyo\n",
      "taolanaro not found. Skipping...\n",
      "Processing Record 15 of set 1 | deputatskiy\n",
      "Processing Record 16 of set 1 | busselton\n",
      "Processing Record 17 of set 1 | ushuaia\n",
      "Processing Record 18 of set 1 | butaritari\n",
      "Processing Record 19 of set 1 | nago\n",
      "Processing Record 20 of set 1 | tiksi\n",
      "Processing Record 21 of set 1 | hirara\n",
      "Processing Record 22 of set 1 | georgetown\n",
      "Processing Record 23 of set 1 | punta arenas\n",
      "Processing Record 24 of set 1 | acarau\n",
      "Processing Record 25 of set 1 | nova olimpia\n",
      "Processing Record 26 of set 1 | dikson\n",
      "Processing Record 27 of set 1 | upernavik\n",
      "Processing Record 28 of set 1 | mataura\n",
      "Processing Record 29 of set 1 | bambous virieux\n",
      "Processing Record 30 of set 1 | east london\n",
      "Processing Record 31 of set 1 | coquimbo\n",
      "Processing Record 32 of set 1 | kaeo\n",
      "Processing Record 33 of set 1 | indramayu\n",
      "Processing Record 34 of set 1 | mount isa\n",
      "Processing Record 35 of set 1 | thompson\n",
      "vaitupu not found. Skipping...\n",
      "Processing Record 36 of set 1 | maniitsoq\n",
      "Processing Record 37 of set 1 | praia da vitoria\n",
      "Processing Record 38 of set 1 | ahipara\n",
      "Processing Record 39 of set 1 | najran\n",
      "Processing Record 40 of set 1 | mahebourg\n",
      "Processing Record 41 of set 1 | qaanaaq\n",
      "Processing Record 42 of set 1 | vila velha\n",
      "Processing Record 43 of set 1 | panaba\n",
      "Processing Record 44 of set 1 | atuona\n",
      "Processing Record 45 of set 1 | carutapera\n",
      "Processing Record 46 of set 1 | castro\n",
      "fevralsk not found. Skipping...\n",
      "Processing Record 47 of set 1 | los llanos de aridane\n",
      "Processing Record 48 of set 1 | kiama\n",
      "Processing Record 49 of set 1 | asau\n",
      "Processing Record 50 of set 1 | hermanus\n",
      "Processing Record 1 of set 2 | cosala\n",
      "Processing Record 2 of set 2 | saint-leu\n",
      "Processing Record 3 of set 2 | barrow\n",
      "Processing Record 4 of set 2 | cape town\n",
      "illoqqortoormiut not found. Skipping...\n",
      "vastervik not found. Skipping...\n",
      "Processing Record 5 of set 2 | coxim\n",
      "Processing Record 6 of set 2 | tymovskoye\n",
      "fort saint john not found. Skipping...\n",
      "Processing Record 7 of set 2 | faanui\n",
      "Processing Record 8 of set 2 | port augusta\n",
      "Processing Record 9 of set 2 | nikolskoye\n",
      "Processing Record 10 of set 2 | port alfred\n",
      "Processing Record 11 of set 2 | mehamn\n",
      "Processing Record 12 of set 2 | poum\n",
      "Processing Record 13 of set 2 | sorsk\n",
      "Processing Record 14 of set 2 | kapaa\n",
      "Processing Record 15 of set 2 | tshikapa\n",
      "Processing Record 16 of set 2 | ilulissat\n",
      "Processing Record 17 of set 2 | arraial do cabo\n",
      "Processing Record 18 of set 2 | bluff\n",
      "Processing Record 19 of set 2 | ahome\n",
      "Processing Record 20 of set 2 | lebu\n",
      "Processing Record 21 of set 2 | hithadhoo\n",
      "Processing Record 22 of set 2 | chokurdakh\n",
      "Processing Record 23 of set 2 | tambura\n",
      "Processing Record 24 of set 2 | chuy\n",
      "Processing Record 25 of set 2 | kunda\n",
      "Processing Record 26 of set 2 | nagornskiy\n",
      "Processing Record 27 of set 2 | melito di porto salvo\n",
      "Processing Record 28 of set 2 | paraopeba\n",
      "tsihombe not found. Skipping...\n",
      "Processing Record 29 of set 2 | jamestown\n",
      "Processing Record 30 of set 2 | lazaro cardenas\n",
      "Processing Record 31 of set 2 | avera\n",
      "Processing Record 32 of set 2 | yellowknife\n",
      "Processing Record 33 of set 2 | derzhavinsk\n",
      "Processing Record 34 of set 2 | lusambo\n",
      "Processing Record 35 of set 2 | longyearbyen\n",
      "Processing Record 36 of set 2 | puerto ayora\n",
      "Processing Record 37 of set 2 | jiayuguan\n",
      "Processing Record 38 of set 2 | necochea\n",
      "Processing Record 39 of set 2 | kaitangata\n",
      "Processing Record 40 of set 2 | tasiilaq\n",
      "Processing Record 41 of set 2 | brooks\n",
      "Processing Record 42 of set 2 | maceio\n",
      "Processing Record 43 of set 2 | apomu\n",
      "Processing Record 44 of set 2 | marakkanam\n",
      "Processing Record 45 of set 2 | bengkulu\n",
      "Processing Record 46 of set 2 | saint-pierre\n",
      "cumaribo not found. Skipping...\n",
      "Processing Record 47 of set 2 | orchard homes\n",
      "Processing Record 48 of set 2 | acapulco\n",
      "Processing Record 49 of set 2 | nkayi\n",
      "Processing Record 50 of set 2 | owensboro\n",
      "Processing Record 1 of set 3 | salym\n",
      "belushya guba not found. Skipping...\n",
      "Processing Record 2 of set 3 | hami\n",
      "Processing Record 3 of set 3 | pinega\n",
      "Processing Record 4 of set 3 | hobart\n",
      "khormuj not found. Skipping...\n",
      "Processing Record 5 of set 3 | vestmannaeyjar\n",
      "Processing Record 6 of set 3 | sakakah\n",
      "Processing Record 7 of set 3 | savannah bight\n",
      "Processing Record 8 of set 3 | avarua\n",
      "Processing Record 9 of set 3 | airai\n",
      "Processing Record 10 of set 3 | kieta\n",
      "Processing Record 11 of set 3 | mizdah\n",
      "attawapiskat not found. Skipping...\n",
      "Processing Record 12 of set 3 | port hardy\n",
      "Processing Record 13 of set 3 | moses lake\n",
      "Processing Record 14 of set 3 | yumen\n",
      "Processing Record 15 of set 3 | okha\n",
      "Processing Record 16 of set 3 | dreux\n",
      "Processing Record 17 of set 3 | alanya\n",
      "Processing Record 18 of set 3 | oga\n",
      "Processing Record 19 of set 3 | ketchikan\n",
      "mys shmidta not found. Skipping...\n",
      "Processing Record 20 of set 3 | portobelo\n",
      "Processing Record 21 of set 3 | mayo\n",
      "Processing Record 22 of set 3 | saint george\n",
      "Processing Record 23 of set 3 | namibe\n",
      "Processing Record 24 of set 3 | iracoubo\n",
      "Processing Record 25 of set 3 | port elizabeth\n",
      "Processing Record 26 of set 3 | berkovica\n",
      "Processing Record 27 of set 3 | victoria\n",
      "Processing Record 28 of set 3 | haukipudas\n",
      "Processing Record 29 of set 3 | galatas\n",
      "Processing Record 30 of set 3 | soyo\n",
      "Processing Record 31 of set 3 | samarai\n",
      "Processing Record 32 of set 3 | dunedin\n",
      "Processing Record 33 of set 3 | debre tabor\n",
      "Processing Record 34 of set 3 | hilo\n",
      "Processing Record 35 of set 3 | tuy hoa\n",
      "Processing Record 36 of set 3 | lorengau\n",
      "Processing Record 37 of set 3 | carnarvon\n",
      "Processing Record 38 of set 3 | killybegs\n",
      "Processing Record 39 of set 3 | jadu\n",
      "Processing Record 40 of set 3 | formosa\n",
      "Processing Record 41 of set 3 | new norfolk\n",
      "Processing Record 42 of set 3 | kahului\n",
      "Processing Record 43 of set 3 | zabol\n",
      "bolshaya atnya not found. Skipping...\n",
      "Processing Record 44 of set 3 | ginir\n",
      "Processing Record 45 of set 3 | badarpur\n",
      "Processing Record 46 of set 3 | rio tuba\n",
      "Processing Record 47 of set 3 | ejido\n",
      "palabuhanratu not found. Skipping...\n",
      "Processing Record 48 of set 3 | pingliang\n",
      "Processing Record 49 of set 3 | smithers\n",
      "Processing Record 50 of set 3 | rosarito\n",
      "Processing Record 1 of set 4 | kot radha kishan\n",
      "nizhneyansk not found. Skipping...\n",
      "Processing Record 2 of set 4 | portland\n",
      "Processing Record 3 of set 4 | impfondo\n",
      "Processing Record 4 of set 4 | atyrau\n",
      "Processing Record 5 of set 4 | cody\n",
      "Processing Record 6 of set 4 | salinas\n",
      "Processing Record 7 of set 4 | cayenne\n",
      "Processing Record 8 of set 4 | erenhot\n",
      "Processing Record 9 of set 4 | port lincoln\n",
      "Processing Record 10 of set 4 | wajima\n",
      "Processing Record 11 of set 4 | rio gallegos\n",
      "Processing Record 12 of set 4 | butterworth\n",
      "Processing Record 13 of set 4 | morro bay\n",
      "Processing Record 14 of set 4 | hasaki\n",
      "Processing Record 15 of set 4 | qandala\n",
      "Processing Record 16 of set 4 | pangnirtung\n",
      "Processing Record 17 of set 4 | wadi maliz\n",
      "Processing Record 18 of set 4 | esperance\n",
      "Processing Record 19 of set 4 | luderitz\n",
      "Processing Record 20 of set 4 | lavrentiya\n",
      "Processing Record 21 of set 4 | vostok\n",
      "Processing Record 22 of set 4 | barra da estiva\n",
      "Processing Record 23 of set 4 | palimbang\n",
      "Processing Record 24 of set 4 | cabo san lucas\n",
      "Processing Record 25 of set 4 | labrea\n",
      "Processing Record 26 of set 4 | mareeba\n",
      "Processing Record 27 of set 4 | sao filipe\n",
      "Processing Record 28 of set 4 | bilibino\n",
      "Processing Record 29 of set 4 | puerto escondido\n",
      "Processing Record 30 of set 4 | kosamba\n",
      "Processing Record 31 of set 4 | petropavlovsk-kamchatskiy\n",
      "Processing Record 32 of set 4 | tsogni\n",
      "Processing Record 33 of set 4 | saint-denis\n",
      "Processing Record 34 of set 4 | broome\n",
      "Processing Record 35 of set 4 | flinders\n"
     ]
    },
    {
     "name": "stdout",
     "output_type": "stream",
     "text": [
      "Processing Record 36 of set 4 | belaya gora\n",
      "Processing Record 37 of set 4 | constitucion\n",
      "Processing Record 38 of set 4 | kavieng\n",
      "Processing Record 39 of set 4 | moramanga\n",
      "Processing Record 40 of set 4 | kuchera\n",
      "Processing Record 41 of set 4 | sambava\n",
      "Processing Record 42 of set 4 | ponta do sol\n",
      "Processing Record 43 of set 4 | wattegama\n",
      "Processing Record 44 of set 4 | ludvika\n",
      "Processing Record 45 of set 4 | bredasdorp\n",
      "Processing Record 46 of set 4 | mezen\n",
      "Processing Record 47 of set 4 | henties bay\n",
      "chagda not found. Skipping...\n",
      "Processing Record 48 of set 4 | santa maria\n",
      "Processing Record 49 of set 4 | laguna\n",
      "Processing Record 50 of set 4 | barao de melgaco\n",
      "Processing Record 1 of set 5 | katsuura\n",
      "sorvag not found. Skipping...\n",
      "Processing Record 2 of set 5 | vila franca do campo\n",
      "Processing Record 3 of set 5 | cherskiy\n",
      "Processing Record 4 of set 5 | valparaiso\n",
      "Processing Record 5 of set 5 | torbay\n",
      "Processing Record 6 of set 5 | saint-alexandre\n",
      "Processing Record 7 of set 5 | ixtapa\n",
      "Processing Record 8 of set 5 | korla\n",
      "Processing Record 9 of set 5 | saint-philippe\n",
      "Processing Record 10 of set 5 | bien hoa\n",
      "Processing Record 11 of set 5 | nakama\n",
      "sidi bu zayd not found. Skipping...\n",
      "Processing Record 12 of set 5 | varniai\n",
      "Processing Record 13 of set 5 | rio grande\n",
      "Processing Record 14 of set 5 | caravelas\n",
      "Processing Record 15 of set 5 | okhotsk\n",
      "Processing Record 16 of set 5 | kodiak\n",
      "Processing Record 17 of set 5 | ust-uda\n",
      "Processing Record 18 of set 5 | isla vista\n",
      "Processing Record 19 of set 5 | coihaique\n",
      "Processing Record 20 of set 5 | hovd\n",
      "Processing Record 21 of set 5 | hofn\n",
      "Processing Record 22 of set 5 | tecoanapa\n",
      "Processing Record 23 of set 5 | qui nhon\n",
      "Processing Record 24 of set 5 | labytnangi\n",
      "Processing Record 25 of set 5 | ilam\n",
      "Processing Record 26 of set 5 | voh\n",
      "Processing Record 27 of set 5 | preobrazheniye\n",
      "Processing Record 28 of set 5 | matara\n",
      "cheuskiny not found. Skipping...\n",
      "Processing Record 29 of set 5 | mujiayingzi\n",
      "viligili not found. Skipping...\n",
      "Processing Record 30 of set 5 | brae\n",
      "Processing Record 31 of set 5 | ambilobe\n",
      "Processing Record 32 of set 5 | arlit\n",
      "Processing Record 33 of set 5 | nara\n",
      "Processing Record 34 of set 5 | nadvoitsy\n",
      "barentsburg not found. Skipping...\n",
      "grand river south east not found. Skipping...\n",
      "Processing Record 35 of set 5 | tautira\n",
      "Processing Record 36 of set 5 | bethel\n",
      "bur gabo not found. Skipping...\n",
      "Processing Record 37 of set 5 | lodja\n",
      "Processing Record 38 of set 5 | staraya russa\n",
      "Processing Record 39 of set 5 | taltal\n",
      "amderma not found. Skipping...\n",
      "Processing Record 40 of set 5 | zhigansk\n",
      "Processing Record 41 of set 5 | vanimo\n",
      "Processing Record 42 of set 5 | tilichiki\n",
      "Processing Record 43 of set 5 | yulara\n",
      "Processing Record 44 of set 5 | ossora\n",
      "Processing Record 45 of set 5 | husavik\n",
      "Processing Record 46 of set 5 | mahon\n",
      "Processing Record 47 of set 5 | salisbury\n",
      "Processing Record 48 of set 5 | sao miguel do araguaia\n",
      "Processing Record 49 of set 5 | gaoua\n",
      "Processing Record 50 of set 5 | bogande\n",
      "Processing Record 1 of set 6 | lata\n",
      "Processing Record 2 of set 6 | meulaboh\n",
      "Processing Record 3 of set 6 | jiuquan\n",
      "Processing Record 4 of set 6 | tuktoyaktuk\n",
      "Processing Record 5 of set 6 | esna\n",
      "Processing Record 6 of set 6 | tacuarembo\n",
      "Processing Record 7 of set 6 | lewistown\n",
      "Processing Record 8 of set 6 | bulgan\n",
      "Processing Record 9 of set 6 | yunyang\n",
      "Processing Record 10 of set 6 | sioux lookout\n",
      "Processing Record 11 of set 6 | laela\n",
      "Processing Record 12 of set 6 | comodoro rivadavia\n",
      "Processing Record 13 of set 6 | santarem\n",
      "aflu not found. Skipping...\n",
      "Processing Record 14 of set 6 | belmonte\n",
      "Processing Record 15 of set 6 | homer\n",
      "Processing Record 16 of set 6 | del rio\n",
      "Processing Record 17 of set 6 | kuah\n",
      "Processing Record 18 of set 6 | vardo\n",
      "Processing Record 19 of set 6 | salta\n",
      "Processing Record 20 of set 6 | souillac\n",
      "Processing Record 21 of set 6 | ketou\n",
      "Processing Record 22 of set 6 | calama\n",
      "Processing Record 23 of set 6 | sao felix do xingu\n",
      "Processing Record 24 of set 6 | narsaq\n",
      "Processing Record 25 of set 6 | kyra\n",
      "Processing Record 26 of set 6 | bathsheba\n",
      "Processing Record 27 of set 6 | contamana\n",
      "crab hill not found. Skipping...\n",
      "Processing Record 28 of set 6 | pochutla\n",
      "Processing Record 29 of set 6 | tuatapere\n",
      "Processing Record 30 of set 6 | adre\n",
      "Processing Record 31 of set 6 | pitimbu\n",
      "Processing Record 32 of set 6 | cam ranh\n",
      "Processing Record 33 of set 6 | vysokogornyy\n",
      "Processing Record 34 of set 6 | nemuro\n",
      "Processing Record 35 of set 6 | keroka\n",
      "Processing Record 36 of set 6 | san rafael\n",
      "Processing Record 37 of set 6 | berdigestyakh\n",
      "nguiu not found. Skipping...\n",
      "Processing Record 38 of set 6 | nanortalik\n",
      "Processing Record 39 of set 6 | beidao\n",
      "Processing Record 40 of set 6 | barinas\n",
      "Processing Record 41 of set 6 | marsa matruh\n",
      "Processing Record 42 of set 6 | oranjestad\n",
      "Processing Record 43 of set 6 | kanniyakumari\n",
      "kyle of lochalsh not found. Skipping...\n",
      "Processing Record 44 of set 6 | bam\n",
      "Processing Record 45 of set 6 | kupang\n",
      "Processing Record 46 of set 6 | chadan\n",
      "Processing Record 47 of set 6 | saint anthony\n",
      "Processing Record 48 of set 6 | assiniboia\n",
      "Processing Record 49 of set 6 | sorochinsk\n",
      "Processing Record 50 of set 6 | fortuna\n",
      "Processing Record 1 of set 7 | empalme\n",
      "Processing Record 2 of set 7 | norman wells\n",
      "Processing Record 3 of set 7 | mount pleasant\n",
      "Processing Record 4 of set 7 | garissa\n",
      "Processing Record 5 of set 7 | biaora\n",
      "Processing Record 6 of set 7 | axim\n",
      "marcona not found. Skipping...\n",
      "Processing Record 7 of set 7 | puro\n",
      "Processing Record 8 of set 7 | neuquen\n",
      "Processing Record 9 of set 7 | kapuskasing\n",
      "daxian not found. Skipping...\n",
      "Processing Record 10 of set 7 | grindavik\n",
      "Processing Record 11 of set 7 | jutai\n",
      "Processing Record 12 of set 7 | fremont\n",
      "Processing Record 13 of set 7 | dalby\n",
      "Processing Record 14 of set 7 | namie\n",
      "Processing Record 15 of set 7 | dawlatabad\n",
      "Processing Record 16 of set 7 | hambantota\n",
      "Processing Record 17 of set 7 | leningradskiy\n",
      "Processing Record 18 of set 7 | clyde river\n",
      "Processing Record 19 of set 7 | manacapuru\n",
      "Processing Record 20 of set 7 | mabaruma\n",
      "tlaxiaco not found. Skipping...\n",
      "Processing Record 21 of set 7 | songea\n",
      "Processing Record 22 of set 7 | motygino\n",
      "Processing Record 23 of set 7 | touros\n",
      "Processing Record 24 of set 7 | keti bandar\n",
      "Processing Record 25 of set 7 | mildura\n",
      "Processing Record 26 of set 7 | pasighat\n",
      "Processing Record 27 of set 7 | jasrana\n",
      "warqla not found. Skipping...\n",
      "Processing Record 28 of set 7 | wanning\n",
      "Processing Record 29 of set 7 | oktyabrskoye\n",
      "Processing Record 30 of set 7 | shache\n",
      "Processing Record 31 of set 7 | juneau\n",
      "Processing Record 32 of set 7 | kruisfontein\n",
      "Processing Record 33 of set 7 | berlevag\n",
      "Processing Record 34 of set 7 | high level\n",
      "Processing Record 35 of set 7 | nchelenge\n",
      "Processing Record 36 of set 7 | mount gambier\n",
      "Processing Record 37 of set 7 | kembe\n",
      "Processing Record 38 of set 7 | aras\n",
      "Processing Record 39 of set 7 | yurgamysh\n",
      "Processing Record 40 of set 7 | vila\n",
      "utiroa not found. Skipping...\n",
      "Processing Record 41 of set 7 | nioki\n",
      "Processing Record 42 of set 7 | yerbogachen\n",
      "Processing Record 43 of set 7 | norsup\n",
      "Processing Record 44 of set 7 | namatanai\n",
      "Processing Record 45 of set 7 | hirado\n",
      "cholan not found. Skipping...\n",
      "Processing Record 46 of set 7 | saskylakh\n",
      "vedaranniyam not found. Skipping...\n",
      "Processing Record 47 of set 7 | atherton\n",
      "karaul not found. Skipping...\n",
      "Processing Record 48 of set 7 | chuchkovo\n",
      "Processing Record 49 of set 7 | port blair\n",
      "Processing Record 50 of set 7 | diffa\n",
      "Processing Record 1 of set 8 | faya\n",
      "Processing Record 2 of set 8 | bubaque\n",
      "Processing Record 3 of set 8 | lasa\n",
      "Processing Record 4 of set 8 | la palma\n",
      "Processing Record 5 of set 8 | shingu\n",
      "Processing Record 6 of set 8 | sao joao da barra\n",
      "Processing Record 7 of set 8 | wajid\n",
      "Processing Record 8 of set 8 | ouallam\n",
      "Processing Record 9 of set 8 | khuzdar\n",
      "Processing Record 10 of set 8 | mackay\n",
      "Processing Record 11 of set 8 | bandarbeyla\n",
      "Processing Record 12 of set 8 | garango\n",
      "Processing Record 13 of set 8 | padang\n",
      "sentyabrskiy not found. Skipping...\n",
      "Processing Record 14 of set 8 | takoradi\n",
      "Processing Record 15 of set 8 | port macquarie\n",
      "Processing Record 16 of set 8 | bay roberts\n",
      "Processing Record 17 of set 8 | sinnamary\n",
      "Processing Record 18 of set 8 | nayoro\n"
     ]
    },
    {
     "name": "stdout",
     "output_type": "stream",
     "text": [
      "labutta not found. Skipping...\n",
      "Processing Record 19 of set 8 | kasumigaura\n",
      "Processing Record 20 of set 8 | loa janan\n",
      "Processing Record 21 of set 8 | ozernovskiy\n",
      "Processing Record 22 of set 8 | port-gentil\n",
      "Processing Record 23 of set 8 | lagoa\n",
      "Processing Record 24 of set 8 | tame\n",
      "Processing Record 25 of set 8 | rawlins\n",
      "Processing Record 26 of set 8 | barcelona\n",
      "Processing Record 27 of set 8 | iqaluit\n",
      "Processing Record 28 of set 8 | ust-kulom\n",
      "Processing Record 29 of set 8 | berezovyy\n",
      "Processing Record 30 of set 8 | ribeira grande\n",
      "Processing Record 31 of set 8 | tagusao\n",
      "Processing Record 32 of set 8 | cidreira\n",
      "Processing Record 33 of set 8 | guerrero negro\n",
      "Processing Record 34 of set 8 | kinshasa\n",
      "Processing Record 35 of set 8 | say\n",
      "higuey not found. Skipping...\n",
      "Processing Record 36 of set 8 | severo-kurilsk\n",
      "Processing Record 37 of set 8 | chicama\n",
      "Processing Record 38 of set 8 | tromso\n",
      "Processing Record 39 of set 8 | waipawa\n",
      "Processing Record 40 of set 8 | lipin bor\n",
      "Processing Record 41 of set 8 | san carlos de bariloche\n",
      "Processing Record 42 of set 8 | komsomolskiy\n",
      "miranorte not found. Skipping...\n",
      "Processing Record 43 of set 8 | verkhoyansk\n",
      "Processing Record 44 of set 8 | verkhnyaya inta\n",
      "Processing Record 45 of set 8 | bilma\n",
      "Processing Record 46 of set 8 | pevek\n",
      "Processing Record 47 of set 8 | beringovskiy\n",
      "Processing Record 48 of set 8 | dongsheng\n",
      "Processing Record 49 of set 8 | kosh-agach\n",
      "borama not found. Skipping...\n",
      "Processing Record 50 of set 8 | tyrma\n",
      "Processing Record 1 of set 9 | andenes\n",
      "Processing Record 2 of set 9 | kalasin\n",
      "Processing Record 3 of set 9 | dubbo\n",
      "Processing Record 4 of set 9 | college\n",
      "Processing Record 5 of set 9 | yasnyy\n",
      "Processing Record 6 of set 9 | cortland\n",
      "Processing Record 7 of set 9 | falmouth\n",
      "Processing Record 8 of set 9 | vadso\n",
      "safwah not found. Skipping...\n",
      "Processing Record 9 of set 9 | adrar\n",
      "Processing Record 10 of set 9 | acari\n",
      "Processing Record 11 of set 9 | clarence town\n",
      "Processing Record 12 of set 9 | mao\n",
      "Processing Record 13 of set 9 | kirakira\n",
      "Processing Record 14 of set 9 | nome\n",
      "Processing Record 15 of set 9 | tabriz\n",
      "Processing Record 16 of set 9 | stornoway\n",
      "Processing Record 17 of set 9 | konevo\n",
      "Processing Record 18 of set 9 | goundam\n",
      "Processing Record 19 of set 9 | sri aman\n",
      "Processing Record 20 of set 9 | de aar\n",
      "Processing Record 21 of set 9 | balkhash\n",
      "Processing Record 22 of set 9 | starozhilovo\n",
      "tumannyy not found. Skipping...\n",
      "Processing Record 23 of set 9 | miles city\n",
      "Processing Record 24 of set 9 | bognor regis\n",
      "Processing Record 25 of set 9 | dingle\n",
      "Processing Record 26 of set 9 | te anau\n",
      "Processing Record 27 of set 9 | tottenham\n",
      "Processing Record 28 of set 9 | acheng\n",
      "Processing Record 29 of set 9 | hollins\n",
      "Processing Record 30 of set 9 | itum-kale\n",
      "Processing Record 31 of set 9 | qasigiannguit\n",
      "Processing Record 32 of set 9 | ntungamo\n",
      "Processing Record 33 of set 9 | nauta\n",
      "Processing Record 34 of set 9 | zlynka\n",
      "Processing Record 35 of set 9 | batemans bay\n",
      "eldikan not found. Skipping...\n",
      "saryshagan not found. Skipping...\n",
      "Processing Record 36 of set 9 | qarchi gak\n",
      "Processing Record 37 of set 9 | akhisar\n",
      "Processing Record 38 of set 9 | kilindoni\n",
      "Processing Record 39 of set 9 | palmares do sul\n",
      "staromaryevka not found. Skipping...\n",
      "Processing Record 40 of set 9 | evensk\n",
      "Processing Record 41 of set 9 | srandakan\n",
      "Processing Record 42 of set 9 | saldanha\n",
      "Processing Record 43 of set 9 | baghdad\n",
      "Processing Record 44 of set 9 | les cayes\n",
      "khonuu not found. Skipping...\n",
      "Processing Record 45 of set 9 | kenai\n",
      "Processing Record 46 of set 9 | selma\n",
      "Processing Record 47 of set 9 | perth\n",
      "Processing Record 48 of set 9 | walvis bay\n",
      "Processing Record 49 of set 9 | agadez\n",
      "Processing Record 50 of set 9 | kutum\n",
      "Processing Record 1 of set 10 | bukoba\n",
      "Processing Record 2 of set 10 | luanda\n",
      "Processing Record 3 of set 10 | baykit\n",
      "Processing Record 4 of set 10 | atasu\n",
      "Processing Record 5 of set 10 | quatre cocos\n",
      "Processing Record 6 of set 10 | hamilton\n",
      "Processing Record 7 of set 10 | mecca\n",
      "Processing Record 8 of set 10 | vao\n",
      "Processing Record 9 of set 10 | naze\n",
      "Processing Record 10 of set 10 | outlook\n",
      "Processing Record 11 of set 10 | presidencia roque saenz pena\n",
      "Processing Record 12 of set 10 | porto belo\n",
      "umzimvubu not found. Skipping...\n",
      "Processing Record 13 of set 10 | nouadhibou\n",
      "Processing Record 14 of set 10 | vaitape\n",
      "lolua not found. Skipping...\n",
      "Processing Record 15 of set 10 | santa rita\n",
      "Processing Record 16 of set 10 | chute-aux-outardes\n",
      "Processing Record 17 of set 10 | panguipulli\n",
      "Processing Record 18 of set 10 | sunrise manor\n",
      "Processing Record 19 of set 10 | hope\n",
      "Processing Record 20 of set 10 | pella\n",
      "Processing Record 21 of set 10 | nyurba\n",
      "Processing Record 22 of set 10 | divo\n",
      "Processing Record 23 of set 10 | slave lake\n",
      "Processing Record 24 of set 10 | alofi\n",
      "Processing Record 25 of set 10 | arkhangelsk\n",
      "Processing Record 26 of set 10 | hazorasp\n",
      "Processing Record 27 of set 10 | puerto leguizamo\n",
      "Processing Record 28 of set 10 | banda aceh\n",
      "Processing Record 29 of set 10 | marsh harbour\n",
      "Processing Record 30 of set 10 | phan thiet\n",
      "Processing Record 31 of set 10 | krasnoselkup\n",
      "Processing Record 32 of set 10 | aginskoye\n",
      "Processing Record 33 of set 10 | hualmay\n",
      "Processing Record 34 of set 10 | barcelos\n",
      "caiuti not found. Skipping...\n",
      "Processing Record 35 of set 10 | anadyr\n",
      "Processing Record 36 of set 10 | sur\n",
      "Processing Record 37 of set 10 | sibolga\n",
      "Processing Record 38 of set 10 | lompoc\n",
      "Processing Record 39 of set 10 | yinchuan\n",
      "Processing Record 40 of set 10 | at-bashi\n",
      "Processing Record 41 of set 10 | byron bay\n",
      "Processing Record 42 of set 10 | muroto\n",
      "Processing Record 43 of set 10 | madaoua\n",
      "Processing Record 44 of set 10 | ipixuna\n",
      "Processing Record 45 of set 10 | los andes\n",
      "Processing Record 46 of set 10 | kruszwica\n",
      "Processing Record 47 of set 10 | verkhnevilyuysk\n",
      "Processing Record 48 of set 10 | safaga\n",
      "Processing Record 49 of set 10 | puerto maldonado\n",
      "Processing Record 50 of set 10 | tomatlan\n",
      "Processing Record 1 of set 11 | westport\n",
      "Processing Record 2 of set 11 | velykoploske\n",
      "Processing Record 3 of set 11 | tura\n",
      "Processing Record 4 of set 11 | lumberton\n",
      "Processing Record 5 of set 11 | noumea\n",
      "Processing Record 6 of set 11 | charleston\n",
      "Processing Record 7 of set 11 | richards bay\n",
      "Processing Record 8 of set 11 | shimoda\n",
      "Processing Record 9 of set 11 | russell\n",
      "Processing Record 10 of set 11 | hoquiam\n",
      "Processing Record 11 of set 11 | charlestown\n",
      "Processing Record 12 of set 11 | haines junction\n",
      "Processing Record 13 of set 11 | do gonbadan\n",
      "Processing Record 14 of set 11 | nuevitas\n",
      "karkaralinsk not found. Skipping...\n",
      "Processing Record 15 of set 11 | yar-sale\n",
      "Processing Record 16 of set 11 | cairns\n",
      "Processing Record 17 of set 11 | ajdabiya\n",
      "Processing Record 18 of set 11 | porto velho\n",
      "Processing Record 19 of set 11 | talnakh\n",
      "Processing Record 20 of set 11 | khrebtovaya\n",
      "Processing Record 21 of set 11 | antofagasta\n",
      "Processing Record 22 of set 11 | buraydah\n",
      "Processing Record 23 of set 11 | soto la marina\n",
      "Processing Record 24 of set 11 | knyaze-volkonskoye\n",
      "Processing Record 25 of set 11 | george town\n",
      "Processing Record 26 of set 11 | banjar\n",
      "Processing Record 27 of set 11 | yuryuzan\n",
      "Processing Record 28 of set 11 | copacabana\n",
      "Processing Record 29 of set 11 | mutoko\n",
      "Processing Record 30 of set 11 | tiznit\n",
      "Processing Record 31 of set 11 | nuzvid\n",
      "bolungarvik not found. Skipping...\n",
      "Processing Record 32 of set 11 | vestmanna\n",
      "Processing Record 33 of set 11 | sehithwa\n",
      "Processing Record 34 of set 11 | provideniya\n",
      "tabiauea not found. Skipping...\n",
      "Processing Record 35 of set 11 | trincomalee\n",
      "Processing Record 36 of set 11 | ilhabela\n",
      "Processing Record 37 of set 11 | vagur\n",
      "Processing Record 38 of set 11 | gat\n",
      "sumbawa not found. Skipping...\n",
      "Processing Record 39 of set 11 | silver city\n",
      "Processing Record 40 of set 11 | ghanzi\n",
      "Processing Record 41 of set 11 | kitimat\n",
      "Processing Record 42 of set 11 | san juan\n",
      "Processing Record 43 of set 11 | ramhormoz\n",
      "Processing Record 44 of set 11 | terrace\n",
      "Processing Record 45 of set 11 | mandan\n",
      "Processing Record 46 of set 11 | gamba\n",
      "Processing Record 47 of set 11 | skala\n",
      "Processing Record 48 of set 11 | moshi\n",
      "Processing Record 49 of set 11 | skelleftea\n",
      "Processing Record 50 of set 11 | methoni\n",
      "Processing Record 1 of set 12 | oistins\n"
     ]
    },
    {
     "name": "stdout",
     "output_type": "stream",
     "text": [
      "Processing Record 2 of set 12 | djenne\n",
      "Processing Record 3 of set 12 | srednekolymsk\n",
      "Processing Record 4 of set 12 | nguru\n",
      "Processing Record 5 of set 12 | karambakkudi\n",
      "Processing Record 6 of set 12 | klaksvik\n",
      "Processing Record 7 of set 12 | kendari\n",
      "rungata not found. Skipping...\n",
      "Processing Record 8 of set 12 | beauvais\n",
      "Processing Record 9 of set 12 | cileungsi\n",
      "Processing Record 10 of set 12 | mayor pablo lagerenza\n",
      "Processing Record 11 of set 12 | viedma\n",
      "Processing Record 12 of set 12 | xuddur\n",
      "Processing Record 13 of set 12 | bhim tal\n",
      "Processing Record 14 of set 12 | qaqortoq\n",
      "Processing Record 15 of set 12 | aklavik\n",
      "Processing Record 16 of set 12 | kudahuvadhoo\n",
      "Processing Record 17 of set 12 | manggar\n",
      "Processing Record 18 of set 12 | sept-iles\n",
      "Processing Record 19 of set 12 | coria\n",
      "Processing Record 20 of set 12 | ous\n",
      "Processing Record 21 of set 12 | urumqi\n",
      "Processing Record 22 of set 12 | bonthe\n",
      "Processing Record 23 of set 12 | palmas\n",
      "Processing Record 24 of set 12 | huntington\n",
      "Processing Record 25 of set 12 | conceicao do araguaia\n",
      "Processing Record 26 of set 12 | portree\n",
      "Processing Record 27 of set 12 | codrington\n",
      "Processing Record 28 of set 12 | kropotkin\n",
      "Processing Record 29 of set 12 | anito\n",
      "haibowan not found. Skipping...\n",
      "Processing Record 30 of set 12 | vanavara\n",
      "Processing Record 31 of set 12 | mehran\n",
      "Processing Record 32 of set 12 | charcas\n",
      "Processing Record 33 of set 12 | orotukan\n",
      "Processing Record 34 of set 12 | kangalassy\n",
      "Processing Record 35 of set 12 | panuco\n",
      "------------------------------------------\n",
      "Data Retrieval Complete\n",
      "------------------------------------------\n"
     ]
    }
   ],
   "source": [
    "\n",
    "#create lists for storing api data\n",
    "cityName = []\n",
    "lat = []\n",
    "lng = []\n",
    "maxTemp = []\n",
    "humidity = []\n",
    "clouds = []\n",
    "windSpeed = []\n",
    "country = []\n",
    "dates = []\n",
    "\n",
    "# set initial count quantities for organization\n",
    "countRecord = 1\n",
    "countSet = 1\n",
    "\n",
    "print(f\"Beginning Data Retrieval\")\n",
    "print(f\"------------------------------------------\")\n",
    "\n",
    "# loops for creating dataframe columns\n",
    "for city in cities:\n",
    "    \n",
    "    \n",
    "    try:\n",
    "       \n",
    "        response = requests.get(f\"{url}&q={city}\").json()\n",
    "        cityName.append(response['name'])\n",
    "        lat.append(response['coord']['lat'])\n",
    "        lng.append(response['coord']['lon'])\n",
    "        maxTemp.append(response['main']['temp_max'])\n",
    "        humidity.append(response['main']['humidity'])\n",
    "        clouds.append(response['clouds']['all'])\n",
    "        windSpeed.append(response['wind']['speed'])               \n",
    "        country.append(response['sys']['country'])\n",
    "        dates.append(response['dt'])\n",
    "        \n",
    "        \n",
    "        print(f\"Processing Record {countRecord} of set {countSet} | {city}\")  \n",
    "                \n",
    "        countRecord += 1\n",
    "       \n",
    "         \n",
    "        if countRecord == 51:\n",
    "            countSet += 1\n",
    "            countRecord = 1\n",
    "   \n",
    "    except KeyError:\n",
    "        print(f\"{city} not found. Skipping...\")\n",
    "        #print((f\"{url}&q={city}\"))\n",
    "    #break\n",
    "    continue\n",
    "    \n",
    "  \n",
    "\n",
    "print(f\"------------------------------------------\")\n",
    "print(f\"Data Retrieval Complete\")\n",
    "print(f\"------------------------------------------\")"
   ]
  },
  {
   "cell_type": "markdown",
   "metadata": {},
   "source": [
    "### Convert Raw Data to DataFrame\n",
    "* Export the city data into a .csv.\n",
    "* Display the DataFrame"
   ]
  },
  {
   "cell_type": "code",
   "execution_count": 33,
   "metadata": {},
   "outputs": [
    {
     "data": {
      "text/html": [
       "<div>\n",
       "<style scoped>\n",
       "    .dataframe tbody tr th:only-of-type {\n",
       "        vertical-align: middle;\n",
       "    }\n",
       "\n",
       "    .dataframe tbody tr th {\n",
       "        vertical-align: top;\n",
       "    }\n",
       "\n",
       "    .dataframe thead th {\n",
       "        text-align: right;\n",
       "    }\n",
       "</style>\n",
       "<table border=\"1\" class=\"dataframe\">\n",
       "  <thead>\n",
       "    <tr style=\"text-align: right;\">\n",
       "      <th></th>\n",
       "      <th>City</th>\n",
       "      <th>Lat</th>\n",
       "      <th>Lng</th>\n",
       "      <th>Max Temp</th>\n",
       "      <th>Humidity</th>\n",
       "      <th>Cloudiness</th>\n",
       "      <th>Wind Speed</th>\n",
       "      <th>Country</th>\n",
       "      <th>Date</th>\n",
       "    </tr>\n",
       "  </thead>\n",
       "  <tbody>\n",
       "    <tr>\n",
       "      <th>0</th>\n",
       "      <td>Eyl</td>\n",
       "      <td>7.98</td>\n",
       "      <td>49.82</td>\n",
       "      <td>83.08</td>\n",
       "      <td>72</td>\n",
       "      <td>0</td>\n",
       "      <td>7.07</td>\n",
       "      <td>SO</td>\n",
       "      <td>1588974135</td>\n",
       "    </tr>\n",
       "    <tr>\n",
       "      <th>1</th>\n",
       "      <td>Vaini</td>\n",
       "      <td>-21.20</td>\n",
       "      <td>-175.20</td>\n",
       "      <td>80.60</td>\n",
       "      <td>88</td>\n",
       "      <td>75</td>\n",
       "      <td>11.41</td>\n",
       "      <td>TO</td>\n",
       "      <td>1588974135</td>\n",
       "    </tr>\n",
       "    <tr>\n",
       "      <th>2</th>\n",
       "      <td>Boyolangu</td>\n",
       "      <td>-8.12</td>\n",
       "      <td>111.89</td>\n",
       "      <td>76.80</td>\n",
       "      <td>90</td>\n",
       "      <td>97</td>\n",
       "      <td>1.61</td>\n",
       "      <td>ID</td>\n",
       "      <td>1588974135</td>\n",
       "    </tr>\n",
       "    <tr>\n",
       "      <th>3</th>\n",
       "      <td>Mar del Plata</td>\n",
       "      <td>-38.00</td>\n",
       "      <td>-57.56</td>\n",
       "      <td>59.00</td>\n",
       "      <td>72</td>\n",
       "      <td>49</td>\n",
       "      <td>12.75</td>\n",
       "      <td>AR</td>\n",
       "      <td>1588973959</td>\n",
       "    </tr>\n",
       "    <tr>\n",
       "      <th>4</th>\n",
       "      <td>Coahuayana Viejo</td>\n",
       "      <td>18.73</td>\n",
       "      <td>-103.68</td>\n",
       "      <td>89.60</td>\n",
       "      <td>43</td>\n",
       "      <td>40</td>\n",
       "      <td>13.87</td>\n",
       "      <td>MX</td>\n",
       "      <td>1588974136</td>\n",
       "    </tr>\n",
       "  </tbody>\n",
       "</table>\n",
       "</div>"
      ],
      "text/plain": [
       "               City    Lat     Lng  Max Temp  Humidity  Cloudiness  \\\n",
       "0               Eyl   7.98   49.82     83.08        72           0   \n",
       "1             Vaini -21.20 -175.20     80.60        88          75   \n",
       "2         Boyolangu  -8.12  111.89     76.80        90          97   \n",
       "3     Mar del Plata -38.00  -57.56     59.00        72          49   \n",
       "4  Coahuayana Viejo  18.73 -103.68     89.60        43          40   \n",
       "\n",
       "   Wind Speed Country        Date  \n",
       "0        7.07      SO  1588974135  \n",
       "1       11.41      TO  1588974135  \n",
       "2        1.61      ID  1588974135  \n",
       "3       12.75      AR  1588973959  \n",
       "4       13.87      MX  1588974136  "
      ]
     },
     "execution_count": 33,
     "metadata": {},
     "output_type": "execute_result"
    }
   ],
   "source": [
    "# Create a dictionary from the lists\n",
    "cityDict = {\n",
    "    \"City\": cityName,\n",
    "    \"Lat\":lat, \n",
    "    \"Lng\":lng,\n",
    "    \"Max Temp\": maxTemp,\n",
    "    \"Humidity\": humidity,\n",
    "    \"Cloudiness\":clouds, \n",
    "    \"Wind Speed\":windSpeed,\n",
    "    \"Country\":country,\n",
    "    \"Date\":dates      \n",
    "    }\n",
    "\n",
    "# Create a dataframe using the dicttionary from above\n",
    "city_data_df = pd.DataFrame(cityDict)\n",
    "\n",
    "city_data_df.head()"
   ]
  },
  {
   "cell_type": "code",
   "execution_count": 34,
   "metadata": {},
   "outputs": [],
   "source": [
    "#city_data_df.to_csv(output_data_file)"
   ]
  },
  {
   "cell_type": "markdown",
   "metadata": {},
   "source": [
    "## Inspect the data and remove the cities where the humidity > 100%.\n",
    "----\n",
    "Skip this step if there are no cities that have humidity > 100%. "
   ]
  },
  {
   "cell_type": "code",
   "execution_count": 35,
   "metadata": {},
   "outputs": [
    {
     "data": {
      "text/html": [
       "<div>\n",
       "<style scoped>\n",
       "    .dataframe tbody tr th:only-of-type {\n",
       "        vertical-align: middle;\n",
       "    }\n",
       "\n",
       "    .dataframe tbody tr th {\n",
       "        vertical-align: top;\n",
       "    }\n",
       "\n",
       "    .dataframe thead th {\n",
       "        text-align: right;\n",
       "    }\n",
       "</style>\n",
       "<table border=\"1\" class=\"dataframe\">\n",
       "  <thead>\n",
       "    <tr style=\"text-align: right;\">\n",
       "      <th></th>\n",
       "      <th>City</th>\n",
       "      <th>Lat</th>\n",
       "      <th>Lng</th>\n",
       "      <th>Max Temp</th>\n",
       "      <th>Humidity</th>\n",
       "      <th>Cloudiness</th>\n",
       "      <th>Wind Speed</th>\n",
       "      <th>Country</th>\n",
       "      <th>Date</th>\n",
       "    </tr>\n",
       "  </thead>\n",
       "  <tbody>\n",
       "    <tr>\n",
       "      <th>0</th>\n",
       "      <td>Eyl</td>\n",
       "      <td>7.98</td>\n",
       "      <td>49.82</td>\n",
       "      <td>83.08</td>\n",
       "      <td>72</td>\n",
       "      <td>0</td>\n",
       "      <td>7.07</td>\n",
       "      <td>SO</td>\n",
       "      <td>1588974135</td>\n",
       "    </tr>\n",
       "    <tr>\n",
       "      <th>1</th>\n",
       "      <td>Vaini</td>\n",
       "      <td>-21.20</td>\n",
       "      <td>-175.20</td>\n",
       "      <td>80.60</td>\n",
       "      <td>88</td>\n",
       "      <td>75</td>\n",
       "      <td>11.41</td>\n",
       "      <td>TO</td>\n",
       "      <td>1588974135</td>\n",
       "    </tr>\n",
       "    <tr>\n",
       "      <th>2</th>\n",
       "      <td>Boyolangu</td>\n",
       "      <td>-8.12</td>\n",
       "      <td>111.89</td>\n",
       "      <td>76.80</td>\n",
       "      <td>90</td>\n",
       "      <td>97</td>\n",
       "      <td>1.61</td>\n",
       "      <td>ID</td>\n",
       "      <td>1588974135</td>\n",
       "    </tr>\n",
       "    <tr>\n",
       "      <th>3</th>\n",
       "      <td>Mar del Plata</td>\n",
       "      <td>-38.00</td>\n",
       "      <td>-57.56</td>\n",
       "      <td>59.00</td>\n",
       "      <td>72</td>\n",
       "      <td>49</td>\n",
       "      <td>12.75</td>\n",
       "      <td>AR</td>\n",
       "      <td>1588973959</td>\n",
       "    </tr>\n",
       "    <tr>\n",
       "      <th>4</th>\n",
       "      <td>Coahuayana Viejo</td>\n",
       "      <td>18.73</td>\n",
       "      <td>-103.68</td>\n",
       "      <td>89.60</td>\n",
       "      <td>43</td>\n",
       "      <td>40</td>\n",
       "      <td>13.87</td>\n",
       "      <td>MX</td>\n",
       "      <td>1588974136</td>\n",
       "    </tr>\n",
       "    <tr>\n",
       "      <th>...</th>\n",
       "      <td>...</td>\n",
       "      <td>...</td>\n",
       "      <td>...</td>\n",
       "      <td>...</td>\n",
       "      <td>...</td>\n",
       "      <td>...</td>\n",
       "      <td>...</td>\n",
       "      <td>...</td>\n",
       "      <td>...</td>\n",
       "    </tr>\n",
       "    <tr>\n",
       "      <th>580</th>\n",
       "      <td>Mehrān</td>\n",
       "      <td>33.12</td>\n",
       "      <td>46.16</td>\n",
       "      <td>59.00</td>\n",
       "      <td>44</td>\n",
       "      <td>0</td>\n",
       "      <td>6.93</td>\n",
       "      <td>IR</td>\n",
       "      <td>1588974283</td>\n",
       "    </tr>\n",
       "    <tr>\n",
       "      <th>581</th>\n",
       "      <td>Charcas</td>\n",
       "      <td>23.13</td>\n",
       "      <td>-101.12</td>\n",
       "      <td>78.12</td>\n",
       "      <td>23</td>\n",
       "      <td>77</td>\n",
       "      <td>7.76</td>\n",
       "      <td>MX</td>\n",
       "      <td>1588974283</td>\n",
       "    </tr>\n",
       "    <tr>\n",
       "      <th>582</th>\n",
       "      <td>Orotukan</td>\n",
       "      <td>62.27</td>\n",
       "      <td>151.70</td>\n",
       "      <td>27.28</td>\n",
       "      <td>95</td>\n",
       "      <td>95</td>\n",
       "      <td>2.24</td>\n",
       "      <td>RU</td>\n",
       "      <td>1588974283</td>\n",
       "    </tr>\n",
       "    <tr>\n",
       "      <th>583</th>\n",
       "      <td>Kangalassy</td>\n",
       "      <td>62.35</td>\n",
       "      <td>129.96</td>\n",
       "      <td>28.40</td>\n",
       "      <td>86</td>\n",
       "      <td>75</td>\n",
       "      <td>6.71</td>\n",
       "      <td>RU</td>\n",
       "      <td>1588974283</td>\n",
       "    </tr>\n",
       "    <tr>\n",
       "      <th>584</th>\n",
       "      <td>Pánuco</td>\n",
       "      <td>22.05</td>\n",
       "      <td>-98.17</td>\n",
       "      <td>88.00</td>\n",
       "      <td>70</td>\n",
       "      <td>75</td>\n",
       "      <td>12.75</td>\n",
       "      <td>MX</td>\n",
       "      <td>1588974284</td>\n",
       "    </tr>\n",
       "  </tbody>\n",
       "</table>\n",
       "<p>585 rows × 9 columns</p>\n",
       "</div>"
      ],
      "text/plain": [
       "                 City    Lat     Lng  Max Temp  Humidity  Cloudiness  \\\n",
       "0                 Eyl   7.98   49.82     83.08        72           0   \n",
       "1               Vaini -21.20 -175.20     80.60        88          75   \n",
       "2           Boyolangu  -8.12  111.89     76.80        90          97   \n",
       "3       Mar del Plata -38.00  -57.56     59.00        72          49   \n",
       "4    Coahuayana Viejo  18.73 -103.68     89.60        43          40   \n",
       "..                ...    ...     ...       ...       ...         ...   \n",
       "580            Mehrān  33.12   46.16     59.00        44           0   \n",
       "581           Charcas  23.13 -101.12     78.12        23          77   \n",
       "582          Orotukan  62.27  151.70     27.28        95          95   \n",
       "583        Kangalassy  62.35  129.96     28.40        86          75   \n",
       "584            Pánuco  22.05  -98.17     88.00        70          75   \n",
       "\n",
       "     Wind Speed Country        Date  \n",
       "0          7.07      SO  1588974135  \n",
       "1         11.41      TO  1588974135  \n",
       "2          1.61      ID  1588974135  \n",
       "3         12.75      AR  1588973959  \n",
       "4         13.87      MX  1588974136  \n",
       "..          ...     ...         ...  \n",
       "580        6.93      IR  1588974283  \n",
       "581        7.76      MX  1588974283  \n",
       "582        2.24      RU  1588974283  \n",
       "583        6.71      RU  1588974283  \n",
       "584       12.75      MX  1588974284  \n",
       "\n",
       "[585 rows x 9 columns]"
      ]
     },
     "execution_count": 35,
     "metadata": {},
     "output_type": "execute_result"
    }
   ],
   "source": [
    "city_data_df"
   ]
  },
  {
   "cell_type": "code",
   "execution_count": 36,
   "metadata": {},
   "outputs": [],
   "source": [
    "#  Get the indices of cities that have humidity over 100%.\n",
    "idx100 = city_data_df[city_data_df['Humidity'] > 100].index"
   ]
  },
  {
   "cell_type": "code",
   "execution_count": 37,
   "metadata": {},
   "outputs": [
    {
     "data": {
      "text/html": [
       "<div>\n",
       "<style scoped>\n",
       "    .dataframe tbody tr th:only-of-type {\n",
       "        vertical-align: middle;\n",
       "    }\n",
       "\n",
       "    .dataframe tbody tr th {\n",
       "        vertical-align: top;\n",
       "    }\n",
       "\n",
       "    .dataframe thead th {\n",
       "        text-align: right;\n",
       "    }\n",
       "</style>\n",
       "<table border=\"1\" class=\"dataframe\">\n",
       "  <thead>\n",
       "    <tr style=\"text-align: right;\">\n",
       "      <th></th>\n",
       "      <th>City</th>\n",
       "      <th>Lat</th>\n",
       "      <th>Lng</th>\n",
       "      <th>Max Temp</th>\n",
       "      <th>Humidity</th>\n",
       "      <th>Cloudiness</th>\n",
       "      <th>Wind Speed</th>\n",
       "      <th>Country</th>\n",
       "      <th>Date</th>\n",
       "    </tr>\n",
       "  </thead>\n",
       "  <tbody>\n",
       "    <tr>\n",
       "      <th>0</th>\n",
       "      <td>Eyl</td>\n",
       "      <td>7.98</td>\n",
       "      <td>49.82</td>\n",
       "      <td>83.08</td>\n",
       "      <td>72</td>\n",
       "      <td>0</td>\n",
       "      <td>7.07</td>\n",
       "      <td>SO</td>\n",
       "      <td>1588974135</td>\n",
       "    </tr>\n",
       "    <tr>\n",
       "      <th>1</th>\n",
       "      <td>Vaini</td>\n",
       "      <td>-21.20</td>\n",
       "      <td>-175.20</td>\n",
       "      <td>80.60</td>\n",
       "      <td>88</td>\n",
       "      <td>75</td>\n",
       "      <td>11.41</td>\n",
       "      <td>TO</td>\n",
       "      <td>1588974135</td>\n",
       "    </tr>\n",
       "    <tr>\n",
       "      <th>2</th>\n",
       "      <td>Boyolangu</td>\n",
       "      <td>-8.12</td>\n",
       "      <td>111.89</td>\n",
       "      <td>76.80</td>\n",
       "      <td>90</td>\n",
       "      <td>97</td>\n",
       "      <td>1.61</td>\n",
       "      <td>ID</td>\n",
       "      <td>1588974135</td>\n",
       "    </tr>\n",
       "    <tr>\n",
       "      <th>3</th>\n",
       "      <td>Mar del Plata</td>\n",
       "      <td>-38.00</td>\n",
       "      <td>-57.56</td>\n",
       "      <td>59.00</td>\n",
       "      <td>72</td>\n",
       "      <td>49</td>\n",
       "      <td>12.75</td>\n",
       "      <td>AR</td>\n",
       "      <td>1588973959</td>\n",
       "    </tr>\n",
       "    <tr>\n",
       "      <th>4</th>\n",
       "      <td>Coahuayana Viejo</td>\n",
       "      <td>18.73</td>\n",
       "      <td>-103.68</td>\n",
       "      <td>89.60</td>\n",
       "      <td>43</td>\n",
       "      <td>40</td>\n",
       "      <td>13.87</td>\n",
       "      <td>MX</td>\n",
       "      <td>1588974136</td>\n",
       "    </tr>\n",
       "  </tbody>\n",
       "</table>\n",
       "</div>"
      ],
      "text/plain": [
       "               City    Lat     Lng  Max Temp  Humidity  Cloudiness  \\\n",
       "0               Eyl   7.98   49.82     83.08        72           0   \n",
       "1             Vaini -21.20 -175.20     80.60        88          75   \n",
       "2         Boyolangu  -8.12  111.89     76.80        90          97   \n",
       "3     Mar del Plata -38.00  -57.56     59.00        72          49   \n",
       "4  Coahuayana Viejo  18.73 -103.68     89.60        43          40   \n",
       "\n",
       "   Wind Speed Country        Date  \n",
       "0        7.07      SO  1588974135  \n",
       "1       11.41      TO  1588974135  \n",
       "2        1.61      ID  1588974135  \n",
       "3       12.75      AR  1588973959  \n",
       "4       13.87      MX  1588974136  "
      ]
     },
     "execution_count": 37,
     "metadata": {},
     "output_type": "execute_result"
    }
   ],
   "source": [
    "# Make a new DataFrame equal to the city data to drop all humidity outliers by index.\n",
    "# Passing \"inplace=False\" will make a copy of the city_data DataFrame, which we call \"clean_city_data\".\n",
    "cleaned_city_data_df = city_data_df.drop(idx100, inplace=False)\n",
    "\n",
    "cleaned_city_data_df.head()"
   ]
  },
  {
   "cell_type": "code",
   "execution_count": 38,
   "metadata": {},
   "outputs": [],
   "source": [
    "# Extract relevant fields from the data frame\n",
    "relevant_df = cleaned_city_data_df.filter(['City','Country', 'Lat', 'Lng', 'Max Temp', 'Humidity', 'Cloudiness', 'Wind Speed', 'Date'], axis=1)\n",
    "relevant_df.head() \n",
    "# Export the City_Data into a csv\n",
    "relevant_df.to_csv(output_data_file, index=False)"
   ]
  },
  {
   "cell_type": "markdown",
   "metadata": {},
   "source": [
    "## Plotting the Data\n",
    "* Use proper labeling of the plots using plot titles (including date of analysis) and axes labels.\n",
    "* Save the plotted figures as .pngs."
   ]
  },
  {
   "cell_type": "markdown",
   "metadata": {},
   "source": [
    "## Latitude vs. Temperature Plot"
   ]
  },
  {
   "cell_type": "code",
   "execution_count": 39,
   "metadata": {
    "scrolled": true
   },
   "outputs": [
    {
     "data": {
      "image/png": "[encoded data removed]",
      "text/plain": [
       "<Figure size 432x288 with 1 Axes>"
      ]
     },
     "metadata": {
      "needs_background": "light"
     },
     "output_type": "display_data"
    },
    {
     "name": "stdout",
     "output_type": "stream",
     "text": [
      "Observing the data, at the equator (0 lattitude),\n",
      " shows the highest temperature values in a condensed cluster,\n",
      " this being the cities closest to the equator; while the\n",
      " latitude increases in both directions the temp values decrease,\n",
      " these being the values for the cities increasing in distance from the equator.\n"
     ]
    }
   ],
   "source": [
    "# Create a Scatter Plot of Latitude vs Max Temp\n",
    "plt.scatter(relevant_df[\"Lat\"], relevant_df[\"Max Temp\"], marker=\"o\")\n",
    "\n",
    "# Label the chart\n",
    "plt.title(f'City Latitude vs. Max Temperature {time.strftime(\"%m/%d/%Y\")}')\n",
    "plt.ylabel(\"Temperature (F°)\")\n",
    "plt.xlabel(\"Latitude\")\n",
    "\n",
    "\n",
    "# Save the chart\n",
    "plt.savefig(\"images/City Latitude vs. Max Temperature.png\")\n",
    "plt.show()\n",
    "\n",
    "print(\"Observing the data, at the equator (0 lattitude),\\n shows the highest temperature values in a condensed cluster,\\n this being the cities closest to the equator; while the\\n latitude increases in both directions the temp values decrease,\\n these being the values for the cities increasing in distance from the equator.\")"
   ]
  },
  {
   "cell_type": "markdown",
   "metadata": {},
   "source": [
    "## Latitude vs. Humidity Plot"
   ]
  },
  {
   "cell_type": "code",
   "execution_count": 40,
   "metadata": {},
   "outputs": [
    {
     "data": {
      "image/png": "[encoded data removed]",
      "text/plain": [
       "<Figure size 432x288 with 1 Axes>"
      ]
     },
     "metadata": {
      "needs_background": "light"
     },
     "output_type": "display_data"
    },
    {
     "name": "stdout",
     "output_type": "stream",
     "text": [
      "Being the hottest location at the equator (0 lattitude), \n",
      "the data shows it to be consistenly humid\n"
     ]
    }
   ],
   "source": [
    "# Create a Scatter Plot of Latitude vs Max Temp\n",
    "plt.scatter(relevant_df[\"Lat\"], relevant_df[\"Humidity\"], marker=\"o\")\n",
    "\n",
    "# Label the chart\n",
    "plt.title(f'City Latitude vs. Humidity {time.strftime(\"%m/%d/%Y\")}')\n",
    "plt.ylabel(\"Humidity\")\n",
    "plt.xlabel(\"Latitude\")\n",
    "\n",
    "\n",
    "# Save the chart\n",
    "plt.savefig(\"images/City Latitude vs. Humidity.png\")\n",
    "plt.show()\n",
    "\n",
    "print(\"Being the hottest location at the equator (0 lattitude), \\nthe data shows it to be consistenly humid\")"
   ]
  },
  {
   "cell_type": "markdown",
   "metadata": {},
   "source": [
    "## Latitude vs. Cloudiness Plot"
   ]
  },
  {
   "cell_type": "code",
   "execution_count": 41,
   "metadata": {},
   "outputs": [
    {
     "data": {
      "image/png": "[encoded data removed]",
      "text/plain": [
       "<Figure size 432x288 with 1 Axes>"
      ]
     },
     "metadata": {
      "needs_background": "light"
     },
     "output_type": "display_data"
    },
    {
     "name": "stdout",
     "output_type": "stream",
     "text": [
      "The data for clouds appears to be very irregular, \n",
      " and I'm curious how they sampled the percentages, \n",
      " other than no clouds and full coverage\n"
     ]
    }
   ],
   "source": [
    "# Create a Scatter Plot of Latitude vs Max Temp\n",
    "plt.scatter(relevant_df[\"Lat\"], relevant_df[\"Cloudiness\"], marker=\"o\")\n",
    "\n",
    "# Label the chart\n",
    "plt.title(f'City Latitude vs. Cloudiness {time.strftime(\"%m/%d/%Y\")}')\n",
    "plt.ylabel(\"Cloudiness\")\n",
    "plt.xlabel(\"Latitude\")\n",
    "\n",
    "\n",
    "# Save the chart\n",
    "plt.savefig(\"images/City Latitude vs. Cloudinessy.png\")\n",
    "plt.show()\n",
    "\n",
    "print(\"The data for clouds appears to be very irregular, \\n and I'm curious how they sampled the percentages, \\n other than no clouds and full coverage\")"
   ]
  },
  {
   "cell_type": "markdown",
   "metadata": {},
   "source": [
    "## Latitude vs. Wind Speed Plot"
   ]
  },
  {
   "cell_type": "code",
   "execution_count": 42,
   "metadata": {},
   "outputs": [
    {
     "data": {
      "image/png": "[encoded data removed]",
      "text/plain": [
       "<Figure size 432x288 with 1 Axes>"
      ]
     },
     "metadata": {
      "needs_background": "light"
     },
     "output_type": "display_data"
    },
    {
     "name": "stdout",
     "output_type": "stream",
     "text": [
      "Wind speed at surface appear to have a uniform \n",
      " disperal, with a few outliers of faster currents in the \n",
      " higher +/- latitudes this is caused by the \n"
     ]
    }
   ],
   "source": [
    "# Create a Scatter Plot of Latitude vs Max Temp\n",
    "plt.scatter(relevant_df[\"Lat\"], relevant_df[\"Wind Speed\"], marker=\"o\")\n",
    "\n",
    "# Label the chart\n",
    "plt.title(f'City Latitude vs. Wind Speed {time.strftime(\"%m/%d/%Y\")}')\n",
    "plt.ylabel(\"Wind Speed\")\n",
    "plt.xlabel(\"Latitude\")\n",
    "\n",
    "# Save the chart\n",
    "plt.savefig(\"images/City Latitude vs. Wind Speed.png\")\n",
    "plt.show()\n",
    "\n",
    "print(\"Wind speed at surface appear to have a uniform \\n disperal, with a few outliers of faster currents in the \\n higher +/- latitudes this is caused by the \")"
   ]
  },
  {
   "cell_type": "markdown",
   "metadata": {},
   "source": [
    "## Linear Regression"
   ]
  },
  {
   "cell_type": "code",
   "execution_count": 43,
   "metadata": {},
   "outputs": [],
   "source": [
    "# OPTIONAL: Create a function to create Linear Regression plots\n",
    "# Function takes 6 argument, x_axis & y_axis handles the data being plotted,\n",
    "# x_title & y_title are the axis titles applied to appropriate axis data,\n",
    "# and x_cord & y_cord gives location to start the annotation.\n",
    "\n",
    "def regressionPlot(x_axis, y_axis, x_title, y_title, x_cord, y_cord):\n",
    "    \n",
    "    # calculates the values needed for plotting the linear regression and displaying the r-square value\n",
    "    (slope, intercept, rvalue, pvalue, stderr) = linregress(x_axis, y_axis)\n",
    "    \n",
    "    # creates the linear regression\n",
    "    regress_values = x_axis * slope + intercept\n",
    "    \n",
    "    # equation for being displayed on plot\n",
    "    line_eq = \"y = \" + str(round(slope, 2)) + \"x + \" + str(round(intercept, 2))\n",
    "    \n",
    "    # Scatter plot block of code for plotting data and titling\n",
    "    plt.scatter(x_axis, y_axis)\n",
    "    plt.plot(x_axis, regress_values, \"r-\")\n",
    "    plt.annotate(line_eq,(x_cord,y_cord), fontsize=18, color=\"red\")\n",
    "    plt.xlabel(x_title, fontsize=16)\n",
    "    plt.ylabel(y_title, fontsize=16)\n",
    "    plt.title(f'{x_title} vs. {y_title} {time.strftime(\"%m/%d/%Y\")}', fontsize=16)\n",
    "    print(f\"The R-Squared is: {rvalue**2}\")\n",
    "    return\n",
    "\n"
   ]
  },
  {
   "cell_type": "code",
   "execution_count": null,
   "metadata": {},
   "outputs": [],
   "source": []
  },
  {
   "cell_type": "code",
   "execution_count": 44,
   "metadata": {},
   "outputs": [],
   "source": [
    "# Create Northern and Southern Hemisphere DataFrames\n",
    "\n",
    "# Northern Hemisphere\n",
    "northHemi_df = relevant_df[relevant_df['Lat'] >= 0]\n",
    "\n",
    "# Southern Hemisphere\n",
    "southHemi_df = relevant_df[relevant_df['Lat'] < 0]\n"
   ]
  },
  {
   "cell_type": "markdown",
   "metadata": {},
   "source": [
    "####  Northern Hemisphere - Max Temp vs. Latitude Linear Regression"
   ]
  },
  {
   "cell_type": "code",
   "execution_count": 45,
   "metadata": {},
   "outputs": [
    {
     "name": "stdout",
     "output_type": "stream",
     "text": [
      "The R-Squared is: 0.7331220343774973\n",
      "\n",
      "Observing the data, at the equator (0 lattitude),\n",
      " shows the highest temperature values in a condensed cluster,\n",
      " this being the cities closest to the equator; while the\n",
      " latitude increases in the positive direction the temp values decrease,\n",
      " these being the values for the cities increasing in distance from the equator.\n"
     ]
    },
    {
     "data": {
      "image/png": "[encoded data removed]",
      "text/plain": [
       "<Figure size 432x288 with 1 Axes>"
      ]
     },
     "metadata": {
      "needs_background": "light"
     },
     "output_type": "display_data"
    }
   ],
   "source": [
    "regressionPlot(northHemi_df['Lat'],northHemi_df['Max Temp'],'Latitude','Temperature (F)', 0, 20)\n",
    "print(\"\\nObserving the data, at the equator (0 lattitude),\\n shows the highest temperature values in a condensed cluster,\\n this being the cities closest to the equator; while the\\n latitude increases in the positive direction the temp values decrease,\\n these being the values for the cities increasing in distance from the equator.\")\n",
    "plt.savefig(\"images/northTempLat.png\")"
   ]
  },
  {
   "cell_type": "markdown",
   "metadata": {},
   "source": [
    "####  Southern Hemisphere - Max Temp vs. Latitude Linear Regression"
   ]
  },
  {
   "cell_type": "code",
   "execution_count": 46,
   "metadata": {},
   "outputs": [
    {
     "name": "stdout",
     "output_type": "stream",
     "text": [
      "The R-Squared is: 0.6062610759144013\n",
      "\n",
      "Observing the data, at the equator (0 lattitude),\n",
      " shows the highest temperature values in a condensed cluster,\n",
      " this being the cities closest to the equator; while the\n",
      " latitude increases in the negative direction the temp values decrease,\n",
      " these being the values for the cities increasing in distance from the equator.\n"
     ]
    },
    {
     "data": {
      "image/png": "[encoded data removed]",
      "text/plain": [
       "<Figure size 432x288 with 1 Axes>"
      ]
     },
     "metadata": {
      "needs_background": "light"
     },
     "output_type": "display_data"
    }
   ],
   "source": [
    "regressionPlot(southHemi_df['Lat'],southHemi_df['Max Temp'],'Latitude','Temperature (F)',-55, 80)\n",
    "print(\"\\nObserving the data, at the equator (0 lattitude),\\n shows the highest temperature values in a condensed cluster,\\n this being the cities closest to the equator; while the\\n latitude increases in the negative direction the temp values decrease,\\n these being the values for the cities increasing in distance from the equator.\")\n",
    "plt.savefig(\"images/southTempLat.png\")"
   ]
  },
  {
   "cell_type": "markdown",
   "metadata": {},
   "source": [
    "####  Northern Hemisphere - Humidity (%) vs. Latitude Linear Regression"
   ]
  },
  {
   "cell_type": "code",
   "execution_count": 47,
   "metadata": {},
   "outputs": [
    {
     "name": "stdout",
     "output_type": "stream",
     "text": [
      "The R-Squared is: 0.033723392309756586\n",
      "\n",
      "Being the hottest location at the equator (0 lattitude), \n",
      "the data shows it to be consistenly humid at the equator.\n"
     ]
    },
    {
     "data": {
      "image/png": "[encoded data removed]",
      "text/plain": [
       "<Figure size 432x288 with 1 Axes>"
      ]
     },
     "metadata": {
      "needs_background": "light"
     },
     "output_type": "display_data"
    }
   ],
   "source": [
    "regressionPlot(northHemi_df['Lat'],northHemi_df['Humidity'],'Latitude','Humidity %', 0, 15)\n",
    "print(\"\\nBeing the hottest location at the equator (0 lattitude), \\nthe data shows it to be consistenly humid at the equator.\")\n",
    "plt.savefig(\"images/northHumLat.png\")"
   ]
  },
  {
   "cell_type": "markdown",
   "metadata": {},
   "source": [
    "####  Southern Hemisphere - Humidity (%) vs. Latitude Linear Regression"
   ]
  },
  {
   "cell_type": "code",
   "execution_count": 48,
   "metadata": {},
   "outputs": [
    {
     "name": "stdout",
     "output_type": "stream",
     "text": [
      "The R-Squared is: 0.030068323504975823\n",
      "\n",
      "Being the hottest location at the equator (0 lattitude), \n",
      "the data shows it to be consistenly humid at the equator.\n"
     ]
    },
    {
     "data": {
      "image/png": "[encoded data removed]",
      "text/plain": [
       "<Figure size 432x288 with 1 Axes>"
      ]
     },
     "metadata": {
      "needs_background": "light"
     },
     "output_type": "display_data"
    }
   ],
   "source": [
    "regressionPlot(southHemi_df['Lat'],southHemi_df['Humidity'],'Latitude','Humidity %',-55, 40)\n",
    "print(\"\\nBeing the hottest location at the equator (0 lattitude), \\nthe data shows it to be consistenly humid at the equator.\")\n",
    "plt.savefig(\"images/southHumLat.png\")"
   ]
  },
  {
   "cell_type": "markdown",
   "metadata": {},
   "source": [
    "####  Northern Hemisphere - Cloudiness (%) vs. Latitude Linear Regression"
   ]
  },
  {
   "cell_type": "code",
   "execution_count": 49,
   "metadata": {},
   "outputs": [
    {
     "name": "stdout",
     "output_type": "stream",
     "text": [
      "The R-Squared is: 0.02570561396547453\n",
      "\n",
      "No Measurable Correlation.\n"
     ]
    },
    {
     "data": {
      "image/png": "[encoded data removed]",
      "text/plain": [
       "<Figure size 432x288 with 1 Axes>"
      ]
     },
     "metadata": {
      "needs_background": "light"
     },
     "output_type": "display_data"
    }
   ],
   "source": [
    "regressionPlot(northHemi_df['Lat'],northHemi_df['Cloudiness'],'Latitude','Cloudiness %', 0, 10)\n",
    "print(\"\\nNo Measurable Correlation.\")\n",
    "plt.savefig(\"images/northCloudLat.png\")"
   ]
  },
  {
   "cell_type": "markdown",
   "metadata": {},
   "source": [
    "####  Southern Hemisphere - Cloudiness (%) vs. Latitude Linear Regression"
   ]
  },
  {
   "cell_type": "code",
   "execution_count": 50,
   "metadata": {
    "scrolled": true
   },
   "outputs": [
    {
     "name": "stdout",
     "output_type": "stream",
     "text": [
      "The R-Squared is: 0.035230414164391155\n",
      "\n",
      "No Measurable Correlation.\n"
     ]
    },
    {
     "data": {
      "image/png": "[encoded data removed]",
      "text/plain": [
       "<Figure size 432x288 with 1 Axes>"
      ]
     },
     "metadata": {
      "needs_background": "light"
     },
     "output_type": "display_data"
    }
   ],
   "source": [
    "regressionPlot(southHemi_df['Lat'],southHemi_df['Cloudiness'],'Latitude','Cloudiness %',-55, 80)\n",
    "print(\"\\nNo Measurable Correlation.\")\n",
    "plt.savefig(\"images/southCloudLat.png\")"
   ]
  },
  {
   "cell_type": "markdown",
   "metadata": {},
   "source": [
    "####  Northern Hemisphere - Wind Speed (mph) vs. Latitude Linear Regression"
   ]
  },
  {
   "cell_type": "code",
   "execution_count": 51,
   "metadata": {},
   "outputs": [
    {
     "name": "stdout",
     "output_type": "stream",
     "text": [
      "The R-Squared is: 0.014330976232712182\n",
      "\n",
      "No Measurable Correlation.\n"
     ]
    },
    {
     "data": {
      "image/png": "[encoded data removed]",
      "text/plain": [
       "<Figure size 432x288 with 1 Axes>"
      ]
     },
     "metadata": {
      "needs_background": "light"
     },
     "output_type": "display_data"
    }
   ],
   "source": [
    "regressionPlot(northHemi_df['Lat'],northHemi_df['Wind Speed'],'Latitude','Wind Speed (MPH)', 0, 20)\n",
    "print(\"\\nNo Measurable Correlation.\")\n",
    "plt.savefig(\"images/northWindLat.png\")"
   ]
  },
  {
   "cell_type": "markdown",
   "metadata": {},
   "source": [
    "####  Southern Hemisphere - Wind Speed (mph) vs. Latitude Linear Regression"
   ]
  },
  {
   "cell_type": "code",
   "execution_count": 52,
   "metadata": {},
   "outputs": [
    {
     "name": "stdout",
     "output_type": "stream",
     "text": [
      "The R-Squared is: 0.013363600410820194\n",
      "\n",
      "No Measurable Correlation.\n"
     ]
    },
    {
     "data": {
      "image/png": "[encoded data removed]",
      "text/plain": [
       "<Figure size 432x288 with 1 Axes>"
      ]
     },
     "metadata": {
      "needs_background": "light"
     },
     "output_type": "display_data"
    }
   ],
   "source": [
    "regressionPlot(southHemi_df['Lat'],southHemi_df['Wind Speed'],'Latitude','Wind Speed (MPH)',-55, 20)\n",
    "print(\"\\nNo Measurable Correlation.\")\n",
    "plt.savefig(\"images/southWindLat.png\")"
   ]
  },
  {
   "cell_type": "code",
   "execution_count": null,
   "metadata": {},
   "outputs": [],
   "source": []
  },
  {
   "cell_type": "code",
   "execution_count": null,
   "metadata": {},
   "outputs": [],
   "source": []
  }
 ],
 "metadata": {
  "anaconda-cloud": {},
  "kernel_info": {
   "name": "python3"
  },
  "kernelspec": {
   "display_name": "Python 3",
   "language": "python",
   "name": "python3"
  },
  "language_info": {
   "codemirror_mode": {
    "name": "ipython",
    "version": 3
   },
   "file_extension": ".py",
   "mimetype": "text/x-python",
   "name": "python",
   "nbconvert_exporter": "python",
   "pygments_lexer": "ipython3",
   "version": "3.7.6"
  },
  "latex_envs": {
   "LaTeX_envs_menu_present": true,
   "autoclose": false,
   "autocomplete": true,
   "bibliofile": "biblio.bib",
   "cite_by": "apalike",
   "current_citInitial": 1,
   "eqLabelWithNumbers": true,
   "eqNumInitial": 1,
   "hotkeys": {
    "equation": "Ctrl-E",
    "itemize": "Ctrl-I"
   },
   "labels_anchors": false,
   "latex_user_defs": false,
   "report_style_numbering": false,
   "user_envs_cfg": false
  },
  "nteract": {
   "version": "0.12.3"
  }
 },
 "nbformat": 4,
 "nbformat_minor": 2
}
