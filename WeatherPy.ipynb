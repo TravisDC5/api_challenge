{
 "cells": [
  {
   "cell_type": "markdown",
   "metadata": {},
   "source": [
    "# WeatherPy\n",
    "----\n",
    "\n",
    "#### Note\n",
    "* Instructions have been included for each segment. You do not have to follow them exactly, but they are included to help you think through the steps."
   ]
  },
  {
   "cell_type": "code",
   "execution_count": 1,
   "metadata": {
    "scrolled": true
   },
   "outputs": [],
   "source": [
    "# Dependencies and Setup\n",
    "import matplotlib.pyplot as plt\n",
    "import pandas as pd\n",
    "import numpy as np\n",
    "import requests\n",
    "import time\n",
    "from scipy.stats import linregress\n",
    "\n",
    "# Import API key\n",
    "from api_keys import weather_api_key\n",
    "\n",
    "# Incorporated citipy to determine city based on latitude and longitude\n",
    "from citipy import citipy\n",
    "\n",
    "# Output File (CSV)\n",
    "output_data_file = \"output_data/cities.csv\"\n",
    "\n",
    "# Range of latitudes and longitudes\n",
    "lat_range = (-90, 90)\n",
    "lng_range = (-180, 180)"
   ]
  },
  {
   "cell_type": "markdown",
   "metadata": {},
   "source": [
    "## Generate Cities List"
   ]
  },
  {
   "cell_type": "code",
   "execution_count": 2,
   "metadata": {},
   "outputs": [
    {
     "data": {
      "text/plain": [
       "605"
      ]
     },
     "execution_count": 2,
     "metadata": {},
     "output_type": "execute_result"
    }
   ],
   "source": [
    "# List for holding lat_lngs and cities\n",
    "lat_lngs = []\n",
    "cities = []\n",
    "\n",
    "# Create a set of random lat and lng combinations\n",
    "lats = np.random.uniform(lat_range[0], lat_range[1], size=1500)\n",
    "lngs = np.random.uniform(lng_range[0], lng_range[1], size=1500)\n",
    "lat_lngs = zip(lats, lngs)\n",
    "\n",
    "# Identify nearest city for each lat, lng combination\n",
    "for lat_lng in lat_lngs:\n",
    "    city = citipy.nearest_city(lat_lng[0], lat_lng[1]).city_name\n",
    "    \n",
    "    # If the city is unique, then add it to a our cities list\n",
    "    if city not in cities:\n",
    "        cities.append(city)\n",
    "\n",
    "# Print the city count to confirm sufficient count\n",
    "len(cities)"
   ]
  },
  {
   "cell_type": "code",
   "execution_count": 3,
   "metadata": {},
   "outputs": [
    {
     "data": {
      "text/plain": [
       "'busselton'"
      ]
     },
     "execution_count": 3,
     "metadata": {},
     "output_type": "execute_result"
    }
   ],
   "source": [
    "cities[0]"
   ]
  },
  {
   "cell_type": "markdown",
   "metadata": {},
   "source": [
    "### Perform API Calls\n",
    "* Perform a weather check on each city using a series of successive API calls.\n",
    "* Include a print log of each city as it'sbeing processed (with the city number and city name).\n"
   ]
  },
  {
   "cell_type": "code",
   "execution_count": 4,
   "metadata": {},
   "outputs": [],
   "source": [
    "url = \"http://api.openweathermap.org/data/2.5/weather?units=Imperial&APPID=\" + weather_api_key\n",
    "        "
   ]
  },
  {
   "cell_type": "code",
   "execution_count": 5,
   "metadata": {},
   "outputs": [
    {
     "name": "stdout",
     "output_type": "stream",
     "text": [
      "http://api.openweathermap.org/data/2.5/weather?units=Imperial&APPID=b3ff37a40edf22f7c0171626f6994478\n"
     ]
    }
   ],
   "source": [
    "print(url)"
   ]
  },
  {
   "cell_type": "code",
   "execution_count": 6,
   "metadata": {},
   "outputs": [
    {
     "name": "stdout",
     "output_type": "stream",
     "text": [
      "Beginning Data Retrieval\n",
      "------------------------------------------\n",
      "Processing Record 1 of set 1 | busselton\n",
      "City not found. Skipping...\n",
      "Processing Record 2 of set 1 | ushuaia\n",
      "Processing Record 3 of set 1 | kapaa\n",
      "Processing Record 4 of set 1 | prince albert\n",
      "Processing Record 5 of set 1 | manitouwadge\n",
      "Processing Record 6 of set 1 | bluff\n",
      "Processing Record 7 of set 1 | manaia\n",
      "Processing Record 8 of set 1 | hualmay\n",
      "City not found. Skipping...\n",
      "Processing Record 9 of set 1 | iqaluit\n",
      "Processing Record 10 of set 1 | barrow\n",
      "Processing Record 11 of set 1 | saskylakh\n",
      "Processing Record 12 of set 1 | arraial do cabo\n",
      "City not found. Skipping...\n",
      "Processing Record 13 of set 1 | katsuura\n",
      "Processing Record 14 of set 1 | qaanaaq\n",
      "Processing Record 15 of set 1 | butaritari\n",
      "Processing Record 16 of set 1 | barcelos\n",
      "Processing Record 17 of set 1 | el alto\n",
      "Processing Record 18 of set 1 | hithadhoo\n",
      "Processing Record 19 of set 1 | rikitea\n",
      "Processing Record 20 of set 1 | riverton\n",
      "City not found. Skipping...\n",
      "Processing Record 21 of set 1 | richards bay\n",
      "Processing Record 22 of set 1 | victoria\n",
      "Processing Record 23 of set 1 | dinar\n",
      "Processing Record 24 of set 1 | baker\n",
      "Processing Record 25 of set 1 | elizabeth city\n",
      "Processing Record 26 of set 1 | albany\n",
      "Processing Record 27 of set 1 | nantong\n",
      "Processing Record 28 of set 1 | poronaysk\n",
      "Processing Record 29 of set 1 | ikom\n",
      "Processing Record 30 of set 1 | kununurra\n",
      "Processing Record 31 of set 1 | trincomalee\n",
      "Processing Record 32 of set 1 | zhuhai\n",
      "Processing Record 33 of set 1 | leningradskiy\n",
      "Processing Record 34 of set 1 | belen\n",
      "Processing Record 35 of set 1 | takoradi\n",
      "City not found. Skipping...\n",
      "Processing Record 36 of set 1 | makakilo city\n",
      "Processing Record 37 of set 1 | portland\n",
      "Processing Record 38 of set 1 | cape town\n",
      "Processing Record 39 of set 1 | uruacu\n",
      "Processing Record 40 of set 1 | thompson\n",
      "Processing Record 41 of set 1 | niort\n",
      "Processing Record 42 of set 1 | atuona\n",
      "Processing Record 43 of set 1 | havoysund\n",
      "Processing Record 44 of set 1 | hermanus\n",
      "Processing Record 45 of set 1 | simbahan\n",
      "Processing Record 46 of set 1 | puerto escondido\n",
      "Processing Record 47 of set 1 | berlevag\n",
      "Processing Record 48 of set 1 | severo-kurilsk\n",
      "Processing Record 49 of set 1 | krasnozatonskiy\n",
      "Processing Record 50 of set 1 | mataura\n",
      "Processing Record 1 of set 2 | airai\n",
      "Processing Record 2 of set 2 | torbay\n",
      "Processing Record 3 of set 2 | lebu\n",
      "Processing Record 4 of set 2 | ust-omchug\n",
      "Processing Record 5 of set 2 | christchurch\n",
      "Processing Record 6 of set 2 | punta arenas\n",
      "Processing Record 7 of set 2 | springdale\n",
      "Processing Record 8 of set 2 | nikolskoye\n",
      "Processing Record 9 of set 2 | nanortalik\n",
      "Processing Record 10 of set 2 | isangel\n",
      "Processing Record 11 of set 2 | hilo\n",
      "Processing Record 12 of set 2 | itum-kale\n",
      "Processing Record 13 of set 2 | kungurtug\n",
      "Processing Record 14 of set 2 | yellowknife\n",
      "Processing Record 15 of set 2 | humberto de campos\n",
      "Processing Record 16 of set 2 | rocha\n",
      "Processing Record 17 of set 2 | yulara\n",
      "Processing Record 18 of set 2 | avarua\n",
      "Processing Record 19 of set 2 | bredasdorp\n",
      "Processing Record 20 of set 2 | shimoda\n",
      "City not found. Skipping...\n",
      "Processing Record 21 of set 2 | mahebourg\n",
      "Processing Record 22 of set 2 | salamiyah\n",
      "Processing Record 23 of set 2 | tuktoyaktuk\n",
      "Processing Record 24 of set 2 | lumeje\n",
      "Processing Record 25 of set 2 | puerto ayora\n",
      "Processing Record 26 of set 2 | sunnyside\n",
      "Processing Record 27 of set 2 | mutoko\n",
      "Processing Record 28 of set 2 | dikson\n",
      "Processing Record 29 of set 2 | new norfolk\n",
      "Processing Record 30 of set 2 | broome\n",
      "Processing Record 31 of set 2 | cianjur\n",
      "Processing Record 32 of set 2 | georgetown\n",
      "Processing Record 33 of set 2 | upernavik\n",
      "Processing Record 34 of set 2 | kahului\n",
      "Processing Record 35 of set 2 | ribeira grande\n",
      "Processing Record 36 of set 2 | chuy\n",
      "Processing Record 37 of set 2 | kiruna\n",
      "Processing Record 38 of set 2 | leshukonskoye\n",
      "Processing Record 39 of set 2 | lomovka\n",
      "Processing Record 40 of set 2 | port elizabeth\n",
      "Processing Record 41 of set 2 | mar del plata\n",
      "Processing Record 42 of set 2 | qaqortoq\n",
      "Processing Record 43 of set 2 | atbasar\n",
      "Processing Record 44 of set 2 | vaini\n",
      "Processing Record 45 of set 2 | nome\n",
      "Processing Record 46 of set 2 | pevek\n",
      "City not found. Skipping...\n",
      "Processing Record 47 of set 2 | clyde river\n",
      "Processing Record 48 of set 2 | karlshamn\n",
      "City not found. Skipping...\n",
      "Processing Record 49 of set 2 | port alfred\n",
      "Processing Record 50 of set 2 | guanica\n",
      "Processing Record 1 of set 3 | kodiak\n",
      "Processing Record 2 of set 3 | quatre cocos\n",
      "Processing Record 3 of set 3 | aklavik\n",
      "Processing Record 4 of set 3 | bengkulu\n",
      "Processing Record 5 of set 3 | priboj\n",
      "Processing Record 6 of set 3 | ponta do sol\n",
      "Processing Record 7 of set 3 | novaya zaimka\n",
      "Processing Record 8 of set 3 | castro\n",
      "Processing Record 9 of set 3 | ruidoso\n",
      "City not found. Skipping...\n",
      "Processing Record 10 of set 3 | kaduqli\n",
      "Processing Record 11 of set 3 | sao filipe\n",
      "Processing Record 12 of set 3 | redlands\n",
      "Processing Record 13 of set 3 | fernie\n",
      "City not found. Skipping...\n",
      "Processing Record 14 of set 3 | bacsay\n",
      "Processing Record 15 of set 3 | wanaka\n",
      "Processing Record 16 of set 3 | alice springs\n",
      "Processing Record 17 of set 3 | naze\n",
      "City not found. Skipping...\n",
      "Processing Record 18 of set 3 | hobart\n",
      "Processing Record 19 of set 3 | bathsheba\n",
      "Processing Record 20 of set 3 | kaitangata\n",
      "Processing Record 21 of set 3 | ahipara\n",
      "Processing Record 22 of set 3 | shenzhen\n",
      "Processing Record 23 of set 3 | bakel\n",
      "Processing Record 24 of set 3 | buraydah\n",
      "Processing Record 25 of set 3 | ketchikan\n",
      "Processing Record 26 of set 3 | ilulissat\n",
      "Processing Record 27 of set 3 | mayya\n",
      "City not found. Skipping...\n",
      "Processing Record 28 of set 3 | mayo\n",
      "Processing Record 29 of set 3 | ostashkov\n",
      "Processing Record 30 of set 3 | ancud\n",
      "Processing Record 31 of set 3 | kragujevac\n",
      "City not found. Skipping...\n",
      "Processing Record 32 of set 3 | dudinka\n",
      "Processing Record 33 of set 3 | colac\n",
      "City not found. Skipping...\n",
      "Processing Record 34 of set 3 | china\n",
      "City not found. Skipping...\n",
      "Processing Record 35 of set 3 | henties bay\n",
      "Processing Record 36 of set 3 | ngunguru\n",
      "City not found. Skipping...\n",
      "Processing Record 37 of set 3 | khatanga\n",
      "Processing Record 38 of set 3 | fort nelson\n",
      "City not found. Skipping...\n",
      "Processing Record 39 of set 3 | le port\n",
      "Processing Record 40 of set 3 | udankudi\n",
      "Processing Record 41 of set 3 | tuatapere\n",
      "Processing Record 42 of set 3 | miami\n",
      "Processing Record 43 of set 3 | chipinge\n",
      "Processing Record 44 of set 3 | tasiilaq\n",
      "Processing Record 45 of set 3 | anzio\n",
      "Processing Record 46 of set 3 | povenets\n",
      "Processing Record 47 of set 3 | ust-kishert\n",
      "Processing Record 48 of set 3 | muros\n",
      "Processing Record 49 of set 3 | chumikan\n",
      "Processing Record 50 of set 3 | strausberg\n",
      "Processing Record 1 of set 4 | mae sai\n",
      "Processing Record 2 of set 4 | chililabombwe\n",
      "Processing Record 3 of set 4 | sinnamary\n",
      "Processing Record 4 of set 4 | jamestown\n",
      "Processing Record 5 of set 4 | antigonish\n",
      "City not found. Skipping...\n",
      "Processing Record 6 of set 4 | pacific grove\n",
      "Processing Record 7 of set 4 | la primavera\n",
      "Processing Record 8 of set 4 | usinsk\n",
      "Processing Record 9 of set 4 | nioro\n",
      "Processing Record 10 of set 4 | shingu\n",
      "Processing Record 11 of set 4 | rosarito\n",
      "Processing Record 12 of set 4 | bokoro\n",
      "City not found. Skipping...\n",
      "Processing Record 13 of set 4 | arrecife\n",
      "Processing Record 14 of set 4 | waddan\n",
      "Processing Record 15 of set 4 | bethel\n",
      "Processing Record 16 of set 4 | namatanai\n",
      "Processing Record 17 of set 4 | saint-francois\n",
      "Processing Record 18 of set 4 | aswan\n",
      "Processing Record 19 of set 4 | quito\n",
      "Processing Record 20 of set 4 | mega\n",
      "Processing Record 21 of set 4 | necochea\n",
      "Processing Record 22 of set 4 | aquidauana\n",
      "Processing Record 23 of set 4 | nouadhibou\n",
      "Processing Record 24 of set 4 | mount gambier\n",
      "Processing Record 25 of set 4 | constitucion\n",
      "Processing Record 26 of set 4 | mbamba\n",
      "Processing Record 27 of set 4 | cabo san lucas\n",
      "Processing Record 28 of set 4 | omboue\n",
      "Processing Record 29 of set 4 | shakawe\n",
      "Processing Record 30 of set 4 | locri\n",
      "Processing Record 31 of set 4 | east london\n",
      "Processing Record 32 of set 4 | fortuna\n",
      "Processing Record 33 of set 4 | port macquarie\n",
      "Processing Record 34 of set 4 | bosobolo\n",
      "Processing Record 35 of set 4 | saldanha\n"
     ]
    },
    {
     "name": "stdout",
     "output_type": "stream",
     "text": [
      "Processing Record 36 of set 4 | ewo\n",
      "Processing Record 37 of set 4 | nang rong\n",
      "Processing Record 38 of set 4 | margate\n",
      "Processing Record 39 of set 4 | carnarvon\n",
      "Processing Record 40 of set 4 | vao\n",
      "Processing Record 41 of set 4 | vila franca do campo\n",
      "Processing Record 42 of set 4 | magadan\n",
      "City not found. Skipping...\n",
      "City not found. Skipping...\n",
      "Processing Record 43 of set 4 | chico\n",
      "Processing Record 44 of set 4 | rosetta\n",
      "Processing Record 45 of set 4 | saint-louis\n",
      "Processing Record 46 of set 4 | kushiro\n",
      "Processing Record 47 of set 4 | altamira\n",
      "Processing Record 48 of set 4 | cherskiy\n",
      "Processing Record 49 of set 4 | bahraich\n",
      "Processing Record 50 of set 4 | bambous virieux\n",
      "Processing Record 1 of set 5 | kavieng\n",
      "Processing Record 2 of set 5 | lompoc\n",
      "Processing Record 3 of set 5 | longyearbyen\n",
      "Processing Record 4 of set 5 | dwarka\n",
      "Processing Record 5 of set 5 | winnemucca\n",
      "Processing Record 6 of set 5 | olafsvik\n",
      "Processing Record 7 of set 5 | provideniya\n",
      "Processing Record 8 of set 5 | mastung\n",
      "Processing Record 9 of set 5 | prince rupert\n",
      "Processing Record 10 of set 5 | beyneu\n",
      "Processing Record 11 of set 5 | prince george\n",
      "Processing Record 12 of set 5 | hasaki\n",
      "Processing Record 13 of set 5 | samarai\n",
      "Processing Record 14 of set 5 | vanimo\n",
      "Processing Record 15 of set 5 | ambulu\n",
      "Processing Record 16 of set 5 | bilina\n",
      "Processing Record 17 of set 5 | palu\n",
      "Processing Record 18 of set 5 | saint-pierre\n",
      "Processing Record 19 of set 5 | sitio novo do tocantins\n",
      "Processing Record 20 of set 5 | outram\n",
      "City not found. Skipping...\n",
      "City not found. Skipping...\n",
      "Processing Record 21 of set 5 | husavik\n",
      "Processing Record 22 of set 5 | hambantota\n",
      "Processing Record 23 of set 5 | chokurdakh\n",
      "Processing Record 24 of set 5 | orlovka\n",
      "Processing Record 25 of set 5 | soe\n",
      "Processing Record 26 of set 5 | kieta\n",
      "Processing Record 27 of set 5 | mbaiki\n",
      "Processing Record 28 of set 5 | izhma\n",
      "Processing Record 29 of set 5 | coquimbo\n",
      "Processing Record 30 of set 5 | biskamzha\n",
      "Processing Record 31 of set 5 | cidreira\n",
      "Processing Record 32 of set 5 | mende\n",
      "Processing Record 33 of set 5 | avera\n",
      "Processing Record 34 of set 5 | gaya\n",
      "City not found. Skipping...\n",
      "Processing Record 35 of set 5 | balkhash\n",
      "Processing Record 36 of set 5 | port lincoln\n",
      "Processing Record 37 of set 5 | norman wells\n",
      "Processing Record 38 of set 5 | pilar\n",
      "Processing Record 39 of set 5 | buta\n",
      "Processing Record 40 of set 5 | damara\n",
      "Processing Record 41 of set 5 | lokoja\n",
      "Processing Record 42 of set 5 | honiara\n",
      "Processing Record 43 of set 5 | keti bandar\n",
      "Processing Record 44 of set 5 | athabasca\n",
      "Processing Record 45 of set 5 | machico\n",
      "Processing Record 46 of set 5 | sistranda\n",
      "Processing Record 47 of set 5 | mackenzie\n",
      "Processing Record 48 of set 5 | dunedin\n",
      "Processing Record 49 of set 5 | bandarbeyla\n",
      "Processing Record 50 of set 5 | beringovskiy\n",
      "Processing Record 1 of set 6 | victor harbor\n",
      "Processing Record 2 of set 6 | hofn\n",
      "Processing Record 3 of set 6 | fernley\n",
      "Processing Record 4 of set 6 | kismayo\n",
      "Processing Record 5 of set 6 | san jeronimo\n",
      "Processing Record 6 of set 6 | campina verde\n",
      "Processing Record 7 of set 6 | svetlogorsk\n",
      "Processing Record 8 of set 6 | surazh\n",
      "Processing Record 9 of set 6 | faanui\n",
      "Processing Record 10 of set 6 | guerrero negro\n",
      "Processing Record 11 of set 6 | tagusao\n",
      "Processing Record 12 of set 6 | semnan\n",
      "Processing Record 13 of set 6 | assiniboia\n",
      "Processing Record 14 of set 6 | kijang\n",
      "Processing Record 15 of set 6 | maniitsoq\n",
      "Processing Record 16 of set 6 | tura\n",
      "Processing Record 17 of set 6 | beisfjord\n",
      "Processing Record 18 of set 6 | vestmannaeyjar\n",
      "City not found. Skipping...\n",
      "Processing Record 19 of set 6 | marzuq\n",
      "Processing Record 20 of set 6 | carballo\n",
      "Processing Record 21 of set 6 | okhotsk\n",
      "Processing Record 22 of set 6 | baherden\n",
      "Processing Record 23 of set 6 | malanje\n",
      "Processing Record 24 of set 6 | bourail\n",
      "Processing Record 25 of set 6 | klaksvik\n",
      "Processing Record 26 of set 6 | anadyr\n",
      "Processing Record 27 of set 6 | esperance\n",
      "City not found. Skipping...\n",
      "Processing Record 28 of set 6 | mandya\n",
      "Processing Record 29 of set 6 | port hedland\n",
      "Processing Record 30 of set 6 | iquitos\n",
      "Processing Record 31 of set 6 | kavaratti\n",
      "Processing Record 32 of set 6 | nizhnevartovsk\n",
      "City not found. Skipping...\n",
      "Processing Record 33 of set 6 | paciran\n",
      "Processing Record 34 of set 6 | braganca\n",
      "Processing Record 35 of set 6 | otacilio costa\n",
      "Processing Record 36 of set 6 | buxton\n",
      "Processing Record 37 of set 6 | harbour breton\n",
      "Processing Record 38 of set 6 | krasnoselkup\n",
      "Processing Record 39 of set 6 | carberry\n",
      "Processing Record 40 of set 6 | ixtapa\n",
      "Processing Record 41 of set 6 | sciacca\n",
      "City not found. Skipping...\n",
      "Processing Record 42 of set 6 | chara\n",
      "Processing Record 43 of set 6 | bequimao\n",
      "Processing Record 44 of set 6 | snasa\n",
      "Processing Record 45 of set 6 | tiksi\n",
      "Processing Record 46 of set 6 | kandrian\n",
      "Processing Record 47 of set 6 | polunochnoye\n",
      "City not found. Skipping...\n",
      "Processing Record 48 of set 6 | gombong\n",
      "Processing Record 49 of set 6 | san pedro\n",
      "Processing Record 50 of set 6 | san policarpo\n",
      "Processing Record 1 of set 7 | eyl\n",
      "Processing Record 2 of set 7 | mehamn\n",
      "Processing Record 3 of set 7 | ostrovnoy\n",
      "Processing Record 4 of set 7 | jiuquan\n",
      "Processing Record 5 of set 7 | maceio\n",
      "Processing Record 6 of set 7 | loreto\n",
      "Processing Record 7 of set 7 | acapulco\n",
      "Processing Record 8 of set 7 | mezen\n",
      "Processing Record 9 of set 7 | katobu\n",
      "Processing Record 10 of set 7 | jiaozuo\n",
      "Processing Record 11 of set 7 | helong\n",
      "Processing Record 12 of set 7 | torres\n",
      "Processing Record 13 of set 7 | esmeraldas\n",
      "Processing Record 14 of set 7 | kitakata\n",
      "Processing Record 15 of set 7 | sorland\n",
      "Processing Record 16 of set 7 | saint-georges\n",
      "Processing Record 17 of set 7 | cabanas\n",
      "Processing Record 18 of set 7 | cherepanovo\n",
      "Processing Record 19 of set 7 | tezu\n",
      "Processing Record 20 of set 7 | taylor\n",
      "Processing Record 21 of set 7 | kailua\n",
      "Processing Record 22 of set 7 | bilibino\n",
      "Processing Record 23 of set 7 | salalah\n",
      "Processing Record 24 of set 7 | taoudenni\n",
      "Processing Record 25 of set 7 | kudat\n",
      "Processing Record 26 of set 7 | bud\n",
      "Processing Record 27 of set 7 | bozuyuk\n",
      "Processing Record 28 of set 7 | bay roberts\n",
      "Processing Record 29 of set 7 | okha\n",
      "Processing Record 30 of set 7 | kuytun\n",
      "Processing Record 31 of set 7 | saint-philippe\n",
      "Processing Record 32 of set 7 | antofagasta\n",
      "Processing Record 33 of set 7 | shache\n",
      "Processing Record 34 of set 7 | namibe\n",
      "Processing Record 35 of set 7 | altay\n",
      "Processing Record 36 of set 7 | sabla\n",
      "Processing Record 37 of set 7 | zapolyarnyy\n",
      "Processing Record 38 of set 7 | vila velha\n",
      "Processing Record 39 of set 7 | saint george\n",
      "Processing Record 40 of set 7 | coihaique\n",
      "Processing Record 41 of set 7 | belaya gora\n",
      "Processing Record 42 of set 7 | mount vernon\n",
      "Processing Record 43 of set 7 | camacha\n",
      "Processing Record 44 of set 7 | morehead\n",
      "Processing Record 45 of set 7 | rapar\n",
      "Processing Record 46 of set 7 | nago\n",
      "Processing Record 47 of set 7 | faya\n",
      "Processing Record 48 of set 7 | tigil\n",
      "Processing Record 49 of set 7 | champerico\n",
      "Processing Record 50 of set 7 | porto novo\n",
      "City not found. Skipping...\n",
      "Processing Record 1 of set 8 | fethiye\n",
      "Processing Record 2 of set 8 | makushino\n",
      "Processing Record 3 of set 8 | walla walla\n",
      "Processing Record 4 of set 8 | savinskiy\n",
      "Processing Record 5 of set 8 | olinda\n",
      "Processing Record 6 of set 8 | waverley\n",
      "City not found. Skipping...\n",
      "Processing Record 7 of set 8 | grand gaube\n",
      "Processing Record 8 of set 8 | sechura\n",
      "City not found. Skipping...\n",
      "Processing Record 9 of set 8 | flinders\n",
      "Processing Record 10 of set 8 | itarema\n",
      "Processing Record 11 of set 8 | fare\n",
      "Processing Record 12 of set 8 | fairfield\n",
      "Processing Record 13 of set 8 | luderitz\n",
      "Processing Record 14 of set 8 | farmington\n",
      "Processing Record 15 of set 8 | alta floresta\n",
      "Processing Record 16 of set 8 | diffa\n",
      "Processing Record 17 of set 8 | burgeo\n",
      "Processing Record 18 of set 8 | surdulica\n",
      "Processing Record 19 of set 8 | mosquera\n",
      "Processing Record 20 of set 8 | yaroslavl\n",
      "Processing Record 21 of set 8 | birao\n",
      "Processing Record 22 of set 8 | collie\n",
      "Processing Record 23 of set 8 | wajir\n",
      "Processing Record 24 of set 8 | srednekolymsk\n",
      "Processing Record 25 of set 8 | high prairie\n",
      "City not found. Skipping...\n",
      "Processing Record 26 of set 8 | dakar\n"
     ]
    },
    {
     "name": "stdout",
     "output_type": "stream",
     "text": [
      "Processing Record 27 of set 8 | bystryy istok\n",
      "Processing Record 28 of set 8 | payo\n",
      "Processing Record 29 of set 8 | aykhal\n",
      "Processing Record 30 of set 8 | afrikanda\n",
      "Processing Record 31 of set 8 | bukachacha\n",
      "Processing Record 32 of set 8 | silver city\n",
      "Processing Record 33 of set 8 | hobyo\n",
      "Processing Record 34 of set 8 | sao francisco do sul\n",
      "City not found. Skipping...\n",
      "Processing Record 35 of set 8 | meulaboh\n",
      "Processing Record 36 of set 8 | talnakh\n",
      "City not found. Skipping...\n",
      "Processing Record 37 of set 8 | tarko-sale\n",
      "Processing Record 38 of set 8 | te anau\n",
      "Processing Record 39 of set 8 | lagoa\n",
      "Processing Record 40 of set 8 | nelson bay\n",
      "Processing Record 41 of set 8 | ramanuj ganj\n",
      "Processing Record 42 of set 8 | andenes\n",
      "Processing Record 43 of set 8 | esna\n",
      "Processing Record 44 of set 8 | surt\n",
      "Processing Record 45 of set 8 | krabi\n",
      "Processing Record 46 of set 8 | nioki\n",
      "Processing Record 47 of set 8 | danville\n",
      "Processing Record 48 of set 8 | nemuro\n",
      "Processing Record 49 of set 8 | lamar\n",
      "Processing Record 50 of set 8 | sola\n",
      "Processing Record 1 of set 9 | raudeberg\n",
      "Processing Record 2 of set 9 | manono\n",
      "Processing Record 3 of set 9 | ewa beach\n",
      "Processing Record 4 of set 9 | entre rios\n",
      "Processing Record 5 of set 9 | gladstone\n",
      "Processing Record 6 of set 9 | fairbanks\n",
      "Processing Record 7 of set 9 | huarmey\n",
      "Processing Record 8 of set 9 | meadow lake\n",
      "Processing Record 9 of set 9 | salinas\n",
      "Processing Record 10 of set 9 | campos novos\n",
      "Processing Record 11 of set 9 | xichang\n",
      "Processing Record 12 of set 9 | karratha\n",
      "City not found. Skipping...\n",
      "Processing Record 13 of set 9 | lagos\n",
      "Processing Record 14 of set 9 | petropavlovsk-kamchatskiy\n",
      "Processing Record 15 of set 9 | zhigansk\n",
      "Processing Record 16 of set 9 | jieshi\n",
      "Processing Record 17 of set 9 | sao felix do xingu\n",
      "Processing Record 18 of set 9 | terney\n",
      "Processing Record 19 of set 9 | mogok\n",
      "Processing Record 20 of set 9 | caravelas\n",
      "Processing Record 21 of set 9 | padang\n",
      "Processing Record 22 of set 9 | monrovia\n",
      "Processing Record 23 of set 9 | siavonga\n",
      "Processing Record 24 of set 9 | namestovo\n",
      "Processing Record 25 of set 9 | chifeng\n",
      "Processing Record 26 of set 9 | pag\n",
      "Processing Record 27 of set 9 | kimbe\n",
      "Processing Record 28 of set 9 | alekseyevsk\n",
      "Processing Record 29 of set 9 | ajdabiya\n",
      "Processing Record 30 of set 9 | tiarei\n",
      "Processing Record 31 of set 9 | cockburn town\n",
      "Processing Record 32 of set 9 | kapit\n",
      "City not found. Skipping...\n",
      "Processing Record 33 of set 9 | kysyl-syr\n",
      "Processing Record 34 of set 9 | vardo\n",
      "Processing Record 35 of set 9 | araouane\n",
      "Processing Record 36 of set 9 | hay river\n",
      "Processing Record 37 of set 9 | tokmak\n",
      "Processing Record 38 of set 9 | yar-sale\n",
      "Processing Record 39 of set 9 | niquero\n",
      "Processing Record 40 of set 9 | algiers\n",
      "Processing Record 41 of set 9 | harper\n",
      "Processing Record 42 of set 9 | adrar\n",
      "Processing Record 43 of set 9 | mitu\n",
      "Processing Record 44 of set 9 | lanigay\n",
      "Processing Record 45 of set 9 | martapura\n",
      "Processing Record 46 of set 9 | yerbogachen\n",
      "Processing Record 47 of set 9 | gotsu\n",
      "Processing Record 48 of set 9 | pueblo bello\n",
      "Processing Record 49 of set 9 | owando\n",
      "City not found. Skipping...\n",
      "Processing Record 50 of set 9 | birecik\n",
      "Processing Record 1 of set 10 | merauke\n",
      "City not found. Skipping...\n",
      "Processing Record 2 of set 10 | lata\n",
      "Processing Record 3 of set 10 | porbandar\n",
      "Processing Record 4 of set 10 | solok\n",
      "Processing Record 5 of set 10 | novobirilyussy\n",
      "Processing Record 6 of set 10 | dixon\n",
      "Processing Record 7 of set 10 | santa lucia\n",
      "City not found. Skipping...\n",
      "Processing Record 8 of set 10 | yarmouth\n",
      "Processing Record 9 of set 10 | eenhana\n",
      "Processing Record 10 of set 10 | kiunga\n",
      "Processing Record 11 of set 10 | mehran\n",
      "Processing Record 12 of set 10 | tres lagoas\n",
      "Processing Record 13 of set 10 | sabang\n",
      "Processing Record 14 of set 10 | codrington\n",
      "City not found. Skipping...\n",
      "Processing Record 15 of set 10 | yaring\n",
      "Processing Record 16 of set 10 | sao gabriel da cachoeira\n",
      "Processing Record 17 of set 10 | tautira\n",
      "Processing Record 18 of set 10 | san cristobal\n",
      "Processing Record 19 of set 10 | rostovka\n",
      "Processing Record 20 of set 10 | praia da vitoria\n",
      "Processing Record 21 of set 10 | kovdor\n",
      "Processing Record 22 of set 10 | pangnirtung\n",
      "Processing Record 23 of set 10 | hopkinsville\n",
      "Processing Record 24 of set 10 | saravena\n",
      "Processing Record 25 of set 10 | dongying\n",
      "Processing Record 26 of set 10 | landskrona\n",
      "Processing Record 27 of set 10 | umm bab\n",
      "City not found. Skipping...\n",
      "Processing Record 28 of set 10 | labelle\n",
      "Processing Record 29 of set 10 | isilkul\n",
      "Processing Record 30 of set 10 | westport\n",
      "City not found. Skipping...\n",
      "Processing Record 31 of set 10 | gondanglegi\n",
      "Processing Record 32 of set 10 | udachnyy\n",
      "Processing Record 33 of set 10 | upington\n",
      "Processing Record 34 of set 10 | salama\n",
      "Processing Record 35 of set 10 | hervey bay\n",
      "Processing Record 36 of set 10 | brae\n",
      "Processing Record 37 of set 10 | hamamatsu\n",
      "Processing Record 38 of set 10 | salinopolis\n",
      "Processing Record 39 of set 10 | braintree\n",
      "Processing Record 40 of set 10 | rizhao\n",
      "Processing Record 41 of set 10 | lorengau\n",
      "Processing Record 42 of set 10 | buala\n",
      "Processing Record 43 of set 10 | taga\n",
      "City not found. Skipping...\n",
      "Processing Record 44 of set 10 | boa viagem\n",
      "Processing Record 45 of set 10 | tulum\n",
      "Processing Record 46 of set 10 | dongning\n",
      "Processing Record 47 of set 10 | rio grande\n",
      "Processing Record 48 of set 10 | sitka\n",
      "Processing Record 49 of set 10 | tabou\n",
      "Processing Record 50 of set 10 | price\n",
      "Processing Record 1 of set 11 | mount isa\n",
      "Processing Record 2 of set 11 | altamont\n",
      "Processing Record 3 of set 11 | la masica\n",
      "Processing Record 4 of set 11 | la plata\n",
      "Processing Record 5 of set 11 | am timan\n",
      "Processing Record 6 of set 11 | akyab\n",
      "Processing Record 7 of set 11 | greenwood\n",
      "City not found. Skipping...\n",
      "City not found. Skipping...\n",
      "City not found. Skipping...\n",
      "Processing Record 8 of set 11 | annau\n",
      "Processing Record 9 of set 11 | kendari\n",
      "City not found. Skipping...\n",
      "Processing Record 10 of set 11 | bhachau\n",
      "Processing Record 11 of set 11 | riihimaki\n",
      "Processing Record 12 of set 11 | emerald\n",
      "Processing Record 13 of set 11 | tukan\n",
      "Processing Record 14 of set 11 | bardiyah\n",
      "Processing Record 15 of set 11 | peniche\n",
      "Processing Record 16 of set 11 | akureyri\n",
      "Processing Record 17 of set 11 | varhaug\n",
      "Processing Record 18 of set 11 | hami\n",
      "Processing Record 19 of set 11 | cap malheureux\n",
      "Processing Record 20 of set 11 | kasongo\n",
      "Processing Record 21 of set 11 | port antonio\n",
      "Processing Record 22 of set 11 | para de minas\n",
      "Processing Record 23 of set 11 | trofors\n",
      "Processing Record 24 of set 11 | hamilton\n",
      "Processing Record 25 of set 11 | cape canaveral\n",
      "Processing Record 26 of set 11 | panaba\n",
      "Processing Record 27 of set 11 | zaozerne\n",
      "City not found. Skipping...\n",
      "Processing Record 28 of set 11 | mtambile\n",
      "City not found. Skipping...\n",
      "Processing Record 29 of set 11 | atasu\n",
      "Processing Record 30 of set 11 | rapid valley\n",
      "Processing Record 31 of set 11 | half moon bay\n",
      "Processing Record 32 of set 11 | beira\n",
      "Processing Record 33 of set 11 | emba\n",
      "Processing Record 34 of set 11 | matagami\n",
      "Processing Record 35 of set 11 | pinawa\n",
      "Processing Record 36 of set 11 | singkang\n",
      "Processing Record 37 of set 11 | atakpame\n",
      "Processing Record 38 of set 11 | tayport\n",
      "Processing Record 39 of set 11 | chapais\n",
      "Processing Record 40 of set 11 | starachowice\n",
      "Processing Record 41 of set 11 | tizimin\n",
      "City not found. Skipping...\n",
      "Processing Record 42 of set 11 | kloulklubed\n",
      "Processing Record 43 of set 11 | kamaishi\n",
      "Processing Record 44 of set 11 | kunyang\n",
      "Processing Record 45 of set 11 | luneville\n",
      "Processing Record 46 of set 11 | saint-joseph\n",
      "Processing Record 47 of set 11 | requena\n",
      "Processing Record 48 of set 11 | montagnana\n",
      "Processing Record 49 of set 11 | sandwick\n",
      "Processing Record 50 of set 11 | sibu\n",
      "Processing Record 1 of set 12 | plouzane\n",
      "Processing Record 2 of set 12 | paso de carrasco\n",
      "Processing Record 3 of set 12 | batagay\n",
      "Processing Record 4 of set 12 | mahibadhoo\n",
      "------------------------------------------\n",
      "Data Retrieval Complete\n",
      "------------------------------------------\n"
     ]
    }
   ],
   "source": [
    "\n",
    "#create lists for storing api data\n",
    "cityName = []\n",
    "lat = []\n",
    "lng = []\n",
    "maxTemp = []\n",
    "humidity = []\n",
    "clouds = []\n",
    "windSpeed = []\n",
    "country = []\n",
    "dates = []\n",
    "\n",
    "# set initial count quantities for organization\n",
    "countRecord = 1\n",
    "countSet = 1\n",
    "\n",
    "print(f\"Beginning Data Retrieval\")\n",
    "print(f\"------------------------------------------\")\n",
    "\n",
    "# loops for creating dataframe columns\n",
    "for city in cities:\n",
    "    \n",
    "    \n",
    "    try:\n",
    "       \n",
    "        response = requests.get(f\"{url}&q={city}\").json()\n",
    "        cityName.append(response['name'])\n",
    "        lat.append(response['coord']['lat'])\n",
    "        lng.append(response['coord']['lon'])\n",
    "        maxTemp.append(response['main']['temp_max'])\n",
    "        humidity.append(response['main']['humidity'])\n",
    "        clouds.append(response['clouds']['all'])\n",
    "        windSpeed.append(response['wind']['speed'])               \n",
    "        country.append(response['sys']['country'])\n",
    "        dates.append(response['dt'])\n",
    "        \n",
    "        \n",
    "        print(f\"Processing Record {countRecord} of set {countSet} | {city}\")  \n",
    "                \n",
    "        countRecord += 1\n",
    "        #time.sleep(1)\n",
    "         \n",
    "        if countRecord == 51:\n",
    "            countSet += 1\n",
    "            countRecord = 1\n",
    "   \n",
    "    except KeyError:\n",
    "        print(\"City not found. Skipping...\")\n",
    "        #print((f\"{url}&q={city}\"))\n",
    "    #break\n",
    "    continue\n",
    "    \n",
    "  \n",
    "\n",
    "print(f\"------------------------------------------\")\n",
    "print(f\"Data Retrieval Complete\")\n",
    "print(f\"------------------------------------------\")"
   ]
  },
  {
   "cell_type": "markdown",
   "metadata": {},
   "source": [
    "### Convert Raw Data to DataFrame\n",
    "* Export the city data into a .csv.\n",
    "* Display the DataFrame"
   ]
  },
  {
   "cell_type": "code",
   "execution_count": 7,
   "metadata": {},
   "outputs": [
    {
     "data": {
      "text/html": [
       "<div>\n",
       "<style scoped>\n",
       "    .dataframe tbody tr th:only-of-type {\n",
       "        vertical-align: middle;\n",
       "    }\n",
       "\n",
       "    .dataframe tbody tr th {\n",
       "        vertical-align: top;\n",
       "    }\n",
       "\n",
       "    .dataframe thead th {\n",
       "        text-align: right;\n",
       "    }\n",
       "</style>\n",
       "<table border=\"1\" class=\"dataframe\">\n",
       "  <thead>\n",
       "    <tr style=\"text-align: right;\">\n",
       "      <th></th>\n",
       "      <th>City</th>\n",
       "      <th>Lat</th>\n",
       "      <th>Lng</th>\n",
       "      <th>Max Temp</th>\n",
       "      <th>Humidity</th>\n",
       "      <th>Cloudiness</th>\n",
       "      <th>Wind Speed</th>\n",
       "      <th>Country</th>\n",
       "      <th>Date</th>\n",
       "    </tr>\n",
       "  </thead>\n",
       "  <tbody>\n",
       "    <tr>\n",
       "      <th>0</th>\n",
       "      <td>Busselton</td>\n",
       "      <td>-33.65</td>\n",
       "      <td>115.33</td>\n",
       "      <td>55.99</td>\n",
       "      <td>89</td>\n",
       "      <td>96</td>\n",
       "      <td>21.36</td>\n",
       "      <td>AU</td>\n",
       "      <td>1588746684</td>\n",
       "    </tr>\n",
       "    <tr>\n",
       "      <th>1</th>\n",
       "      <td>Ushuaia</td>\n",
       "      <td>-54.80</td>\n",
       "      <td>-68.30</td>\n",
       "      <td>35.60</td>\n",
       "      <td>69</td>\n",
       "      <td>40</td>\n",
       "      <td>6.93</td>\n",
       "      <td>AR</td>\n",
       "      <td>1588746541</td>\n",
       "    </tr>\n",
       "    <tr>\n",
       "      <th>2</th>\n",
       "      <td>Kapaa</td>\n",
       "      <td>22.08</td>\n",
       "      <td>-159.32</td>\n",
       "      <td>75.20</td>\n",
       "      <td>78</td>\n",
       "      <td>75</td>\n",
       "      <td>12.75</td>\n",
       "      <td>US</td>\n",
       "      <td>1588746685</td>\n",
       "    </tr>\n",
       "    <tr>\n",
       "      <th>3</th>\n",
       "      <td>Prince Albert</td>\n",
       "      <td>53.20</td>\n",
       "      <td>-105.77</td>\n",
       "      <td>42.80</td>\n",
       "      <td>81</td>\n",
       "      <td>20</td>\n",
       "      <td>9.17</td>\n",
       "      <td>CA</td>\n",
       "      <td>1588746451</td>\n",
       "    </tr>\n",
       "    <tr>\n",
       "      <th>4</th>\n",
       "      <td>Manitouwadge</td>\n",
       "      <td>49.12</td>\n",
       "      <td>-85.84</td>\n",
       "      <td>33.39</td>\n",
       "      <td>94</td>\n",
       "      <td>100</td>\n",
       "      <td>10.65</td>\n",
       "      <td>CA</td>\n",
       "      <td>1588746685</td>\n",
       "    </tr>\n",
       "  </tbody>\n",
       "</table>\n",
       "</div>"
      ],
      "text/plain": [
       "            City    Lat     Lng  Max Temp  Humidity  Cloudiness  Wind Speed  \\\n",
       "0      Busselton -33.65  115.33     55.99        89          96       21.36   \n",
       "1        Ushuaia -54.80  -68.30     35.60        69          40        6.93   \n",
       "2          Kapaa  22.08 -159.32     75.20        78          75       12.75   \n",
       "3  Prince Albert  53.20 -105.77     42.80        81          20        9.17   \n",
       "4   Manitouwadge  49.12  -85.84     33.39        94         100       10.65   \n",
       "\n",
       "  Country        Date  \n",
       "0      AU  1588746684  \n",
       "1      AR  1588746541  \n",
       "2      US  1588746685  \n",
       "3      CA  1588746451  \n",
       "4      CA  1588746685  "
      ]
     },
     "execution_count": 7,
     "metadata": {},
     "output_type": "execute_result"
    }
   ],
   "source": [
    "# Create a dictionary from the lists\n",
    "cityDict = {\n",
    "    \"City\": cityName,\n",
    "    \"Lat\":lat, \n",
    "    \"Lng\":lng,\n",
    "    \"Max Temp\": maxTemp,\n",
    "    \"Humidity\": humidity,\n",
    "    \"Cloudiness\":clouds, \n",
    "    \"Wind Speed\":windSpeed,\n",
    "    \"Country\":country,\n",
    "    \"Date\":dates      \n",
    "    }\n",
    "\n",
    "# Create a dataframe\n",
    "city_data_df = pd.DataFrame(cityDict)\n",
    "\n",
    "city_data_df.head()"
   ]
  },
  {
   "cell_type": "code",
   "execution_count": 8,
   "metadata": {},
   "outputs": [],
   "source": [
    "#city_data_df.to_csv(output_data_file)"
   ]
  },
  {
   "cell_type": "markdown",
   "metadata": {},
   "source": [
    "## Inspect the data and remove the cities where the humidity > 100%.\n",
    "----\n",
    "Skip this step if there are no cities that have humidity > 100%. "
   ]
  },
  {
   "cell_type": "code",
   "execution_count": 9,
   "metadata": {},
   "outputs": [
    {
     "data": {
      "text/html": [
       "<div>\n",
       "<style scoped>\n",
       "    .dataframe tbody tr th:only-of-type {\n",
       "        vertical-align: middle;\n",
       "    }\n",
       "\n",
       "    .dataframe tbody tr th {\n",
       "        vertical-align: top;\n",
       "    }\n",
       "\n",
       "    .dataframe thead th {\n",
       "        text-align: right;\n",
       "    }\n",
       "</style>\n",
       "<table border=\"1\" class=\"dataframe\">\n",
       "  <thead>\n",
       "    <tr style=\"text-align: right;\">\n",
       "      <th></th>\n",
       "      <th>City</th>\n",
       "      <th>Lat</th>\n",
       "      <th>Lng</th>\n",
       "      <th>Max Temp</th>\n",
       "      <th>Humidity</th>\n",
       "      <th>Cloudiness</th>\n",
       "      <th>Wind Speed</th>\n",
       "      <th>Country</th>\n",
       "      <th>Date</th>\n",
       "    </tr>\n",
       "  </thead>\n",
       "  <tbody>\n",
       "    <tr>\n",
       "      <th>0</th>\n",
       "      <td>Busselton</td>\n",
       "      <td>-33.65</td>\n",
       "      <td>115.33</td>\n",
       "      <td>55.99</td>\n",
       "      <td>89</td>\n",
       "      <td>96</td>\n",
       "      <td>21.36</td>\n",
       "      <td>AU</td>\n",
       "      <td>1588746684</td>\n",
       "    </tr>\n",
       "    <tr>\n",
       "      <th>1</th>\n",
       "      <td>Ushuaia</td>\n",
       "      <td>-54.80</td>\n",
       "      <td>-68.30</td>\n",
       "      <td>35.60</td>\n",
       "      <td>69</td>\n",
       "      <td>40</td>\n",
       "      <td>6.93</td>\n",
       "      <td>AR</td>\n",
       "      <td>1588746541</td>\n",
       "    </tr>\n",
       "    <tr>\n",
       "      <th>2</th>\n",
       "      <td>Kapaa</td>\n",
       "      <td>22.08</td>\n",
       "      <td>-159.32</td>\n",
       "      <td>75.20</td>\n",
       "      <td>78</td>\n",
       "      <td>75</td>\n",
       "      <td>12.75</td>\n",
       "      <td>US</td>\n",
       "      <td>1588746685</td>\n",
       "    </tr>\n",
       "    <tr>\n",
       "      <th>3</th>\n",
       "      <td>Prince Albert</td>\n",
       "      <td>53.20</td>\n",
       "      <td>-105.77</td>\n",
       "      <td>42.80</td>\n",
       "      <td>81</td>\n",
       "      <td>20</td>\n",
       "      <td>9.17</td>\n",
       "      <td>CA</td>\n",
       "      <td>1588746451</td>\n",
       "    </tr>\n",
       "    <tr>\n",
       "      <th>4</th>\n",
       "      <td>Manitouwadge</td>\n",
       "      <td>49.12</td>\n",
       "      <td>-85.84</td>\n",
       "      <td>33.39</td>\n",
       "      <td>94</td>\n",
       "      <td>100</td>\n",
       "      <td>10.65</td>\n",
       "      <td>CA</td>\n",
       "      <td>1588746685</td>\n",
       "    </tr>\n",
       "    <tr>\n",
       "      <th>...</th>\n",
       "      <td>...</td>\n",
       "      <td>...</td>\n",
       "      <td>...</td>\n",
       "      <td>...</td>\n",
       "      <td>...</td>\n",
       "      <td>...</td>\n",
       "      <td>...</td>\n",
       "      <td>...</td>\n",
       "      <td>...</td>\n",
       "    </tr>\n",
       "    <tr>\n",
       "      <th>549</th>\n",
       "      <td>Sibu</td>\n",
       "      <td>2.30</td>\n",
       "      <td>111.82</td>\n",
       "      <td>91.40</td>\n",
       "      <td>63</td>\n",
       "      <td>75</td>\n",
       "      <td>3.36</td>\n",
       "      <td>MY</td>\n",
       "      <td>1588746821</td>\n",
       "    </tr>\n",
       "    <tr>\n",
       "      <th>550</th>\n",
       "      <td>Plouzané</td>\n",
       "      <td>48.38</td>\n",
       "      <td>-4.62</td>\n",
       "      <td>53.60</td>\n",
       "      <td>93</td>\n",
       "      <td>90</td>\n",
       "      <td>3.36</td>\n",
       "      <td>FR</td>\n",
       "      <td>1588746606</td>\n",
       "    </tr>\n",
       "    <tr>\n",
       "      <th>551</th>\n",
       "      <td>Paso de Carrasco</td>\n",
       "      <td>-34.86</td>\n",
       "      <td>-56.05</td>\n",
       "      <td>55.40</td>\n",
       "      <td>62</td>\n",
       "      <td>75</td>\n",
       "      <td>16.11</td>\n",
       "      <td>UY</td>\n",
       "      <td>1588746822</td>\n",
       "    </tr>\n",
       "    <tr>\n",
       "      <th>552</th>\n",
       "      <td>Batagay</td>\n",
       "      <td>67.63</td>\n",
       "      <td>134.63</td>\n",
       "      <td>35.80</td>\n",
       "      <td>80</td>\n",
       "      <td>97</td>\n",
       "      <td>3.36</td>\n",
       "      <td>RU</td>\n",
       "      <td>1588746822</td>\n",
       "    </tr>\n",
       "    <tr>\n",
       "      <th>553</th>\n",
       "      <td>Mahibadhoo</td>\n",
       "      <td>3.78</td>\n",
       "      <td>72.97</td>\n",
       "      <td>84.02</td>\n",
       "      <td>81</td>\n",
       "      <td>100</td>\n",
       "      <td>12.95</td>\n",
       "      <td>MV</td>\n",
       "      <td>1588746822</td>\n",
       "    </tr>\n",
       "  </tbody>\n",
       "</table>\n",
       "<p>554 rows × 9 columns</p>\n",
       "</div>"
      ],
      "text/plain": [
       "                 City    Lat     Lng  Max Temp  Humidity  Cloudiness  \\\n",
       "0           Busselton -33.65  115.33     55.99        89          96   \n",
       "1             Ushuaia -54.80  -68.30     35.60        69          40   \n",
       "2               Kapaa  22.08 -159.32     75.20        78          75   \n",
       "3       Prince Albert  53.20 -105.77     42.80        81          20   \n",
       "4        Manitouwadge  49.12  -85.84     33.39        94         100   \n",
       "..                ...    ...     ...       ...       ...         ...   \n",
       "549              Sibu   2.30  111.82     91.40        63          75   \n",
       "550          Plouzané  48.38   -4.62     53.60        93          90   \n",
       "551  Paso de Carrasco -34.86  -56.05     55.40        62          75   \n",
       "552           Batagay  67.63  134.63     35.80        80          97   \n",
       "553        Mahibadhoo   3.78   72.97     84.02        81         100   \n",
       "\n",
       "     Wind Speed Country        Date  \n",
       "0         21.36      AU  1588746684  \n",
       "1          6.93      AR  1588746541  \n",
       "2         12.75      US  1588746685  \n",
       "3          9.17      CA  1588746451  \n",
       "4         10.65      CA  1588746685  \n",
       "..          ...     ...         ...  \n",
       "549        3.36      MY  1588746821  \n",
       "550        3.36      FR  1588746606  \n",
       "551       16.11      UY  1588746822  \n",
       "552        3.36      RU  1588746822  \n",
       "553       12.95      MV  1588746822  \n",
       "\n",
       "[554 rows x 9 columns]"
      ]
     },
     "execution_count": 9,
     "metadata": {},
     "output_type": "execute_result"
    }
   ],
   "source": [
    "city_data_df"
   ]
  },
  {
   "cell_type": "code",
   "execution_count": 10,
   "metadata": {},
   "outputs": [],
   "source": [
    "#  Get the indices of cities that have humidity over 100%.\n",
    "idx100 = city_data_df[city_data_df['Humidity'] > 100].index"
   ]
  },
  {
   "cell_type": "code",
   "execution_count": 11,
   "metadata": {},
   "outputs": [
    {
     "data": {
      "text/html": [
       "<div>\n",
       "<style scoped>\n",
       "    .dataframe tbody tr th:only-of-type {\n",
       "        vertical-align: middle;\n",
       "    }\n",
       "\n",
       "    .dataframe tbody tr th {\n",
       "        vertical-align: top;\n",
       "    }\n",
       "\n",
       "    .dataframe thead th {\n",
       "        text-align: right;\n",
       "    }\n",
       "</style>\n",
       "<table border=\"1\" class=\"dataframe\">\n",
       "  <thead>\n",
       "    <tr style=\"text-align: right;\">\n",
       "      <th></th>\n",
       "      <th>City</th>\n",
       "      <th>Lat</th>\n",
       "      <th>Lng</th>\n",
       "      <th>Max Temp</th>\n",
       "      <th>Humidity</th>\n",
       "      <th>Cloudiness</th>\n",
       "      <th>Wind Speed</th>\n",
       "      <th>Country</th>\n",
       "      <th>Date</th>\n",
       "    </tr>\n",
       "  </thead>\n",
       "  <tbody>\n",
       "    <tr>\n",
       "      <th>0</th>\n",
       "      <td>Busselton</td>\n",
       "      <td>-33.65</td>\n",
       "      <td>115.33</td>\n",
       "      <td>55.99</td>\n",
       "      <td>89</td>\n",
       "      <td>96</td>\n",
       "      <td>21.36</td>\n",
       "      <td>AU</td>\n",
       "      <td>1588746684</td>\n",
       "    </tr>\n",
       "    <tr>\n",
       "      <th>1</th>\n",
       "      <td>Ushuaia</td>\n",
       "      <td>-54.80</td>\n",
       "      <td>-68.30</td>\n",
       "      <td>35.60</td>\n",
       "      <td>69</td>\n",
       "      <td>40</td>\n",
       "      <td>6.93</td>\n",
       "      <td>AR</td>\n",
       "      <td>1588746541</td>\n",
       "    </tr>\n",
       "    <tr>\n",
       "      <th>2</th>\n",
       "      <td>Kapaa</td>\n",
       "      <td>22.08</td>\n",
       "      <td>-159.32</td>\n",
       "      <td>75.20</td>\n",
       "      <td>78</td>\n",
       "      <td>75</td>\n",
       "      <td>12.75</td>\n",
       "      <td>US</td>\n",
       "      <td>1588746685</td>\n",
       "    </tr>\n",
       "    <tr>\n",
       "      <th>3</th>\n",
       "      <td>Prince Albert</td>\n",
       "      <td>53.20</td>\n",
       "      <td>-105.77</td>\n",
       "      <td>42.80</td>\n",
       "      <td>81</td>\n",
       "      <td>20</td>\n",
       "      <td>9.17</td>\n",
       "      <td>CA</td>\n",
       "      <td>1588746451</td>\n",
       "    </tr>\n",
       "    <tr>\n",
       "      <th>4</th>\n",
       "      <td>Manitouwadge</td>\n",
       "      <td>49.12</td>\n",
       "      <td>-85.84</td>\n",
       "      <td>33.39</td>\n",
       "      <td>94</td>\n",
       "      <td>100</td>\n",
       "      <td>10.65</td>\n",
       "      <td>CA</td>\n",
       "      <td>1588746685</td>\n",
       "    </tr>\n",
       "  </tbody>\n",
       "</table>\n",
       "</div>"
      ],
      "text/plain": [
       "            City    Lat     Lng  Max Temp  Humidity  Cloudiness  Wind Speed  \\\n",
       "0      Busselton -33.65  115.33     55.99        89          96       21.36   \n",
       "1        Ushuaia -54.80  -68.30     35.60        69          40        6.93   \n",
       "2          Kapaa  22.08 -159.32     75.20        78          75       12.75   \n",
       "3  Prince Albert  53.20 -105.77     42.80        81          20        9.17   \n",
       "4   Manitouwadge  49.12  -85.84     33.39        94         100       10.65   \n",
       "\n",
       "  Country        Date  \n",
       "0      AU  1588746684  \n",
       "1      AR  1588746541  \n",
       "2      US  1588746685  \n",
       "3      CA  1588746451  \n",
       "4      CA  1588746685  "
      ]
     },
     "execution_count": 11,
     "metadata": {},
     "output_type": "execute_result"
    }
   ],
   "source": [
    "# Make a new DataFrame equal to the city data to drop all humidity outliers by index.\n",
    "# Passing \"inplace=False\" will make a copy of the city_data DataFrame, which we call \"clean_city_data\".\n",
    "cleaned_city_data_df = city_data_df.drop(idx100, inplace=False)\n",
    "\n",
    "cleaned_city_data_df.head()"
   ]
  },
  {
   "cell_type": "code",
   "execution_count": 27,
   "metadata": {},
   "outputs": [],
   "source": [
    "# Extract relevant fields from the data frame\n",
    "relevant_df = cleaned_city_data_df.filter(['City','Country', 'Lat', 'Lng', 'Max Temp', 'Humidity', 'Cloudiness', 'Wind Speed', 'Date'], axis=1)\n",
    "relevant_df.head() \n",
    "# Export the City_Data into a csv\n",
    "relevant_df.to_csv(output_data_file, index=False)"
   ]
  },
  {
   "cell_type": "markdown",
   "metadata": {},
   "source": [
    "## Plotting the Data\n",
    "* Use proper labeling of the plots using plot titles (including date of analysis) and axes labels.\n",
    "* Save the plotted figures as .pngs."
   ]
  },
  {
   "cell_type": "markdown",
   "metadata": {},
   "source": [
    "## Latitude vs. Temperature Plot"
   ]
  },
  {
   "cell_type": "code",
   "execution_count": 13,
   "metadata": {
    "scrolled": true
   },
   "outputs": [
    {
     "data": {
      "image/png": "[encoded data removed]",
      "text/plain": [
       "<Figure size 432x288 with 1 Axes>"
      ]
     },
     "metadata": {
      "needs_background": "light"
     },
     "output_type": "display_data"
    },
    {
     "name": "stdout",
     "output_type": "stream",
     "text": [
      "It tends to be hotter at the equator, this was observed by latitude 0.\n"
     ]
    }
   ],
   "source": [
    "# Create a Scatter Plot of Latitude vs Max Temp\n",
    "plt.scatter(relevant_df[\"Lat\"], relevant_df[\"Max Temp\"], marker=\"o\")\n",
    "\n",
    "# Label the chart\n",
    "plt.title(f'City Latitude vs. Max Temperature {time.strftime(\"%m/%d/%Y\")}')\n",
    "plt.ylabel(\"Temperature (F°)\")\n",
    "plt.xlabel(\"Latitude\")\n",
    "\n",
    "\n",
    "# Save the chart\n",
    "plt.savefig(\"output_data/City Latitude vs. Max Temperature.png\")\n",
    "plt.show()\n",
    "\n",
    "print(\"It tends to be hotter at the equator, this was observed by latitude 0.\")"
   ]
  },
  {
   "cell_type": "markdown",
   "metadata": {},
   "source": [
    "## Latitude vs. Humidity Plot"
   ]
  },
  {
   "cell_type": "code",
   "execution_count": 14,
   "metadata": {},
   "outputs": [
    {
     "data": {
      "image/png": "[encoded data removed]",
      "text/plain": [
       "<Figure size 432x288 with 1 Axes>"
      ]
     },
     "metadata": {
      "needs_background": "light"
     },
     "output_type": "display_data"
    },
    {
     "name": "stdout",
     "output_type": "stream",
     "text": [
      "The to be hotter at the equator, this was observed by latitude 0.\n"
     ]
    }
   ],
   "source": [
    "# Create a Scatter Plot of Latitude vs Max Temp\n",
    "plt.scatter(relevant_df[\"Lat\"], relevant_df[\"Humidity\"], marker=\"o\")\n",
    "\n",
    "# Label the chart\n",
    "plt.title(f'City Latitude vs. Humidity {time.strftime(\"%m/%d/%Y\")}')\n",
    "plt.ylabel(\"Humidity\")\n",
    "plt.xlabel(\"Latitude\")\n",
    "\n",
    "\n",
    "# Save the chart\n",
    "plt.savefig(\"output_data/City Latitude vs. Humidity.png\")\n",
    "plt.show()\n",
    "\n",
    "print(\"The to be hotter at the equator, this was observed by latitude 0.\")"
   ]
  },
  {
   "cell_type": "markdown",
   "metadata": {},
   "source": [
    "## Latitude vs. Cloudiness Plot"
   ]
  },
  {
   "cell_type": "code",
   "execution_count": 15,
   "metadata": {},
   "outputs": [
    {
     "data": {
      "image/png": "[encoded data removed]",
      "text/plain": [
       "<Figure size 432x288 with 1 Axes>"
      ]
     },
     "metadata": {
      "needs_background": "light"
     },
     "output_type": "display_data"
    }
   ],
   "source": [
    "# Create a Scatter Plot of Latitude vs Max Temp\n",
    "plt.scatter(relevant_df[\"Lat\"], relevant_df[\"Cloudiness\"], marker=\"o\")\n",
    "\n",
    "# Label the chart\n",
    "plt.title(f'City Latitude vs. Cloudiness {time.strftime(\"%m/%d/%Y\")}')\n",
    "plt.ylabel(\"Cloudiness\")\n",
    "plt.xlabel(\"Latitude\")\n",
    "\n",
    "\n",
    "# Save the chart\n",
    "plt.savefig(\"output_data/City Latitude vs. Cloudinessy.png\")\n",
    "plt.show()"
   ]
  },
  {
   "cell_type": "markdown",
   "metadata": {},
   "source": [
    "## Latitude vs. Wind Speed Plot"
   ]
  },
  {
   "cell_type": "code",
   "execution_count": 16,
   "metadata": {},
   "outputs": [
    {
     "data": {
      "image/png": "[encoded data removed]",
      "text/plain": [
       "<Figure size 432x288 with 1 Axes>"
      ]
     },
     "metadata": {
      "needs_background": "light"
     },
     "output_type": "display_data"
    }
   ],
   "source": [
    "# Create a Scatter Plot of Latitude vs Max Temp\n",
    "plt.scatter(relevant_df[\"Lat\"], relevant_df[\"Wind Speed\"], marker=\"o\")\n",
    "\n",
    "# Label the chart\n",
    "plt.title(f'City Latitude vs. Wind Speed {time.strftime(\"%m/%d/%Y\")}')\n",
    "plt.ylabel(\"Wind Speed\")\n",
    "plt.xlabel(\"Latitude\")\n",
    "\n",
    "# Save the chart\n",
    "plt.savefig(\"output_data/City Latitude vs. Wind Speed.png\")\n",
    "plt.show()"
   ]
  },
  {
   "cell_type": "markdown",
   "metadata": {},
   "source": [
    "## Linear Regression"
   ]
  },
  {
   "cell_type": "code",
   "execution_count": 17,
   "metadata": {},
   "outputs": [],
   "source": [
    "# OPTIONAL: Create a function to create Linear Regression plots\n",
    "\n",
    "def regressionPlot(x_axis, y_axis, x_title, y_title, x_cord, y_cord):\n",
    "    (slope, intercept, rvalue, pvalue, stderr) = linregress(x_axis, y_axis)\n",
    "    regress_values = x_axis * slope + intercept\n",
    "    line_eq = \"y = \" + str(round(slope, 2)) + \"x + \" + str(round(intercept, 2))\n",
    "    plt.scatter(x_axis, y_axis)\n",
    "    plt.plot(x_axis, regress_values, \"r-\")\n",
    "    plt.annotate(line_eq,(x_cord,y_cord), fontsize=18, color=\"red\")\n",
    "    plt.xlabel(x_title, fontsize=16)\n",
    "    plt.ylabel(y_title, fontsize=16)\n",
    "    plt.title(f'{x_title} vs. {y_title} {time.strftime(\"%m/%d/%Y\")}', fontsize=16)\n",
    "    print(f\"The R-Squared is: {rvalue}\")\n",
    "    return\n",
    "\n",
    "#regressionPlot(relevant_df['Lat'],relevant_df['Max Temp'],'Latitude','Temperature')"
   ]
  },
  {
   "cell_type": "code",
   "execution_count": null,
   "metadata": {},
   "outputs": [],
   "source": []
  },
  {
   "cell_type": "code",
   "execution_count": 18,
   "metadata": {},
   "outputs": [],
   "source": [
    "# Create Northern and Southern Hemisphere DataFrames\n",
    "\n",
    "# Northern Hemisphere\n",
    "northHemi_df = relevant_df[relevant_df['Lat'] >= 0]\n",
    "\n",
    "# Southern Hemisphere\n",
    "southHemi_df = relevant_df[relevant_df['Lat'] < 0]\n"
   ]
  },
  {
   "cell_type": "markdown",
   "metadata": {},
   "source": [
    "####  Northern Hemisphere - Max Temp vs. Latitude Linear Regression"
   ]
  },
  {
   "cell_type": "code",
   "execution_count": 19,
   "metadata": {},
   "outputs": [
    {
     "name": "stdout",
     "output_type": "stream",
     "text": [
      "The R-Squared is: -0.8505808795881563\n"
     ]
    },
    {
     "data": {
      "image/png": "[encoded data removed]",
      "text/plain": [
       "<Figure size 432x288 with 1 Axes>"
      ]
     },
     "metadata": {
      "needs_background": "light"
     },
     "output_type": "display_data"
    }
   ],
   "source": [
    "regressionPlot(northHemi_df['Lat'],northHemi_df['Max Temp'],'Latitude','Temperature (F)', 0, 0)"
   ]
  },
  {
   "cell_type": "markdown",
   "metadata": {},
   "source": [
    "####  Southern Hemisphere - Max Temp vs. Latitude Linear Regression"
   ]
  },
  {
   "cell_type": "code",
   "execution_count": 20,
   "metadata": {},
   "outputs": [
    {
     "name": "stdout",
     "output_type": "stream",
     "text": [
      "The R-Squared is: 0.748932301147377\n"
     ]
    },
    {
     "data": {
      "image/png": "[encoded data removed]",
      "text/plain": [
       "<Figure size 432x288 with 1 Axes>"
      ]
     },
     "metadata": {
      "needs_background": "light"
     },
     "output_type": "display_data"
    }
   ],
   "source": [
    "regressionPlot(southHemi_df['Lat'],southHemi_df['Max Temp'],'Latitude','Temperature (F)',-55, 80)"
   ]
  },
  {
   "cell_type": "markdown",
   "metadata": {},
   "source": [
    "####  Northern Hemisphere - Humidity (%) vs. Latitude Linear Regression"
   ]
  },
  {
   "cell_type": "code",
   "execution_count": 21,
   "metadata": {},
   "outputs": [
    {
     "name": "stdout",
     "output_type": "stream",
     "text": [
      "The R-Squared is: 0.15623296890319566\n"
     ]
    },
    {
     "data": {
      "image/png": "[encoded data removed]",
      "text/plain": [
       "<Figure size 432x288 with 1 Axes>"
      ]
     },
     "metadata": {
      "needs_background": "light"
     },
     "output_type": "display_data"
    }
   ],
   "source": [
    "regressionPlot(northHemi_df['Lat'],northHemi_df['Humidity'],'Latitude','Humidity %', 0, 15)"
   ]
  },
  {
   "cell_type": "markdown",
   "metadata": {},
   "source": [
    "####  Southern Hemisphere - Humidity (%) vs. Latitude Linear Regression"
   ]
  },
  {
   "cell_type": "code",
   "execution_count": 22,
   "metadata": {},
   "outputs": [
    {
     "name": "stdout",
     "output_type": "stream",
     "text": [
      "The R-Squared is: 0.21709389383870065\n"
     ]
    },
    {
     "data": {
      "image/png": "[encoded data removed]",
      "text/plain": [
       "<Figure size 432x288 with 1 Axes>"
      ]
     },
     "metadata": {
      "needs_background": "light"
     },
     "output_type": "display_data"
    }
   ],
   "source": [
    "regressionPlot(southHemi_df['Lat'],southHemi_df['Humidity'],'Latitude','Humidity %',-55, 40)"
   ]
  },
  {
   "cell_type": "markdown",
   "metadata": {},
   "source": [
    "####  Northern Hemisphere - Cloudiness (%) vs. Latitude Linear Regression"
   ]
  },
  {
   "cell_type": "code",
   "execution_count": 23,
   "metadata": {},
   "outputs": [
    {
     "name": "stdout",
     "output_type": "stream",
     "text": [
      "The R-Squared is: 0.15013704327451927\n"
     ]
    },
    {
     "data": {
      "image/png": "[encoded data removed]",
      "text/plain": [
       "<Figure size 432x288 with 1 Axes>"
      ]
     },
     "metadata": {
      "needs_background": "light"
     },
     "output_type": "display_data"
    }
   ],
   "source": [
    "regressionPlot(northHemi_df['Lat'],northHemi_df['Cloudiness'],'Latitude','Cloudiness %', 0, 10)"
   ]
  },
  {
   "cell_type": "markdown",
   "metadata": {},
   "source": [
    "####  Southern Hemisphere - Cloudiness (%) vs. Latitude Linear Regression"
   ]
  },
  {
   "cell_type": "code",
   "execution_count": 24,
   "metadata": {
    "scrolled": true
   },
   "outputs": [
    {
     "name": "stdout",
     "output_type": "stream",
     "text": [
      "The R-Squared is: 0.09947688224524655\n"
     ]
    },
    {
     "data": {
      "image/png": "[encoded data removed]",
      "text/plain": [
       "<Figure size 432x288 with 1 Axes>"
      ]
     },
     "metadata": {
      "needs_background": "light"
     },
     "output_type": "display_data"
    }
   ],
   "source": [
    "regressionPlot(southHemi_df['Lat'],southHemi_df['Cloudiness'],'Latitude','Cloudiness %',-55, 80)"
   ]
  },
  {
   "cell_type": "markdown",
   "metadata": {},
   "source": [
    "####  Northern Hemisphere - Wind Speed (mph) vs. Latitude Linear Regression"
   ]
  },
  {
   "cell_type": "code",
   "execution_count": 25,
   "metadata": {},
   "outputs": [
    {
     "name": "stdout",
     "output_type": "stream",
     "text": [
      "The R-Squared is: 0.19329704320983834\n"
     ]
    },
    {
     "data": {
      "image/png": "[encoded data removed]",
      "text/plain": [
       "<Figure size 432x288 with 1 Axes>"
      ]
     },
     "metadata": {
      "needs_background": "light"
     },
     "output_type": "display_data"
    }
   ],
   "source": [
    "regressionPlot(northHemi_df['Lat'],northHemi_df['Wind Speed'],'Latitude','Wind Speed (MPH)', 0, 20)"
   ]
  },
  {
   "cell_type": "markdown",
   "metadata": {},
   "source": [
    "####  Southern Hemisphere - Wind Speed (mph) vs. Latitude Linear Regression"
   ]
  },
  {
   "cell_type": "code",
   "execution_count": 26,
   "metadata": {},
   "outputs": [
    {
     "name": "stdout",
     "output_type": "stream",
     "text": [
      "The R-Squared is: -0.26328552382876236\n"
     ]
    },
    {
     "data": {
      "image/png": "[encoded data removed]",
      "text/plain": [
       "<Figure size 432x288 with 1 Axes>"
      ]
     },
     "metadata": {
      "needs_background": "light"
     },
     "output_type": "display_data"
    }
   ],
   "source": [
    "regressionPlot(southHemi_df['Lat'],southHemi_df['Wind Speed'],'Latitude','Wind Speed (MPH)',-55, 20)"
   ]
  },
  {
   "cell_type": "code",
   "execution_count": null,
   "metadata": {},
   "outputs": [],
   "source": []
  },
  {
   "cell_type": "code",
   "execution_count": null,
   "metadata": {},
   "outputs": [],
   "source": []
  }
 ],
 "metadata": {
  "anaconda-cloud": {},
  "kernel_info": {
   "name": "python3"
  },
  "kernelspec": {
   "display_name": "Python 3",
   "language": "python",
   "name": "python3"
  },
  "language_info": {
   "codemirror_mode": {
    "name": "ipython",
    "version": 3
   },
   "file_extension": ".py",
   "mimetype": "text/x-python",
   "name": "python",
   "nbconvert_exporter": "python",
   "pygments_lexer": "ipython3",
   "version": "3.7.6"
  },
  "latex_envs": {
   "LaTeX_envs_menu_present": true,
   "autoclose": false,
   "autocomplete": true,
   "bibliofile": "biblio.bib",
   "cite_by": "apalike",
   "current_citInitial": 1,
   "eqLabelWithNumbers": true,
   "eqNumInitial": 1,
   "hotkeys": {
    "equation": "Ctrl-E",
    "itemize": "Ctrl-I"
   },
   "labels_anchors": false,
   "latex_user_defs": false,
   "report_style_numbering": false,
   "user_envs_cfg": false
  },
  "nteract": {
   "version": "0.12.3"
  }
 },
 "nbformat": 4,
 "nbformat_minor": 2
}
